{
  "nbformat": 4,
  "nbformat_minor": 0,
  "metadata": {
    "colab": {
      "name": "oversampling.ipynb",
      "provenance": [],
      "collapsed_sections": [],
      "toc_visible": true,
      "include_colab_link": true
    },
    "kernelspec": {
      "name": "python3",
      "display_name": "Python 3"
    }
  },
  "cells": [
    {
      "cell_type": "markdown",
      "metadata": {
        "id": "view-in-github",
        "colab_type": "text"
      },
      "source": [
        "<a href=\"https://colab.research.google.com/github/jumafernandez/imbalanced_data/blob/main/notebooks/oversampling.ipynb\" target=\"_parent\"><img src=\"https://colab.research.google.com/assets/colab-badge.svg\" alt=\"Open In Colab\"/></a>"
      ]
    },
    {
      "cell_type": "markdown",
      "metadata": {
        "id": "5DuUrVBgeUso"
      },
      "source": [
        "# Evaluación de estrategias de Oversampling\n",
        "\n",
        "__Autor:__ Juan Manuel Fernandez\n",
        "\n",
        "__Objetivo:__ En esta notebook se prueban algunas de las estrategias más conocidas de over-sampling para el remuestreo de datasets a partir de la generación sintética de ejemplos en las clases minoritarias."
      ]
    },
    {
      "cell_type": "markdown",
      "metadata": {
        "id": "FBLanwDJVnFF"
      },
      "source": [
        "## Instalación y Carga de librerías y funciones útiles\n",
        "\n",
        "### Instalación de librerías\n",
        "\n",
        "Se instalan las librerías que no están en el entorno de Google Colab"
      ]
    },
    {
      "cell_type": "code",
      "metadata": {
        "colab": {
          "base_uri": "https://localhost:8080/"
        },
        "id": "644uDER_VnXj",
        "outputId": "36f74be2-d437-42e2-c18b-1997c650c9eb"
      },
      "source": [
        "# Se instala gensim que es el que tiene el modelo Word2Vec\n",
        "!pip install requests\n",
        "!pip install wget\n",
        "!pip install -U imbalanced-learn"
      ],
      "execution_count": 42,
      "outputs": [
        {
          "output_type": "stream",
          "name": "stdout",
          "text": [
            "Looking in indexes: https://pypi.org/simple, https://us-python.pkg.dev/colab-wheels/public/simple/\n",
            "Requirement already satisfied: requests in /usr/local/lib/python3.7/dist-packages (2.23.0)\n",
            "Requirement already satisfied: idna<3,>=2.5 in /usr/local/lib/python3.7/dist-packages (from requests) (2.10)\n",
            "Requirement already satisfied: certifi>=2017.4.17 in /usr/local/lib/python3.7/dist-packages (from requests) (2022.6.15)\n",
            "Requirement already satisfied: chardet<4,>=3.0.2 in /usr/local/lib/python3.7/dist-packages (from requests) (3.0.4)\n",
            "Requirement already satisfied: urllib3!=1.25.0,!=1.25.1,<1.26,>=1.21.1 in /usr/local/lib/python3.7/dist-packages (from requests) (1.24.3)\n",
            "Looking in indexes: https://pypi.org/simple, https://us-python.pkg.dev/colab-wheels/public/simple/\n",
            "Requirement already satisfied: wget in /usr/local/lib/python3.7/dist-packages (3.2)\n",
            "Looking in indexes: https://pypi.org/simple, https://us-python.pkg.dev/colab-wheels/public/simple/\n",
            "Requirement already satisfied: imbalanced-learn in /usr/local/lib/python3.7/dist-packages (0.9.0)\n",
            "Collecting imbalanced-learn\n",
            "  Using cached imbalanced_learn-0.9.1-py3-none-any.whl (199 kB)\n",
            "Requirement already satisfied: scikit-learn>=1.0.1 in /usr/local/lib/python3.7/dist-packages (from imbalanced-learn) (1.0.2)\n",
            "Requirement already satisfied: scipy>=1.1.0 in /usr/local/lib/python3.7/dist-packages (from imbalanced-learn) (1.7.3)\n",
            "Requirement already satisfied: threadpoolctl>=2.0.0 in /usr/local/lib/python3.7/dist-packages (from imbalanced-learn) (3.1.0)\n",
            "Requirement already satisfied: numpy>=1.14.6 in /usr/local/lib/python3.7/dist-packages (from imbalanced-learn) (1.21.6)\n",
            "Requirement already satisfied: joblib>=0.11 in /usr/local/lib/python3.7/dist-packages (from imbalanced-learn) (1.1.0)\n"
          ]
        }
      ]
    },
    {
      "cell_type": "markdown",
      "metadata": {
        "id": "43fDuhK2V1kx"
      },
      "source": [
        "### Funciones útiles\n",
        "\n",
        "Se cargan funciones útiles desde el repo https://github.com/jumafernandez/clasificacion_correos para la carga del dataset."
      ]
    },
    {
      "cell_type": "code",
      "metadata": {
        "id": "oQvZz035bSMf"
      },
      "source": [
        "import requests\n",
        "\n",
        "# Se hace el request del raw del script python\n",
        "url = 'https://raw.githubusercontent.com/jumafernandez/clasificacion_correos/main/tesis/scripts/semi-supervisado/funciones_dataset.py'\n",
        "r = requests.get(url)\n",
        "\n",
        "# Se guarda en el working directory\n",
        "with open('funciones_dataset.py', 'w') as f:\n",
        "    f.write(r.text)\n",
        "\n",
        "# Se importan las funciones a utilizar\n",
        "from funciones_dataset import get_clases, cargar_dataset, consolidar_df"
      ],
      "execution_count": 43,
      "outputs": []
    },
    {
      "cell_type": "markdown",
      "metadata": {
        "id": "MDxjaGIfV-rT"
      },
      "source": [
        "También se carga la función para preprocesar el texto que se usó en los otros modelos desde el repo: https://github.com/jumafernandez/clasificacion_correos."
      ]
    },
    {
      "cell_type": "code",
      "metadata": {
        "id": "o0o2NndLWDVC"
      },
      "source": [
        "import requests\n",
        "\n",
        "# Se hace el request del raw del script python\n",
        "url = 'https://raw.githubusercontent.com/jumafernandez/clasificacion_correos/main/tesis/scripts/supervisado/funciones_preprocesamiento.py'\n",
        "r = requests.get(url)\n",
        "\n",
        "# Se guarda en el working directory\n",
        "with open('funciones_preprocesamiento.py', 'w') as f:\n",
        "    f.write(r.text)\n",
        "\n",
        "# Se importan las funciones a utilizar\n",
        "from funciones_preprocesamiento import preprocesar_correos"
      ],
      "execution_count": 44,
      "outputs": []
    },
    {
      "cell_type": "markdown",
      "source": [
        "Y las utilizadas para la representación de documentos."
      ],
      "metadata": {
        "id": "L4_vfJr5b0g8"
      }
    },
    {
      "cell_type": "code",
      "source": [
        "import requests\n",
        "\n",
        "# Se hace el request del raw del script python\n",
        "url = 'https://raw.githubusercontent.com/jumafernandez/clasificacion_correos/main/tesis/scripts/supervisado/funciones_clasificacion_texto.py'\n",
        "r = requests.get(url)\n",
        "\n",
        "# Se guarda en el working directory\n",
        "with open('funciones_clasificacion_texto.py', 'w') as f:\n",
        "    f.write(r.text)\n",
        "\n",
        "# Se importan las funciones a utilizar\n",
        "from funciones_clasificacion_texto import representacion_documentos"
      ],
      "metadata": {
        "id": "Tje0k3ppbz1N"
      },
      "execution_count": 45,
      "outputs": []
    },
    {
      "cell_type": "markdown",
      "metadata": {
        "id": "-uv6R5UQWWmE"
      },
      "source": [
        "### Carga de datos\n",
        "\n",
        "Se carga el dataframe en memoria con el preprocesamiento de los datos:"
      ]
    },
    {
      "cell_type": "code",
      "metadata": {
        "colab": {
          "base_uri": "https://localhost:8080/"
        },
        "id": "MP4lJ_KVvBSO",
        "outputId": "a577dc7a-434d-44c9-b2dd-e72eca6dacdb"
      },
      "source": [
        "import warnings\n",
        "from os import path\n",
        "import pandas as pd\n",
        "warnings.filterwarnings(\"ignore\")\n",
        "\n",
        "# Constantes con los datos\n",
        "DS_DIR = 'https://raw.githubusercontent.com/jumafernandez/clasificacion_correos/main/tesis/data/'\n",
        "TRAIN_FILE = '02-01-correos-train-80.csv'\n",
        "TEST_FILE = '02-02-correos-test-20.csv'\n",
        "\n",
        "etiquetas = get_clases()\n",
        "\n",
        "# Chequeo sobre si los archivos están en el working directory\n",
        "if not(path.exists(TRAIN_FILE)):\n",
        "  # Genero el enlace completo\n",
        "  URL_file_train = DS_DIR + TRAIN_FILE\n",
        "  URL_file_test = DS_DIR + TEST_FILE\n",
        "  # Descargo los archivos\n",
        "  import wget\n",
        "  wget.download(URL_file_train)\n",
        "  wget.download(URL_file_test)\n",
        "  \n",
        "# Leemos el archivo en un dataframe\n",
        "df_train = pd.read_csv(TRAIN_FILE)\n",
        "df_test = pd.read_csv(TEST_FILE)\n",
        "\n",
        "# Se ejecuta el preprocesamiento de correos sobre el campo Consulta de train y test\n",
        "import pandas as pd\n",
        "consultas_train = list(preprocesar_correos(df_train['consulta']))\n",
        "consultas_test = list(preprocesar_correos(df_test['consulta']))\n",
        "\n",
        "print(f\"\\nEl conjunto de entrenamiento tiene la dimensión: {len(consultas_train)}.\")\n",
        "print(f\"El conjunto de testeo tiene la dimensión: {len(consultas_test)}.\")\n",
        "\n",
        "y_train = list(df_train['clase'])\n",
        "y_test = list(df_test['clase'])"
      ],
      "execution_count": 46,
      "outputs": [
        {
          "output_type": "stream",
          "name": "stdout",
          "text": [
            "\n",
            "El conjunto de entrenamiento tiene la dimensión: 800.\n",
            "El conjunto de testeo tiene la dimensión: 200.\n"
          ]
        }
      ]
    },
    {
      "cell_type": "markdown",
      "source": [
        "### Estrategia de representación de la consulta\n",
        "\n",
        "A continuación se representa la consulta a partir de features."
      ],
      "metadata": {
        "id": "gxsTgb26anF4"
      }
    },
    {
      "cell_type": "code",
      "source": [
        "from sklearn.feature_extraction.text import CountVectorizer, TfidfVectorizer\n",
        "\n",
        "vectorizer = TfidfVectorizer(analyzer='char', ngram_range=(3,4), token_pattern = '[\\w\\/\\%]+')\n",
        "\n",
        "X_train = vectorizer.fit_transform(consultas_train)\n",
        "X_test = vectorizer.transform(consultas_test)     \n",
        "\n",
        "# Esta función va dentro de un iterador entre las 5 estrategias   \n",
        "estrategia = '3-4-NGRAM-CHARS' \n",
        "print('Estrategia de representación: {}' . format(estrategia))\n",
        "\n"
      ],
      "metadata": {
        "colab": {
          "base_uri": "https://localhost:8080/"
        },
        "id": "2k5RzZxhamWm",
        "outputId": "971bdb10-bbf1-469c-9d82-c41a91a8cd3d"
      },
      "execution_count": 47,
      "outputs": [
        {
          "output_type": "stream",
          "name": "stdout",
          "text": [
            "Estrategia de representación: 3-4-NGRAM-CHARS\n"
          ]
        }
      ]
    },
    {
      "cell_type": "markdown",
      "metadata": {
        "id": "17obw6uxVN21"
      },
      "source": [
        "## Estrategias de Over-sampling\n",
        "\n",
        "Se trabaja con las estrategias de over-sampling."
      ]
    },
    {
      "cell_type": "markdown",
      "source": [
        "### Sobremuestreo aleatorio ingenuo (RandomOverSampler)\n",
        "\n",
        "Una forma de combatir este problema es generar nuevas muestras en las clases que están subrepresentadas. La estrategia más ingenua es generar nuevas muestras mediante muestreo aleatorio con reemplazo de las muestras disponibles actualmente."
      ],
      "metadata": {
        "id": "Q56P8R7DaIfB"
      }
    },
    {
      "cell_type": "code",
      "source": [
        "from imblearn.over_sampling import RandomOverSampler\n",
        "\n",
        "ros = RandomOverSampler(random_state=0)\n",
        "\n",
        "X_resampled_ros, y_resampled_ros = ros.fit_resample(X_train, y_train)"
      ],
      "metadata": {
        "id": "HGFGTgwXZ_bi"
      },
      "execution_count": 48,
      "outputs": []
    },
    {
      "cell_type": "code",
      "source": [
        "import numpy as np\n",
        "\n",
        "unique, counts = np.unique(y_resampled_ros, return_counts=True)\n",
        "\n",
        "np.asarray((unique, counts)).T"
      ],
      "metadata": {
        "colab": {
          "base_uri": "https://localhost:8080/"
        },
        "id": "_bFGW5FpxGx8",
        "outputId": "17f5a33f-e775-4714-abe1-008f355337f4"
      },
      "execution_count": 49,
      "outputs": [
        {
          "output_type": "execute_result",
          "data": {
            "text/plain": [
              "array([['Boleto Universitario', '193'],\n",
              "       ['Cambio de Carrera', '193'],\n",
              "       ['Cambio de Comisión', '193'],\n",
              "       ['Consulta por Equivalencias', '193'],\n",
              "       ['Consulta por Legajo', '193'],\n",
              "       ['Consulta sobre Título Universitario', '193'],\n",
              "       ['Cursadas', '193'],\n",
              "       ['Datos Personales', '193'],\n",
              "       ['Exámenes', '193'],\n",
              "       ['Ingreso a la Universidad', '193'],\n",
              "       ['Pedido de Certificados', '193'],\n",
              "       ['Problemas con la Clave', '193'],\n",
              "       ['Reincorporación', '193'],\n",
              "       ['Requisitos de Ingreso', '193'],\n",
              "       ['Simultaneidad de Carreras', '193'],\n",
              "       ['Situación Académica', '193']], dtype='<U35')"
            ]
          },
          "metadata": {},
          "execution_count": 49
        }
      ]
    },
    {
      "cell_type": "markdown",
      "source": [
        "### SMOTE\n",
        "\n",
        "Hay una serie de métodos disponibles para sobremuestrear un conjunto de datos utilizado en un problema de clasificación típico, siendo el más utilizado SMOTE."
      ],
      "metadata": {
        "id": "_64hGnJ_uS0v"
      }
    },
    {
      "cell_type": "code",
      "source": [
        "from imblearn.over_sampling import SMOTE\n",
        "\n",
        "X_resampled_smote, y_resampled_smote = SMOTE().fit_resample(X_train, y_train)"
      ],
      "metadata": {
        "id": "01UaWmyduTQ2"
      },
      "execution_count": 50,
      "outputs": []
    },
    {
      "cell_type": "code",
      "source": [
        "import numpy as np\n",
        "\n",
        "unique, counts = np.unique(y_resampled_smote, return_counts=True)\n",
        "\n",
        "np.asarray((unique, counts)).T"
      ],
      "metadata": {
        "colab": {
          "base_uri": "https://localhost:8080/"
        },
        "id": "kumk29Gmu9qx",
        "outputId": "4a5e2e20-9c16-4c14-bbb0-38376851b5a7"
      },
      "execution_count": 51,
      "outputs": [
        {
          "output_type": "execute_result",
          "data": {
            "text/plain": [
              "array([['Boleto Universitario', '193'],\n",
              "       ['Cambio de Carrera', '193'],\n",
              "       ['Cambio de Comisión', '193'],\n",
              "       ['Consulta por Equivalencias', '193'],\n",
              "       ['Consulta por Legajo', '193'],\n",
              "       ['Consulta sobre Título Universitario', '193'],\n",
              "       ['Cursadas', '193'],\n",
              "       ['Datos Personales', '193'],\n",
              "       ['Exámenes', '193'],\n",
              "       ['Ingreso a la Universidad', '193'],\n",
              "       ['Pedido de Certificados', '193'],\n",
              "       ['Problemas con la Clave', '193'],\n",
              "       ['Reincorporación', '193'],\n",
              "       ['Requisitos de Ingreso', '193'],\n",
              "       ['Simultaneidad de Carreras', '193'],\n",
              "       ['Situación Académica', '193']], dtype='<U35')"
            ]
          },
          "metadata": {},
          "execution_count": 51
        }
      ]
    },
    {
      "cell_type": "markdown",
      "source": [
        "### ADASYN\n",
        "\n",
        "Hay una serie de métodos disponibles para sobremuestrear un conjunto de datos utilizado en un problema de clasificación típico, siendo el más utilizado SMOTE."
      ],
      "metadata": {
        "id": "N2pE0UsI4_lA"
      }
    },
    {
      "cell_type": "code",
      "source": [
        "from imblearn.over_sampling import ADASYN\n",
        "\n",
        "X_resampled_adasyn, y_resampled_adasyn = ADASYN().fit_resample(X_train, y_train)"
      ],
      "metadata": {
        "id": "wwlYbhOd5BGv"
      },
      "execution_count": 52,
      "outputs": []
    },
    {
      "cell_type": "code",
      "source": [
        "import numpy as np\n",
        "\n",
        "unique, counts = np.unique(y_resampled_adasyn, return_counts=True)\n",
        "\n",
        "np.asarray((unique, counts)).T"
      ],
      "metadata": {
        "colab": {
          "base_uri": "https://localhost:8080/"
        },
        "id": "MlFqi5j65BJ-",
        "outputId": "f3933824-0e06-4a0c-d3a9-358b740efb23"
      },
      "execution_count": 53,
      "outputs": [
        {
          "output_type": "execute_result",
          "data": {
            "text/plain": [
              "array([['Boleto Universitario', '193'],\n",
              "       ['Cambio de Carrera', '194'],\n",
              "       ['Cambio de Comisión', '193'],\n",
              "       ['Consulta por Equivalencias', '194'],\n",
              "       ['Consulta por Legajo', '193'],\n",
              "       ['Consulta sobre Título Universitario', '193'],\n",
              "       ['Cursadas', '182'],\n",
              "       ['Datos Personales', '192'],\n",
              "       ['Exámenes', '193'],\n",
              "       ['Ingreso a la Universidad', '177'],\n",
              "       ['Pedido de Certificados', '194'],\n",
              "       ['Problemas con la Clave', '184'],\n",
              "       ['Reincorporación', '198'],\n",
              "       ['Requisitos de Ingreso', '197'],\n",
              "       ['Simultaneidad de Carreras', '191'],\n",
              "       ['Situación Académica', '188']], dtype='<U35')"
            ]
          },
          "metadata": {},
          "execution_count": 53
        }
      ]
    },
    {
      "cell_type": "markdown",
      "source": [
        "### BorderlineSMOTE"
      ],
      "metadata": {
        "id": "OUad5hvy5NLT"
      }
    },
    {
      "cell_type": "code",
      "source": [
        "from imblearn.over_sampling import BorderlineSMOTE\n",
        "\n",
        "X_resampled_border, y_resampled_border = BorderlineSMOTE().fit_resample(X_train, y_train)"
      ],
      "metadata": {
        "id": "LVrPDgXn5NVF"
      },
      "execution_count": 54,
      "outputs": []
    },
    {
      "cell_type": "code",
      "source": [
        "import numpy as np\n",
        "\n",
        "unique, counts = np.unique(y_resampled_border, return_counts=True)\n",
        "\n",
        "np.asarray((unique, counts)).T"
      ],
      "metadata": {
        "colab": {
          "base_uri": "https://localhost:8080/"
        },
        "id": "7TzhXgNE5NYc",
        "outputId": "8a8d0141-5eca-4a57-a1a1-0888e022e8e2"
      },
      "execution_count": 55,
      "outputs": [
        {
          "output_type": "execute_result",
          "data": {
            "text/plain": [
              "array([['Boleto Universitario', '193'],\n",
              "       ['Cambio de Carrera', '193'],\n",
              "       ['Cambio de Comisión', '193'],\n",
              "       ['Consulta por Equivalencias', '193'],\n",
              "       ['Consulta por Legajo', '193'],\n",
              "       ['Consulta sobre Título Universitario', '193'],\n",
              "       ['Cursadas', '193'],\n",
              "       ['Datos Personales', '6'],\n",
              "       ['Exámenes', '193'],\n",
              "       ['Ingreso a la Universidad', '193'],\n",
              "       ['Pedido de Certificados', '193'],\n",
              "       ['Problemas con la Clave', '193'],\n",
              "       ['Reincorporación', '193'],\n",
              "       ['Requisitos de Ingreso', '193'],\n",
              "       ['Simultaneidad de Carreras', '193'],\n",
              "       ['Situación Académica', '193']], dtype='<U35')"
            ]
          },
          "metadata": {},
          "execution_count": 55
        }
      ]
    },
    {
      "cell_type": "markdown",
      "metadata": {
        "id": "fiAo2N8TX-ao"
      },
      "source": [
        "## Generación de Modelos\n",
        "\n",
        "Se generan modelos en función de los datos originales como así también a partir de las estrategias de oversampling.\n",
        "\n",
        "Se define el espacio de búsqueda para el ajuste de hiperparámetros de todos los modelos:"
      ]
    },
    {
      "cell_type": "code",
      "metadata": {
        "id": "k3TOc1GcX-rg"
      },
      "source": [
        "BUSCA_MEJOR_MODELO = True\n",
        "\n",
        "if BUSCA_MEJOR_MODELO:\n",
        "  # Defino los parámetros para GridSearchCV\n",
        "  params_svm = {'C': [0.01, 0.1, 1], \n",
        "                'gamma': [0.1, 0.01],\n",
        "                'class_weight': [None, 'balanced'],\n",
        "                'kernel': ['rbf', 'linear', 'sigmoid']\n",
        "                }"
      ],
      "execution_count": 56,
      "outputs": []
    },
    {
      "cell_type": "markdown",
      "source": [
        "Se importan las librerías a utilizar:"
      ],
      "metadata": {
        "id": "ZK-F5MDkPc4z"
      }
    },
    {
      "cell_type": "code",
      "source": [
        "import time\n",
        "from sklearn.svm import SVC\n",
        "from sklearn.model_selection import GridSearchCV\n",
        "\n",
        "# Vemos un reporte de clasificación de varias métricas\n",
        "from imblearn.metrics import classification_report_imbalanced\n",
        "from sklearn.metrics import accuracy_score\n"
      ],
      "metadata": {
        "id": "ARDNCIIFPc_S"
      },
      "execution_count": 57,
      "outputs": []
    },
    {
      "cell_type": "markdown",
      "metadata": {
        "id": "lmnm8yPmYGAR"
      },
      "source": [
        "### Modelo con dataset original, sin remuestreo\n",
        "\n",
        "Se ejecuta el ajuste de hiperparámetros para cada estrategia de representación en función del espacio de búsqueda:"
      ]
    },
    {
      "cell_type": "code",
      "source": [
        "# Calculo la hora actual\n",
        "hora_actual = time.strftime('%H:%M:%S', time.localtime())\n",
        "\n",
        "grid_search=GridSearchCV(SVC(), param_grid=params_svm, cv=None, n_jobs=-1, verbose=3)\n",
        "grid_search.fit(X_train, y_train)\n",
        "\n",
        "# Se realizan las predicciones sobre el conjunto de validación\n",
        "predictions = grid_search.predict(X_test) \n",
        "\n",
        "# Modelo a \"mano\"\n",
        "#clf = SVC(C=0.1, class_weight='balanced', gamma=0.01, kernel='linear')\n",
        "#clf.fit(X_resampled, y_resampled)\n",
        "#clf.fit(X_train, y_train)\n",
        "# Genero las clases para los casos de prueba, según el modelo\n",
        "#predictions = clf.predict(X_test)"
      ],
      "metadata": {
        "colab": {
          "base_uri": "https://localhost:8080/"
        },
        "id": "G3A1WvPaenJH",
        "outputId": "4da7459d-059e-43d5-e685-d1a8a1e39ff8"
      },
      "execution_count": 58,
      "outputs": [
        {
          "output_type": "stream",
          "name": "stdout",
          "text": [
            "Fitting 5 folds for each of 36 candidates, totalling 180 fits\n"
          ]
        }
      ]
    },
    {
      "cell_type": "code",
      "source": [
        "print(classification_report_imbalanced(y_test, predictions, target_names=etiquetas))\n",
        "print(f'Accuracy: {accuracy_score(y_test, predictions)}')"
      ],
      "metadata": {
        "colab": {
          "base_uri": "https://localhost:8080/"
        },
        "id": "uf1ZVfbBjc87",
        "outputId": "890a2376-89c8-48a0-af5c-d8941074891a"
      },
      "execution_count": 59,
      "outputs": [
        {
          "output_type": "stream",
          "name": "stdout",
          "text": [
            "                                           pre       rec       spe        f1       geo       iba       sup\n",
            "\n",
            "               Boleto Universitario       1.00      0.98      1.00      0.99      0.99      0.98        48\n",
            "                  Cambio de Carrera       0.00      0.00      0.99      0.00      0.00      0.00         2\n",
            "                 Cambio de Comisión       0.00      0.00      1.00      0.00      0.00      0.00         2\n",
            "         Consulta por Equivalencias       1.00      0.33      1.00      0.50      0.58      0.31         3\n",
            "                Consulta por Legajo       0.75      1.00      0.99      0.86      1.00      1.00         3\n",
            "Consulta sobre Título Universitario       0.50      0.33      0.99      0.40      0.58      0.31         3\n",
            "                           Cursadas       0.47      0.89      0.90      0.62      0.89      0.80        19\n",
            "                   Datos Personales       0.00      0.00      1.00      0.00      0.00      0.00         2\n",
            "                           Exámenes       1.00      0.60      1.00      0.75      0.77      0.58         5\n",
            "           Ingreso a la Universidad       0.84      0.79      0.97      0.81      0.87      0.75        33\n",
            "             Pedido de Certificados       0.94      1.00      0.99      0.97      1.00      1.00        15\n",
            "             Problemas con la Clave       0.92      0.96      0.99      0.94      0.97      0.94        23\n",
            "                    Reincorporación       0.73      0.73      0.98      0.73      0.85      0.70        11\n",
            "              Requisitos de Ingreso       0.84      0.67      0.98      0.74      0.81      0.63        24\n",
            "          Simultaneidad de Carreras       0.00      0.00      1.00      0.00      0.00      0.00         1\n",
            "                Situación Académica       0.60      0.50      0.99      0.55      0.70      0.47         6\n",
            "\n",
            "                        avg / total       0.82      0.81      0.98      0.80      0.87      0.78       200\n",
            "\n",
            "Accuracy: 0.81\n"
          ]
        }
      ]
    },
    {
      "cell_type": "markdown",
      "source": [
        "### Modelo con el oversampling de RamdomOverSampler"
      ],
      "metadata": {
        "id": "CLzmbhBqkmRU"
      }
    },
    {
      "cell_type": "code",
      "source": [
        "# Calculo la hora actual\n",
        "hora_actual = time.strftime('%H:%M:%S', time.localtime())\n",
        "\n",
        "grid_search=GridSearchCV(SVC(), param_grid=params_svm, cv=None, n_jobs=-1, verbose=3)\n",
        "grid_search.fit(X_resampled_ros, y_resampled_ros)\n",
        "\n",
        "# Se realizan las predicciones sobre el conjunto de validación\n",
        "predictions = grid_search.predict(X_test)"
      ],
      "metadata": {
        "colab": {
          "base_uri": "https://localhost:8080/"
        },
        "id": "cRp-d49Uklvy",
        "outputId": "e90b9c88-7b9f-4c7c-e151-bc0d9bd3525b"
      },
      "execution_count": 60,
      "outputs": [
        {
          "output_type": "stream",
          "name": "stdout",
          "text": [
            "Fitting 5 folds for each of 36 candidates, totalling 180 fits\n"
          ]
        }
      ]
    },
    {
      "cell_type": "code",
      "source": [
        "print(classification_report_imbalanced(y_test, predictions, target_names=etiquetas))\n",
        "print(f'Accuracy: {accuracy_score(y_test, predictions)}')"
      ],
      "metadata": {
        "id": "AsarHv69kyTY",
        "colab": {
          "base_uri": "https://localhost:8080/"
        },
        "outputId": "a744060a-6940-4ea6-f807-8158056778eb"
      },
      "execution_count": 61,
      "outputs": [
        {
          "output_type": "stream",
          "name": "stdout",
          "text": [
            "                                           pre       rec       spe        f1       geo       iba       sup\n",
            "\n",
            "               Boleto Universitario       1.00      0.98      1.00      0.99      0.99      0.98        48\n",
            "                  Cambio de Carrera       0.00      0.00      0.99      0.00      0.00      0.00         2\n",
            "                 Cambio de Comisión       0.00      0.00      1.00      0.00      0.00      0.00         2\n",
            "         Consulta por Equivalencias       1.00      0.33      1.00      0.50      0.58      0.31         3\n",
            "                Consulta por Legajo       0.75      1.00      0.99      0.86      1.00      1.00         3\n",
            "Consulta sobre Título Universitario       0.50      0.33      0.99      0.40      0.58      0.31         3\n",
            "                           Cursadas       0.50      0.89      0.91      0.64      0.90      0.81        19\n",
            "                   Datos Personales       0.00      0.00      1.00      0.00      0.00      0.00         2\n",
            "                           Exámenes       1.00      0.40      1.00      0.57      0.63      0.38         5\n",
            "           Ingreso a la Universidad       0.82      0.82      0.96      0.82      0.89      0.78        33\n",
            "             Pedido de Certificados       0.94      1.00      0.99      0.97      1.00      1.00        15\n",
            "             Problemas con la Clave       0.92      0.96      0.99      0.94      0.97      0.94        23\n",
            "                    Reincorporación       0.67      0.55      0.98      0.60      0.73      0.51        11\n",
            "              Requisitos de Ingreso       0.82      0.75      0.98      0.78      0.86      0.72        24\n",
            "          Simultaneidad de Carreras       0.00      0.00      1.00      0.00      0.00      0.00         1\n",
            "                Situación Académica       0.60      0.50      0.99      0.55      0.70      0.47         6\n",
            "\n",
            "                        avg / total       0.81      0.81      0.98      0.80      0.87      0.78       200\n",
            "\n",
            "Accuracy: 0.81\n"
          ]
        }
      ]
    },
    {
      "cell_type": "markdown",
      "source": [
        "### Modelo con el oversampling de SMOTE"
      ],
      "metadata": {
        "id": "vBCmlZ-cvGCv"
      }
    },
    {
      "cell_type": "code",
      "source": [
        "# Calculo la hora actual\n",
        "hora_actual = time.strftime('%H:%M:%S', time.localtime())\n",
        "\n",
        "grid_search=GridSearchCV(SVC(), param_grid=params_svm, cv=None, n_jobs=-1, verbose=3)\n",
        "grid_search.fit(X_resampled_smote, y_resampled_smote)\n",
        "\n",
        "# Se realizan las predicciones sobre el conjunto de validación\n",
        "predictions = grid_search.predict(X_test)"
      ],
      "metadata": {
        "id": "P5wLQ7owvJcC",
        "colab": {
          "base_uri": "https://localhost:8080/"
        },
        "outputId": "a38f30d0-df03-4239-9fcd-030c370ca21c"
      },
      "execution_count": 62,
      "outputs": [
        {
          "output_type": "stream",
          "name": "stdout",
          "text": [
            "Fitting 5 folds for each of 36 candidates, totalling 180 fits\n"
          ]
        }
      ]
    },
    {
      "cell_type": "code",
      "source": [
        "print(classification_report_imbalanced(y_test, predictions, target_names=etiquetas))\n",
        "print(f'Accuracy: {accuracy_score(y_test, predictions)}')"
      ],
      "metadata": {
        "id": "a09Pd4xLvJfa",
        "colab": {
          "base_uri": "https://localhost:8080/"
        },
        "outputId": "7c806856-4aca-4434-b338-e3d8eba20806"
      },
      "execution_count": 63,
      "outputs": [
        {
          "output_type": "stream",
          "name": "stdout",
          "text": [
            "                                           pre       rec       spe        f1       geo       iba       sup\n",
            "\n",
            "               Boleto Universitario       1.00      0.98      1.00      0.99      0.99      0.98        48\n",
            "                  Cambio de Carrera       0.00      0.00      0.99      0.00      0.00      0.00         2\n",
            "                 Cambio de Comisión       0.00      0.00      1.00      0.00      0.00      0.00         2\n",
            "         Consulta por Equivalencias       1.00      0.33      1.00      0.50      0.58      0.31         3\n",
            "                Consulta por Legajo       0.75      1.00      0.99      0.86      1.00      1.00         3\n",
            "Consulta sobre Título Universitario       0.50      0.33      0.99      0.40      0.58      0.31         3\n",
            "                           Cursadas       0.49      0.89      0.90      0.63      0.90      0.81        19\n",
            "                   Datos Personales       0.00      0.00      1.00      0.00      0.00      0.00         2\n",
            "                           Exámenes       1.00      0.40      1.00      0.57      0.63      0.38         5\n",
            "           Ingreso a la Universidad       0.82      0.82      0.96      0.82      0.89      0.78        33\n",
            "             Pedido de Certificados       0.94      1.00      0.99      0.97      1.00      1.00        15\n",
            "             Problemas con la Clave       0.88      0.96      0.98      0.92      0.97      0.94        23\n",
            "                    Reincorporación       0.67      0.55      0.98      0.60      0.73      0.51        11\n",
            "              Requisitos de Ingreso       0.85      0.71      0.98      0.77      0.83      0.68        24\n",
            "          Simultaneidad de Carreras       0.00      0.00      1.00      0.00      0.00      0.00         1\n",
            "                Situación Académica       0.60      0.50      0.99      0.55      0.70      0.47         6\n",
            "\n",
            "                        avg / total       0.81      0.81      0.98      0.79      0.87      0.78       200\n",
            "\n",
            "Accuracy: 0.805\n"
          ]
        }
      ]
    },
    {
      "cell_type": "markdown",
      "source": [
        "### Modelo con el oversampling de ADASYN"
      ],
      "metadata": {
        "id": "qIPrlR716HUD"
      }
    },
    {
      "cell_type": "code",
      "source": [
        "# Calculo la hora actual\n",
        "hora_actual = time.strftime('%H:%M:%S', time.localtime())\n",
        "\n",
        "grid_search=GridSearchCV(SVC(), param_grid=params_svm, cv=None, n_jobs=-1, verbose=3)\n",
        "grid_search.fit(X_resampled_adasyn, y_resampled_adasyn)\n",
        "\n",
        "# Se realizan las predicciones sobre el conjunto de validación\n",
        "predictions = grid_search.predict(X_test)"
      ],
      "metadata": {
        "id": "aF14fyvY6HeN",
        "colab": {
          "base_uri": "https://localhost:8080/"
        },
        "outputId": "b684f0cc-417c-4780-ba11-d0f9c788da93"
      },
      "execution_count": 64,
      "outputs": [
        {
          "output_type": "stream",
          "name": "stdout",
          "text": [
            "Fitting 5 folds for each of 36 candidates, totalling 180 fits\n"
          ]
        }
      ]
    },
    {
      "cell_type": "code",
      "source": [
        "print(classification_report_imbalanced(y_test, predictions, target_names=etiquetas))\n",
        "print(f'Accuracy: {accuracy_score(y_test, predictions)}')"
      ],
      "metadata": {
        "id": "oTK8MT916Hhf",
        "colab": {
          "base_uri": "https://localhost:8080/"
        },
        "outputId": "05ea4570-6c55-472f-86d5-85af4c78e988"
      },
      "execution_count": 65,
      "outputs": [
        {
          "output_type": "stream",
          "name": "stdout",
          "text": [
            "                                           pre       rec       spe        f1       geo       iba       sup\n",
            "\n",
            "               Boleto Universitario       1.00      0.98      1.00      0.99      0.99      0.98        48\n",
            "                  Cambio de Carrera       0.00      0.00      0.99      0.00      0.00      0.00         2\n",
            "                 Cambio de Comisión       0.00      0.00      1.00      0.00      0.00      0.00         2\n",
            "         Consulta por Equivalencias       1.00      0.33      1.00      0.50      0.58      0.31         3\n",
            "                Consulta por Legajo       0.75      1.00      0.99      0.86      1.00      1.00         3\n",
            "Consulta sobre Título Universitario       0.50      0.33      0.99      0.40      0.58      0.31         3\n",
            "                           Cursadas       0.49      0.89      0.90      0.63      0.90      0.81        19\n",
            "                   Datos Personales       0.00      0.00      1.00      0.00      0.00      0.00         2\n",
            "                           Exámenes       1.00      0.40      1.00      0.57      0.63      0.38         5\n",
            "           Ingreso a la Universidad       0.82      0.82      0.96      0.82      0.89      0.78        33\n",
            "             Pedido de Certificados       0.94      1.00      0.99      0.97      1.00      1.00        15\n",
            "             Problemas con la Clave       0.92      0.96      0.99      0.94      0.97      0.94        23\n",
            "                    Reincorporación       0.67      0.55      0.98      0.60      0.73      0.51        11\n",
            "              Requisitos de Ingreso       0.82      0.75      0.98      0.78      0.86      0.72        24\n",
            "          Simultaneidad de Carreras       0.00      0.00      1.00      0.00      0.00      0.00         1\n",
            "                Situación Académica       0.75      0.50      0.99      0.60      0.71      0.47         6\n",
            "\n",
            "                        avg / total       0.81      0.81      0.98      0.80      0.87      0.78       200\n",
            "\n",
            "Accuracy: 0.81\n"
          ]
        }
      ]
    },
    {
      "cell_type": "markdown",
      "source": [
        "### Modelo con el oversampling de BorderSMOTE"
      ],
      "metadata": {
        "id": "vQ9BksEj6fDH"
      }
    },
    {
      "cell_type": "code",
      "source": [
        "# Calculo la hora actual\n",
        "hora_actual = time.strftime('%H:%M:%S', time.localtime())\n",
        "\n",
        "grid_search=GridSearchCV(SVC(), param_grid=params_svm, cv=None, n_jobs=-1, verbose=3)\n",
        "grid_search.fit(X_resampled_border, y_resampled_border)\n",
        "\n",
        "# Se realizan las predicciones sobre el conjunto de validación\n",
        "predictions = grid_search.predict(X_test)"
      ],
      "metadata": {
        "id": "CLE2ZCWl6jCX",
        "colab": {
          "base_uri": "https://localhost:8080/"
        },
        "outputId": "396585c4-c5bf-44ac-b5da-9b904a2bbe25"
      },
      "execution_count": 66,
      "outputs": [
        {
          "output_type": "stream",
          "name": "stdout",
          "text": [
            "Fitting 5 folds for each of 36 candidates, totalling 180 fits\n"
          ]
        }
      ]
    },
    {
      "cell_type": "code",
      "source": [
        "print(classification_report_imbalanced(y_test, predictions, target_names=etiquetas))\n",
        "print(f'Accuracy: {accuracy_score(y_test, predictions)}')"
      ],
      "metadata": {
        "id": "8cNAauMm6jFK",
        "colab": {
          "base_uri": "https://localhost:8080/"
        },
        "outputId": "9ff40703-c5ac-4d62-ff1e-b2ae81b0cafc"
      },
      "execution_count": 67,
      "outputs": [
        {
          "output_type": "stream",
          "name": "stdout",
          "text": [
            "                                           pre       rec       spe        f1       geo       iba       sup\n",
            "\n",
            "               Boleto Universitario       1.00      0.98      1.00      0.99      0.99      0.98        48\n",
            "                  Cambio de Carrera       0.00      0.00      0.99      0.00      0.00      0.00         2\n",
            "                 Cambio de Comisión       0.00      0.00      1.00      0.00      0.00      0.00         2\n",
            "         Consulta por Equivalencias       1.00      0.33      1.00      0.50      0.58      0.31         3\n",
            "                Consulta por Legajo       0.75      1.00      0.99      0.86      1.00      1.00         3\n",
            "Consulta sobre Título Universitario       0.50      0.33      0.99      0.40      0.58      0.31         3\n",
            "                           Cursadas       0.47      0.84      0.90      0.60      0.87      0.75        19\n",
            "                   Datos Personales       0.00      0.00      1.00      0.00      0.00      0.00         2\n",
            "                           Exámenes       1.00      0.40      1.00      0.57      0.63      0.38         5\n",
            "           Ingreso a la Universidad       0.82      0.82      0.96      0.82      0.89      0.78        33\n",
            "             Pedido de Certificados       0.94      1.00      0.99      0.97      1.00      1.00        15\n",
            "             Problemas con la Clave       0.92      0.96      0.99      0.94      0.97      0.94        23\n",
            "                    Reincorporación       0.67      0.55      0.98      0.60      0.73      0.51        11\n",
            "              Requisitos de Ingreso       0.78      0.75      0.97      0.77      0.85      0.71        24\n",
            "          Simultaneidad de Carreras       0.00      0.00      1.00      0.00      0.00      0.00         1\n",
            "                Situación Académica       0.75      0.50      0.99      0.60      0.71      0.47         6\n",
            "\n",
            "                        avg / total       0.81      0.81      0.98      0.79      0.87      0.78       200\n",
            "\n",
            "Accuracy: 0.805\n"
          ]
        }
      ]
    },
    {
      "cell_type": "markdown",
      "source": [
        "## Matriz de confusión\n",
        "\n",
        "Se genera una matriz de confusión de uno de los modelos."
      ],
      "metadata": {
        "id": "VK-MDpoc6OFC"
      }
    },
    {
      "cell_type": "code",
      "metadata": {
        "id": "yUAbLleKZsS1",
        "colab": {
          "base_uri": "https://localhost:8080/",
          "height": 792
        },
        "outputId": "bfcfbd04-97a5-467b-92d7-b3234c9cd235"
      },
      "source": [
        "def matriz_confusion(y_real, y_predictions):\n",
        "  \"\"\"\n",
        "  Grafica una matriz de confusión con seaborn en función de la clase observada\n",
        "  y la clase predicha.\n",
        "  \"\"\"\n",
        "\n",
        "  import numpy as np\n",
        "  from sklearn import metrics\n",
        "  import seaborn as sns\n",
        "  import matplotlib.pyplot as plt\n",
        "  \n",
        "  matriz_confusion = metrics.confusion_matrix(y_real, y_predictions).T\n",
        "  etiquetas = np.unique(y_real)\n",
        "\n",
        "  sns.set()\n",
        "  my_mask = np.zeros((matriz_confusion.shape[0], matriz_confusion.shape[0]), dtype=int)\n",
        "  for i in range(matriz_confusion.shape[0]):\n",
        "      for j in range(matriz_confusion.shape[0]):\n",
        "          my_mask[i][j] = matriz_confusion[i][j] == 0 \n",
        "    \n",
        "  fig_dims = (10, 10)\n",
        "  plt.subplots(figsize=fig_dims)\n",
        "\n",
        "  ax = sns.heatmap(matriz_confusion,\n",
        "                  xticklabels=etiquetas,\n",
        "                  annot=True, \n",
        "                  fmt=\"d\", \n",
        "                  linewidths=.5, \n",
        "                  cmap=\"Blues\", \n",
        "                  cbar=False, \n",
        "                  mask=my_mask, \n",
        "                  vmax=15)\n",
        "\n",
        "  plt.gcf().set_size_inches(10, 10)\n",
        "  plt.xticks(rotation=90, ha=\"center\")\n",
        "  plt.yticks(np.arange(len(etiquetas))+0.5, etiquetas, rotation='horizontal')\n",
        "\n",
        "  plt.xlabel('Clase Real')\n",
        "  plt.ylabel('Clase Predicha');\n",
        "\n",
        "  plt.show()\n",
        "\n",
        "matriz_confusion(y_test, predictions)"
      ],
      "execution_count": 68,
      "outputs": [
        {
          "output_type": "display_data",
          "data": {
            "text/plain": [
              "<Figure size 720x720 with 1 Axes>"
            ],
            "image/png": "[encoded data removed]"
          },
          "metadata": {}
        }
      ]
    },
    {
      "cell_type": "markdown",
      "metadata": {
        "id": "0a1K2447qjxE"
      },
      "source": [
        "# Referencias\n",
        "- imbalanced-learn documentation https://imbalanced-learn.org/\n",
        "- sklearn.model_selection.GridSearchCV https://scikit-learn.org/stable/modules/generated/sklearn.model_selection.GridSearchCV.html\n",
        "- ML Pipelines using scikit-learn and GridSearchCV https://medium.com/analytics-vidhya/ml-pipelines-using-scikit-learn-and-gridsearchcv-fe605a7f9e05"
      ]
    }
  ]
}