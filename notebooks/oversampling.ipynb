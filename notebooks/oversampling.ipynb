{
  "nbformat": 4,
  "nbformat_minor": 0,
  "metadata": {
    "colab": {
      "name": "oversampling.ipynb",
      "provenance": [],
      "collapsed_sections": [],
      "toc_visible": true,
      "include_colab_link": true
    },
    "kernelspec": {
      "name": "python3",
      "display_name": "Python 3"
    }
  },
  "cells": [
    {
      "cell_type": "markdown",
      "metadata": {
        "id": "view-in-github",
        "colab_type": "text"
      },
      "source": [
        "<a href=\"https://colab.research.google.com/github/jumafernandez/imbalanced_data/blob/main/notebooks/oversampling.ipynb\" target=\"_parent\"><img src=\"https://colab.research.google.com/assets/colab-badge.svg\" alt=\"Open In Colab\"/></a>"
      ]
    },
    {
      "cell_type": "markdown",
      "metadata": {
        "id": "5DuUrVBgeUso"
      },
      "source": [
        "# Evaluación de estrategias de Oversampling\n",
        "\n",
        "__Autor:__ Juan Manuel Fernandez\n",
        "\n",
        "__Objetivo:__ En esta notebook se prueban algunas de las estrategias más conocidas de over-sampling para el remuestreo de datasets a partir de la generación sintética de ejemplos en las clases minoritarias."
      ]
    },
    {
      "cell_type": "markdown",
      "metadata": {
        "id": "FBLanwDJVnFF"
      },
      "source": [
        "## Instalación y Carga de librerías y funciones útiles\n",
        "\n",
        "### Instalación de librerías\n",
        "\n",
        "Se instalan las librerías que no están en el entorno de Google Colab"
      ]
    },
    {
      "cell_type": "code",
      "metadata": {
        "colab": {
          "base_uri": "https://localhost:8080/"
        },
        "id": "644uDER_VnXj",
        "outputId": "1a413dd9-44c8-4f01-e775-6c35a65a4cd8"
      },
      "source": [
        "# Se instala gensim que es el que tiene el modelo Word2Vec\n",
        "!pip install requests\n",
        "!pip install wget\n",
        "!pip install -U imbalanced-learn"
      ],
      "execution_count": 1,
      "outputs": [
        {
          "output_type": "stream",
          "name": "stdout",
          "text": [
            "Requirement already satisfied: requests in /usr/local/lib/python3.7/dist-packages (2.23.0)\n",
            "Requirement already satisfied: idna<3,>=2.5 in /usr/local/lib/python3.7/dist-packages (from requests) (2.10)\n",
            "Requirement already satisfied: urllib3!=1.25.0,!=1.25.1,<1.26,>=1.21.1 in /usr/local/lib/python3.7/dist-packages (from requests) (1.24.3)\n",
            "Requirement already satisfied: certifi>=2017.4.17 in /usr/local/lib/python3.7/dist-packages (from requests) (2021.10.8)\n",
            "Requirement already satisfied: chardet<4,>=3.0.2 in /usr/local/lib/python3.7/dist-packages (from requests) (3.0.4)\n",
            "Collecting wget\n",
            "  Downloading wget-3.2.zip (10 kB)\n",
            "Building wheels for collected packages: wget\n",
            "  Building wheel for wget (setup.py) ... \u001b[?25l\u001b[?25hdone\n",
            "  Created wheel for wget: filename=wget-3.2-py3-none-any.whl size=9675 sha256=7190261042b3d021dd1df972fc5580393b93b683ae36c8f7a73e3baf6fd51e57\n",
            "  Stored in directory: /root/.cache/pip/wheels/a1/b6/7c/0e63e34eb06634181c63adacca38b79ff8f35c37e3c13e3c02\n",
            "Successfully built wget\n",
            "Installing collected packages: wget\n",
            "Successfully installed wget-3.2\n",
            "Requirement already satisfied: imbalanced-learn in /usr/local/lib/python3.7/dist-packages (0.8.1)\n",
            "Collecting imbalanced-learn\n",
            "  Downloading imbalanced_learn-0.9.0-py3-none-any.whl (199 kB)\n",
            "\u001b[K     |████████████████████████████████| 199 kB 12.9 MB/s \n",
            "\u001b[?25hRequirement already satisfied: numpy>=1.14.6 in /usr/local/lib/python3.7/dist-packages (from imbalanced-learn) (1.21.5)\n",
            "Requirement already satisfied: scipy>=1.1.0 in /usr/local/lib/python3.7/dist-packages (from imbalanced-learn) (1.4.1)\n",
            "Requirement already satisfied: joblib>=0.11 in /usr/local/lib/python3.7/dist-packages (from imbalanced-learn) (1.1.0)\n",
            "Requirement already satisfied: scikit-learn>=1.0.1 in /usr/local/lib/python3.7/dist-packages (from imbalanced-learn) (1.0.2)\n",
            "Requirement already satisfied: threadpoolctl>=2.0.0 in /usr/local/lib/python3.7/dist-packages (from imbalanced-learn) (3.1.0)\n",
            "Installing collected packages: imbalanced-learn\n",
            "  Attempting uninstall: imbalanced-learn\n",
            "    Found existing installation: imbalanced-learn 0.8.1\n",
            "    Uninstalling imbalanced-learn-0.8.1:\n",
            "      Successfully uninstalled imbalanced-learn-0.8.1\n",
            "Successfully installed imbalanced-learn-0.9.0\n"
          ]
        }
      ]
    },
    {
      "cell_type": "markdown",
      "metadata": {
        "id": "43fDuhK2V1kx"
      },
      "source": [
        "### Funciones útiles\n",
        "\n",
        "Se cargan funciones útiles desde el repo https://github.com/jumafernandez/clasificacion_correos para la carga del dataset."
      ]
    },
    {
      "cell_type": "code",
      "metadata": {
        "id": "oQvZz035bSMf"
      },
      "source": [
        "import requests\n",
        "\n",
        "# Se hace el request del raw del script python\n",
        "url = 'https://raw.githubusercontent.com/jumafernandez/clasificacion_correos/main/tesis/scripts/semi-supervisado/funciones_dataset.py'\n",
        "r = requests.get(url)\n",
        "\n",
        "# Se guarda en el working directory\n",
        "with open('funciones_dataset.py', 'w') as f:\n",
        "    f.write(r.text)\n",
        "\n",
        "# Se importan las funciones a utilizar\n",
        "from funciones_dataset import get_clases, cargar_dataset, consolidar_df"
      ],
      "execution_count": 2,
      "outputs": []
    },
    {
      "cell_type": "markdown",
      "metadata": {
        "id": "MDxjaGIfV-rT"
      },
      "source": [
        "También se carga la función para preprocesar el texto que se usó en los otros modelos desde el repo: https://github.com/jumafernandez/clasificacion_correos."
      ]
    },
    {
      "cell_type": "code",
      "metadata": {
        "id": "o0o2NndLWDVC"
      },
      "source": [
        "import requests\n",
        "\n",
        "# Se hace el request del raw del script python\n",
        "url = 'https://raw.githubusercontent.com/jumafernandez/clasificacion_correos/main/tesis/scripts/supervisado/funciones_preprocesamiento.py'\n",
        "r = requests.get(url)\n",
        "\n",
        "# Se guarda en el working directory\n",
        "with open('funciones_preprocesamiento.py', 'w') as f:\n",
        "    f.write(r.text)\n",
        "\n",
        "# Se importan las funciones a utilizar\n",
        "from funciones_preprocesamiento import preprocesar_correos"
      ],
      "execution_count": 3,
      "outputs": []
    },
    {
      "cell_type": "markdown",
      "source": [
        "Y las utilizadas para la representación de documentos."
      ],
      "metadata": {
        "id": "L4_vfJr5b0g8"
      }
    },
    {
      "cell_type": "code",
      "source": [
        "import requests\n",
        "\n",
        "# Se hace el request del raw del script python\n",
        "url = 'https://raw.githubusercontent.com/jumafernandez/clasificacion_correos/main/tesis/scripts/supervisado/funciones_clasificacion_texto.py'\n",
        "r = requests.get(url)\n",
        "\n",
        "# Se guarda en el working directory\n",
        "with open('funciones_clasificacion_texto.py', 'w') as f:\n",
        "    f.write(r.text)\n",
        "\n",
        "# Se importan las funciones a utilizar\n",
        "from funciones_clasificacion_texto import representacion_documentos"
      ],
      "metadata": {
        "id": "Tje0k3ppbz1N"
      },
      "execution_count": 4,
      "outputs": []
    },
    {
      "cell_type": "markdown",
      "metadata": {
        "id": "-uv6R5UQWWmE"
      },
      "source": [
        "### Carga de datos\n",
        "\n",
        "Se carga el dataframe en memoria con el preprocesamiento de los datos:"
      ]
    },
    {
      "cell_type": "code",
      "metadata": {
        "colab": {
          "base_uri": "https://localhost:8080/"
        },
        "id": "MP4lJ_KVvBSO",
        "outputId": "474aeb3a-beae-466b-adaf-56755de0c253"
      },
      "source": [
        "import warnings\n",
        "from os import path\n",
        "warnings.filterwarnings(\"ignore\")\n",
        "\n",
        "# Constantes con los datos\n",
        "DS_DIR = 'https://raw.githubusercontent.com/jumafernandez/clasificacion_correos/main/tesis/data/'\n",
        "TRAIN_FILE = '02-01-correos-train-80.csv'\n",
        "TEST_FILE = '02-02-correos-test-20.csv'\n",
        "\n",
        "# Chequeo sobre si los archivos están en el working directory\n",
        "download_files = not(path.exists(TRAIN_FILE))\n",
        "\n",
        "etiquetas = get_clases()\n",
        "\n",
        "# Defino la cantidad de clases a utilizar\n",
        "CANTIDAD_CLASES = len(etiquetas)\n",
        "\n",
        "train_df, test_df, etiquetas = cargar_dataset(DS_DIR, TRAIN_FILE, TEST_FILE, download_files, 'clase', etiquetas, CANTIDAD_CLASES, '')\n",
        "\n",
        "# Se ejecuta el preprocesamiento de correos sobre el campo Consulta de train y test\n",
        "import pandas as pd\n",
        "train_df['Consulta'] = pd.Series(preprocesar_correos(train_df['consulta']))\n",
        "test_df['Consulta'] = pd.Series(preprocesar_correos(test_df['consulta']))\n",
        "\n",
        "# Muestro salida por consola\n",
        "print(f'Existen {len(train_df.clase.unique())} clases.')"
      ],
      "execution_count": 5,
      "outputs": [
        {
          "output_type": "stream",
          "name": "stdout",
          "text": [
            "Se inicia descarga de los datasets.\n",
            "\n",
            "El conjunto de entrenamiento tiene la dimensión: (800, 24)\n",
            "El conjunto de testeo tiene la dimensión: (200, 24)\n",
            "Existen 16 clases.\n"
          ]
        }
      ]
    },
    {
      "cell_type": "markdown",
      "source": [
        "### Estrategia de representación de la consulta\n",
        "\n",
        "A continuación se representa la consulta a partir de features."
      ],
      "metadata": {
        "id": "gxsTgb26anF4"
      }
    },
    {
      "cell_type": "code",
      "source": [
        "estrategia = '3-4-NGRAM-CHARS'"
      ],
      "metadata": {
        "id": "UAUcEbcPbWPt"
      },
      "execution_count": 6,
      "outputs": []
    },
    {
      "cell_type": "code",
      "source": [
        "from sklearn.preprocessing import MinMaxScaler\n",
        "import pandas as pd\n",
        "\n",
        "# Esta función va dentro de un iterador entre las 5 estrategias    \n",
        "print('Estrategia de representación: {}' . format(estrategia))\n",
        "correos_train_vec, correos_test_vec = representacion_documentos(train_df['consulta'], test_df['consulta'], estrategia, MAX_TKS=1500)\n",
        "\n",
        "# Separo en x e y - train y test- (además consolido feature estáticas con dinámicas)\n",
        "x_train, y_train = consolidar_df(train_df, correos_train_vec, 'consulta', 'clase', ['Consulta'])\n",
        "x_test, y_test = consolidar_df(test_df, correos_test_vec, 'consulta', 'clase', ['Consulta'])\n",
        "  \n",
        "# Escalado de datos: Se probó scale y MinMaxScaler y dió mejores resultados el último\n",
        "scaler = MinMaxScaler()\n",
        "X_train = scaler.fit_transform(x_train)\n",
        "X_test = scaler.fit_transform(x_test)"
      ],
      "metadata": {
        "colab": {
          "base_uri": "https://localhost:8080/"
        },
        "id": "2k5RzZxhamWm",
        "outputId": "6d9029fe-3a6c-480c-db8c-8b30da20952e"
      },
      "execution_count": 7,
      "outputs": [
        {
          "output_type": "stream",
          "name": "stdout",
          "text": [
            "Estrategia de representación: 3-4-NGRAM-CHARS\n"
          ]
        }
      ]
    },
    {
      "cell_type": "markdown",
      "metadata": {
        "id": "17obw6uxVN21"
      },
      "source": [
        "## Estrategias de Over-sampling\n",
        "\n",
        "Se trabaja con las estrategias de over-sampling."
      ]
    },
    {
      "cell_type": "markdown",
      "source": [
        "### Sobremuestreo aleatorio ingenuo (RandomOverSampler)\n",
        "\n",
        "Una forma de combatir este problema es generar nuevas muestras en las clases que están subrepresentadas. La estrategia más ingenua es generar nuevas muestras mediante muestreo aleatorio con reemplazo de las muestras disponibles actualmente."
      ],
      "metadata": {
        "id": "Q56P8R7DaIfB"
      }
    },
    {
      "cell_type": "code",
      "source": [
        "from imblearn.over_sampling import RandomOverSampler\n",
        "\n",
        "ros = RandomOverSampler(random_state=0)\n",
        "\n",
        "X_resampled_ros, y_resampled_ros = ros.fit_resample(X_train, y_train)"
      ],
      "metadata": {
        "id": "HGFGTgwXZ_bi"
      },
      "execution_count": 8,
      "outputs": []
    },
    {
      "cell_type": "code",
      "source": [
        "import numpy as np\n",
        "\n",
        "unique, counts = np.unique(y_resampled_ros, return_counts=True)\n",
        "\n",
        "np.asarray((unique, counts)).T"
      ],
      "metadata": {
        "colab": {
          "base_uri": "https://localhost:8080/"
        },
        "id": "_bFGW5FpxGx8",
        "outputId": "fc17cf43-9655-4dbe-b71a-70c13b957536"
      },
      "execution_count": 9,
      "outputs": [
        {
          "output_type": "execute_result",
          "data": {
            "text/plain": [
              "array([['Boleto Universitario', 193],\n",
              "       ['Cambio de Carrera', 193],\n",
              "       ['Cambio de Comisión', 193],\n",
              "       ['Consulta por Equivalencias', 193],\n",
              "       ['Consulta por Legajo', 193],\n",
              "       ['Consulta sobre Título Universitario', 193],\n",
              "       ['Cursadas', 193],\n",
              "       ['Datos Personales', 193],\n",
              "       ['Exámenes', 193],\n",
              "       ['Ingreso a la Universidad', 193],\n",
              "       ['Pedido de Certificados', 193],\n",
              "       ['Problemas con la Clave', 193],\n",
              "       ['Reincorporación', 193],\n",
              "       ['Requisitos de Ingreso', 193],\n",
              "       ['Simultaneidad de Carreras', 193],\n",
              "       ['Situación Académica', 193]], dtype=object)"
            ]
          },
          "metadata": {},
          "execution_count": 9
        }
      ]
    },
    {
      "cell_type": "markdown",
      "source": [
        "### SMOTE\n",
        "\n",
        "Hay una serie de métodos disponibles para sobremuestrear un conjunto de datos utilizado en un problema de clasificación típico, siendo el más utilizado SMOTE."
      ],
      "metadata": {
        "id": "_64hGnJ_uS0v"
      }
    },
    {
      "cell_type": "code",
      "source": [
        "from imblearn.over_sampling import SMOTE\n",
        "\n",
        "X_resampled_smote, y_resampled_smote = SMOTE().fit_resample(X_train, y_train)"
      ],
      "metadata": {
        "id": "01UaWmyduTQ2"
      },
      "execution_count": 10,
      "outputs": []
    },
    {
      "cell_type": "code",
      "source": [
        "import numpy as np\n",
        "\n",
        "unique, counts = np.unique(y_resampled_smote, return_counts=True)\n",
        "\n",
        "np.asarray((unique, counts)).T"
      ],
      "metadata": {
        "colab": {
          "base_uri": "https://localhost:8080/"
        },
        "id": "kumk29Gmu9qx",
        "outputId": "1ee17245-ba8a-475d-82d2-068355d5583f"
      },
      "execution_count": 11,
      "outputs": [
        {
          "output_type": "execute_result",
          "data": {
            "text/plain": [
              "array([['Boleto Universitario', 193],\n",
              "       ['Cambio de Carrera', 193],\n",
              "       ['Cambio de Comisión', 193],\n",
              "       ['Consulta por Equivalencias', 193],\n",
              "       ['Consulta por Legajo', 193],\n",
              "       ['Consulta sobre Título Universitario', 193],\n",
              "       ['Cursadas', 193],\n",
              "       ['Datos Personales', 193],\n",
              "       ['Exámenes', 193],\n",
              "       ['Ingreso a la Universidad', 193],\n",
              "       ['Pedido de Certificados', 193],\n",
              "       ['Problemas con la Clave', 193],\n",
              "       ['Reincorporación', 193],\n",
              "       ['Requisitos de Ingreso', 193],\n",
              "       ['Simultaneidad de Carreras', 193],\n",
              "       ['Situación Académica', 193]], dtype=object)"
            ]
          },
          "metadata": {},
          "execution_count": 11
        }
      ]
    },
    {
      "cell_type": "markdown",
      "source": [
        "### ADASYN\n",
        "\n",
        "Hay una serie de métodos disponibles para sobremuestrear un conjunto de datos utilizado en un problema de clasificación típico, siendo el más utilizado SMOTE."
      ],
      "metadata": {
        "id": "N2pE0UsI4_lA"
      }
    },
    {
      "cell_type": "code",
      "source": [
        "from imblearn.over_sampling import ADASYN\n",
        "\n",
        "X_resampled_adasyn, y_resampled_adasyn = ADASYN().fit_resample(X_train, y_train)"
      ],
      "metadata": {
        "id": "wwlYbhOd5BGv"
      },
      "execution_count": 12,
      "outputs": []
    },
    {
      "cell_type": "code",
      "source": [
        "import numpy as np\n",
        "\n",
        "unique, counts = np.unique(y_resampled_adasyn, return_counts=True)\n",
        "\n",
        "np.asarray((unique, counts)).T"
      ],
      "metadata": {
        "colab": {
          "base_uri": "https://localhost:8080/"
        },
        "id": "MlFqi5j65BJ-",
        "outputId": "19fa8d54-4e41-43de-b218-af0d67452d41"
      },
      "execution_count": 13,
      "outputs": [
        {
          "output_type": "execute_result",
          "data": {
            "text/plain": [
              "array([['Boleto Universitario', 193],\n",
              "       ['Cambio de Carrera', 195],\n",
              "       ['Cambio de Comisión', 193],\n",
              "       ['Consulta por Equivalencias', 191],\n",
              "       ['Consulta por Legajo', 196],\n",
              "       ['Consulta sobre Título Universitario', 191],\n",
              "       ['Cursadas', 195],\n",
              "       ['Datos Personales', 192],\n",
              "       ['Exámenes', 194],\n",
              "       ['Ingreso a la Universidad', 192],\n",
              "       ['Pedido de Certificados', 196],\n",
              "       ['Problemas con la Clave', 203],\n",
              "       ['Reincorporación', 185],\n",
              "       ['Requisitos de Ingreso', 186],\n",
              "       ['Simultaneidad de Carreras', 195],\n",
              "       ['Situación Académica', 188]], dtype=object)"
            ]
          },
          "metadata": {},
          "execution_count": 13
        }
      ]
    },
    {
      "cell_type": "markdown",
      "source": [
        "### BorderlineSMOTE"
      ],
      "metadata": {
        "id": "OUad5hvy5NLT"
      }
    },
    {
      "cell_type": "code",
      "source": [
        "from imblearn.over_sampling import BorderlineSMOTE\n",
        "\n",
        "X_resampled_border, y_resampled_border = BorderlineSMOTE().fit_resample(X_train, y_train)"
      ],
      "metadata": {
        "id": "LVrPDgXn5NVF"
      },
      "execution_count": 14,
      "outputs": []
    },
    {
      "cell_type": "code",
      "source": [
        "import numpy as np\n",
        "\n",
        "unique, counts = np.unique(y_resampled_border, return_counts=True)\n",
        "\n",
        "np.asarray((unique, counts)).T"
      ],
      "metadata": {
        "colab": {
          "base_uri": "https://localhost:8080/"
        },
        "id": "7TzhXgNE5NYc",
        "outputId": "d0ac44e5-34df-487a-c055-5eb8b40e6cf3"
      },
      "execution_count": 15,
      "outputs": [
        {
          "output_type": "execute_result",
          "data": {
            "text/plain": [
              "array([['Boleto Universitario', 193],\n",
              "       ['Cambio de Carrera', 193],\n",
              "       ['Cambio de Comisión', 193],\n",
              "       ['Consulta por Equivalencias', 193],\n",
              "       ['Consulta por Legajo', 193],\n",
              "       ['Consulta sobre Título Universitario', 193],\n",
              "       ['Cursadas', 193],\n",
              "       ['Datos Personales', 6],\n",
              "       ['Exámenes', 193],\n",
              "       ['Ingreso a la Universidad', 193],\n",
              "       ['Pedido de Certificados', 193],\n",
              "       ['Problemas con la Clave', 193],\n",
              "       ['Reincorporación', 193],\n",
              "       ['Requisitos de Ingreso', 193],\n",
              "       ['Simultaneidad de Carreras', 193],\n",
              "       ['Situación Académica', 193]], dtype=object)"
            ]
          },
          "metadata": {},
          "execution_count": 15
        }
      ]
    },
    {
      "cell_type": "markdown",
      "metadata": {
        "id": "fiAo2N8TX-ao"
      },
      "source": [
        "## Generación de Modelos\n",
        "\n",
        "Se generan modelos en función de los datos originales como así también a partir de las estrategias de oversampling.\n",
        "\n",
        "Se define el espacio de búsqueda para el ajuste de hiperparámetros de todos los modelos:"
      ]
    },
    {
      "cell_type": "code",
      "metadata": {
        "id": "k3TOc1GcX-rg"
      },
      "source": [
        "BUSCA_MEJOR_MODELO = True\n",
        "\n",
        "if BUSCA_MEJOR_MODELO:\n",
        "  # Defino los parámetros para GridSearchCV\n",
        "  params_svm = {'C': [0.01, 0.1, 1], \n",
        "                'gamma': [0.1, 0.01],\n",
        "                'class_weight': [None, 'balanced'],\n",
        "                'kernel': ['rbf', 'linear', 'sigmoid']\n",
        "                }"
      ],
      "execution_count": 16,
      "outputs": []
    },
    {
      "cell_type": "markdown",
      "metadata": {
        "id": "lmnm8yPmYGAR"
      },
      "source": [
        "### Modelo con dataset original, sin remuestreo\n",
        "\n",
        "Se ejecuta el ajuste de hiperparámetros para cada estrategia de representación en función del espacio de búsqueda:"
      ]
    },
    {
      "cell_type": "code",
      "source": [
        "import time\n",
        "from sklearn.svm import SVC\n",
        "from sklearn.model_selection import GridSearchCV\n",
        "\n",
        "# Calculo la hora actual\n",
        "hora_actual = time.strftime('%H:%M:%S', time.localtime())\n",
        "\n",
        "grid_search=GridSearchCV(SVC(), param_grid=params_svm, cv=None, n_jobs=-1, verbose=3)\n",
        "grid_search.fit(X_train, y_train)\n",
        "\n",
        "# Se realizan las predicciones sobre el conjunto de validación\n",
        "predictions = grid_search.predict(X_test) \n",
        "\n",
        "# Modelo a \"mano\"\n",
        "#clf = SVC(C=0.1, class_weight='balanced', gamma=0.01, kernel='linear')\n",
        "#clf.fit(X_resampled, y_resampled)\n",
        "#clf.fit(X_train, y_train)\n",
        "# Genero las clases para los casos de prueba, según el modelo\n",
        "#predictions = clf.predict(X_test)"
      ],
      "metadata": {
        "colab": {
          "base_uri": "https://localhost:8080/"
        },
        "id": "G3A1WvPaenJH",
        "outputId": "ea7c8c41-038d-4639-9153-d271d86d50dd"
      },
      "execution_count": 17,
      "outputs": [
        {
          "output_type": "stream",
          "name": "stdout",
          "text": [
            "Fitting 5 folds for each of 36 candidates, totalling 180 fits\n"
          ]
        }
      ]
    },
    {
      "cell_type": "code",
      "source": [
        "# Vemos un reporte de clasificación de varias métricas\n",
        "from sklearn import metrics #Importar el módulo metrics de scikit-learn\n",
        "print(metrics.classification_report(y_test, predictions))"
      ],
      "metadata": {
        "colab": {
          "base_uri": "https://localhost:8080/"
        },
        "id": "uf1ZVfbBjc87",
        "outputId": "439d391c-0eac-4776-e13a-d8616be0878f"
      },
      "execution_count": 18,
      "outputs": [
        {
          "output_type": "stream",
          "name": "stdout",
          "text": [
            "                                     precision    recall  f1-score   support\n",
            "\n",
            "               Boleto Universitario       0.98      0.96      0.97        48\n",
            "                  Cambio de Carrera       0.67      1.00      0.80         2\n",
            "                 Cambio de Comisión       1.00      0.50      0.67         2\n",
            "         Consulta por Equivalencias       0.00      0.00      0.00         3\n",
            "                Consulta por Legajo       1.00      0.67      0.80         3\n",
            "Consulta sobre Título Universitario       1.00      0.33      0.50         3\n",
            "                           Cursadas       0.55      0.84      0.67        19\n",
            "                   Datos Personales       0.00      0.00      0.00         2\n",
            "                           Exámenes       0.80      0.80      0.80         5\n",
            "           Ingreso a la Universidad       0.86      0.76      0.81        33\n",
            "             Pedido de Certificados       0.82      0.93      0.87        15\n",
            "             Problemas con la Clave       0.84      0.91      0.87        23\n",
            "                    Reincorporación       0.60      0.27      0.37        11\n",
            "              Requisitos de Ingreso       0.71      0.83      0.77        24\n",
            "          Simultaneidad de Carreras       0.00      0.00      0.00         1\n",
            "                Situación Académica       0.43      0.50      0.46         6\n",
            "\n",
            "                           accuracy                           0.79       200\n",
            "                          macro avg       0.64      0.58      0.59       200\n",
            "                       weighted avg       0.79      0.79      0.78       200\n",
            "\n"
          ]
        }
      ]
    },
    {
      "cell_type": "markdown",
      "source": [
        "### Modelo con el oversampling de RamdomOverSampler"
      ],
      "metadata": {
        "id": "CLzmbhBqkmRU"
      }
    },
    {
      "cell_type": "code",
      "source": [
        "import time\n",
        "from sklearn.svm import SVC\n",
        "from sklearn.model_selection import GridSearchCV\n",
        "\n",
        "# Calculo la hora actual\n",
        "hora_actual = time.strftime('%H:%M:%S', time.localtime())\n",
        "\n",
        "grid_search=GridSearchCV(SVC(), param_grid=params_svm, cv=None, n_jobs=-1, verbose=3)\n",
        "grid_search.fit(X_resampled_ros, y_resampled_ros)\n",
        "\n",
        "# Se realizan las predicciones sobre el conjunto de validación\n",
        "predictions = grid_search.predict(X_test)"
      ],
      "metadata": {
        "colab": {
          "base_uri": "https://localhost:8080/"
        },
        "id": "cRp-d49Uklvy",
        "outputId": "da51fb75-a1af-4179-fd3f-feea2a354bba"
      },
      "execution_count": 19,
      "outputs": [
        {
          "output_type": "stream",
          "name": "stdout",
          "text": [
            "Fitting 5 folds for each of 36 candidates, totalling 180 fits\n"
          ]
        }
      ]
    },
    {
      "cell_type": "code",
      "source": [
        "# Vemos un reporte de clasificación de varias métricas\n",
        "from sklearn import metrics #Importar el módulo metrics de scikit-learn\n",
        "print(metrics.classification_report(y_test, predictions))"
      ],
      "metadata": {
        "id": "AsarHv69kyTY",
        "colab": {
          "base_uri": "https://localhost:8080/"
        },
        "outputId": "b71f8d0e-a0ce-4fb8-9f7b-4d8ff0c855c1"
      },
      "execution_count": 20,
      "outputs": [
        {
          "output_type": "stream",
          "name": "stdout",
          "text": [
            "                                     precision    recall  f1-score   support\n",
            "\n",
            "               Boleto Universitario       0.98      0.96      0.97        48\n",
            "                  Cambio de Carrera       0.67      1.00      0.80         2\n",
            "                 Cambio de Comisión       1.00      0.50      0.67         2\n",
            "         Consulta por Equivalencias       0.00      0.00      0.00         3\n",
            "                Consulta por Legajo       1.00      0.67      0.80         3\n",
            "Consulta sobre Título Universitario       1.00      0.33      0.50         3\n",
            "                           Cursadas       0.55      0.89      0.68        19\n",
            "                   Datos Personales       0.00      0.00      0.00         2\n",
            "                           Exámenes       0.80      0.80      0.80         5\n",
            "           Ingreso a la Universidad       0.90      0.85      0.88        33\n",
            "             Pedido de Certificados       0.82      0.93      0.87        15\n",
            "             Problemas con la Clave       0.91      0.87      0.89        23\n",
            "                    Reincorporación       0.75      0.27      0.40        11\n",
            "              Requisitos de Ingreso       0.79      0.92      0.85        24\n",
            "          Simultaneidad de Carreras       0.00      0.00      0.00         1\n",
            "                Situación Académica       0.43      0.50      0.46         6\n",
            "\n",
            "                           accuracy                           0.81       200\n",
            "                          macro avg       0.66      0.59      0.60       200\n",
            "                       weighted avg       0.82      0.81      0.80       200\n",
            "\n"
          ]
        }
      ]
    },
    {
      "cell_type": "markdown",
      "source": [
        "### Modelo con el oversampling de SMOTE"
      ],
      "metadata": {
        "id": "vBCmlZ-cvGCv"
      }
    },
    {
      "cell_type": "code",
      "source": [
        "import time\n",
        "from sklearn.svm import SVC\n",
        "from sklearn.model_selection import GridSearchCV\n",
        "\n",
        "# Calculo la hora actual\n",
        "hora_actual = time.strftime('%H:%M:%S', time.localtime())\n",
        "\n",
        "grid_search=GridSearchCV(SVC(), param_grid=params_svm, cv=None, n_jobs=-1, verbose=3)\n",
        "grid_search.fit(X_resampled_smote, y_resampled_smote)\n",
        "\n",
        "# Se realizan las predicciones sobre el conjunto de validación\n",
        "predictions = grid_search.predict(X_test)"
      ],
      "metadata": {
        "id": "P5wLQ7owvJcC",
        "colab": {
          "base_uri": "https://localhost:8080/"
        },
        "outputId": "09b7014a-79c2-44e2-b549-56210fcc2cb8"
      },
      "execution_count": 21,
      "outputs": [
        {
          "output_type": "stream",
          "name": "stdout",
          "text": [
            "Fitting 5 folds for each of 36 candidates, totalling 180 fits\n"
          ]
        }
      ]
    },
    {
      "cell_type": "code",
      "source": [
        "# Vemos un reporte de clasificación de varias métricas\n",
        "from sklearn import metrics #Importar el módulo metrics de scikit-learn\n",
        "print(metrics.classification_report(y_test, predictions))"
      ],
      "metadata": {
        "id": "a09Pd4xLvJfa",
        "colab": {
          "base_uri": "https://localhost:8080/"
        },
        "outputId": "c823f1a7-3017-4bd5-a196-6ed8b21c6a57"
      },
      "execution_count": 22,
      "outputs": [
        {
          "output_type": "stream",
          "name": "stdout",
          "text": [
            "                                     precision    recall  f1-score   support\n",
            "\n",
            "               Boleto Universitario       0.98      0.96      0.97        48\n",
            "                  Cambio de Carrera       0.67      1.00      0.80         2\n",
            "                 Cambio de Comisión       1.00      0.50      0.67         2\n",
            "         Consulta por Equivalencias       0.00      0.00      0.00         3\n",
            "                Consulta por Legajo       1.00      0.67      0.80         3\n",
            "Consulta sobre Título Universitario       1.00      0.33      0.50         3\n",
            "                           Cursadas       0.55      0.89      0.68        19\n",
            "                   Datos Personales       0.00      0.00      0.00         2\n",
            "                           Exámenes       0.80      0.80      0.80         5\n",
            "           Ingreso a la Universidad       0.90      0.85      0.88        33\n",
            "             Pedido de Certificados       0.82      0.93      0.87        15\n",
            "             Problemas con la Clave       0.91      0.87      0.89        23\n",
            "                    Reincorporación       0.75      0.27      0.40        11\n",
            "              Requisitos de Ingreso       0.79      0.92      0.85        24\n",
            "          Simultaneidad de Carreras       0.00      0.00      0.00         1\n",
            "                Situación Académica       0.43      0.50      0.46         6\n",
            "\n",
            "                           accuracy                           0.81       200\n",
            "                          macro avg       0.66      0.59      0.60       200\n",
            "                       weighted avg       0.82      0.81      0.80       200\n",
            "\n"
          ]
        }
      ]
    },
    {
      "cell_type": "markdown",
      "source": [
        "### Modelo con el oversampling de ADASYN"
      ],
      "metadata": {
        "id": "qIPrlR716HUD"
      }
    },
    {
      "cell_type": "code",
      "source": [
        "import time\n",
        "from sklearn.svm import SVC\n",
        "from sklearn.model_selection import GridSearchCV\n",
        "\n",
        "# Calculo la hora actual\n",
        "hora_actual = time.strftime('%H:%M:%S', time.localtime())\n",
        "\n",
        "grid_search=GridSearchCV(SVC(), param_grid=params_svm, cv=None, n_jobs=-1, verbose=3)\n",
        "grid_search.fit(X_resampled_adasyn, y_resampled_adasyn)\n",
        "\n",
        "# Se realizan las predicciones sobre el conjunto de validación\n",
        "predictions = grid_search.predict(X_test)"
      ],
      "metadata": {
        "id": "aF14fyvY6HeN",
        "colab": {
          "base_uri": "https://localhost:8080/"
        },
        "outputId": "7b9f1fe4-9ff5-4e0c-9f00-c347548bb57a"
      },
      "execution_count": 23,
      "outputs": [
        {
          "output_type": "stream",
          "name": "stdout",
          "text": [
            "Fitting 5 folds for each of 36 candidates, totalling 180 fits\n"
          ]
        }
      ]
    },
    {
      "cell_type": "code",
      "source": [
        "# Vemos un reporte de clasificación de varias métricas\n",
        "from sklearn import metrics #Importar el módulo metrics de scikit-learn\n",
        "print(metrics.classification_report(y_test, predictions))"
      ],
      "metadata": {
        "id": "oTK8MT916Hhf",
        "colab": {
          "base_uri": "https://localhost:8080/"
        },
        "outputId": "86bfe0d4-a9c0-4f06-9f8b-23c9844ffe9e"
      },
      "execution_count": 24,
      "outputs": [
        {
          "output_type": "stream",
          "name": "stdout",
          "text": [
            "                                     precision    recall  f1-score   support\n",
            "\n",
            "               Boleto Universitario       0.98      0.96      0.97        48\n",
            "                  Cambio de Carrera       0.67      1.00      0.80         2\n",
            "                 Cambio de Comisión       1.00      0.50      0.67         2\n",
            "         Consulta por Equivalencias       0.00      0.00      0.00         3\n",
            "                Consulta por Legajo       1.00      0.67      0.80         3\n",
            "Consulta sobre Título Universitario       1.00      0.33      0.50         3\n",
            "                           Cursadas       0.55      0.89      0.68        19\n",
            "                   Datos Personales       0.00      0.00      0.00         2\n",
            "                           Exámenes       0.80      0.80      0.80         5\n",
            "           Ingreso a la Universidad       0.90      0.85      0.88        33\n",
            "             Pedido de Certificados       0.82      0.93      0.87        15\n",
            "             Problemas con la Clave       0.91      0.87      0.89        23\n",
            "                    Reincorporación       0.75      0.27      0.40        11\n",
            "              Requisitos de Ingreso       0.79      0.92      0.85        24\n",
            "          Simultaneidad de Carreras       0.00      0.00      0.00         1\n",
            "                Situación Académica       0.43      0.50      0.46         6\n",
            "\n",
            "                           accuracy                           0.81       200\n",
            "                          macro avg       0.66      0.59      0.60       200\n",
            "                       weighted avg       0.82      0.81      0.80       200\n",
            "\n"
          ]
        }
      ]
    },
    {
      "cell_type": "markdown",
      "source": [
        "### Modelo con el oversampling de BorderSMOTE"
      ],
      "metadata": {
        "id": "vQ9BksEj6fDH"
      }
    },
    {
      "cell_type": "code",
      "source": [
        "import time\n",
        "from sklearn.svm import SVC\n",
        "from sklearn.model_selection import GridSearchCV\n",
        "\n",
        "# Calculo la hora actual\n",
        "hora_actual = time.strftime('%H:%M:%S', time.localtime())\n",
        "\n",
        "grid_search=GridSearchCV(SVC(), param_grid=params_svm, cv=None, n_jobs=-1, verbose=3)\n",
        "grid_search.fit(X_resampled_border, y_resampled_border)\n",
        "\n",
        "# Se realizan las predicciones sobre el conjunto de validación\n",
        "predictions = grid_search.predict(X_test)"
      ],
      "metadata": {
        "id": "CLE2ZCWl6jCX",
        "colab": {
          "base_uri": "https://localhost:8080/"
        },
        "outputId": "9c64ab39-a3a0-4304-b627-4a1d32d33ca3"
      },
      "execution_count": 25,
      "outputs": [
        {
          "output_type": "stream",
          "name": "stdout",
          "text": [
            "Fitting 5 folds for each of 36 candidates, totalling 180 fits\n"
          ]
        }
      ]
    },
    {
      "cell_type": "code",
      "source": [
        "# Vemos un reporte de clasificación de varias métricas\n",
        "from sklearn import metrics #Importar el módulo metrics de scikit-learn\n",
        "print(metrics.classification_report(y_test, predictions))"
      ],
      "metadata": {
        "id": "8cNAauMm6jFK",
        "colab": {
          "base_uri": "https://localhost:8080/"
        },
        "outputId": "eb59d163-6516-4947-c43b-8b152fe52ae8"
      },
      "execution_count": 26,
      "outputs": [
        {
          "output_type": "stream",
          "name": "stdout",
          "text": [
            "                                     precision    recall  f1-score   support\n",
            "\n",
            "               Boleto Universitario       0.98      0.96      0.97        48\n",
            "                  Cambio de Carrera       0.67      1.00      0.80         2\n",
            "                 Cambio de Comisión       1.00      0.50      0.67         2\n",
            "         Consulta por Equivalencias       0.00      0.00      0.00         3\n",
            "                Consulta por Legajo       1.00      0.67      0.80         3\n",
            "Consulta sobre Título Universitario       1.00      0.33      0.50         3\n",
            "                           Cursadas       0.59      0.89      0.71        19\n",
            "                   Datos Personales       0.00      0.00      0.00         2\n",
            "                           Exámenes       0.80      0.80      0.80         5\n",
            "           Ingreso a la Universidad       0.88      0.85      0.86        33\n",
            "             Pedido de Certificados       0.82      0.93      0.87        15\n",
            "             Problemas con la Clave       0.91      0.87      0.89        23\n",
            "                    Reincorporación       0.75      0.27      0.40        11\n",
            "              Requisitos de Ingreso       0.76      0.92      0.83        24\n",
            "          Simultaneidad de Carreras       0.00      0.00      0.00         1\n",
            "                Situación Académica       0.43      0.50      0.46         6\n",
            "\n",
            "                           accuracy                           0.81       200\n",
            "                          macro avg       0.66      0.59      0.60       200\n",
            "                       weighted avg       0.81      0.81      0.80       200\n",
            "\n"
          ]
        }
      ]
    },
    {
      "cell_type": "markdown",
      "source": [
        "## Matriz de confusión\n",
        "\n",
        "Se genera una matriz de confusión de uno de los modelos."
      ],
      "metadata": {
        "id": "VK-MDpoc6OFC"
      }
    },
    {
      "cell_type": "code",
      "metadata": {
        "id": "yUAbLleKZsS1",
        "colab": {
          "base_uri": "https://localhost:8080/",
          "height": 792
        },
        "outputId": "8d412492-619c-45a5-b41d-d2e5fba35535"
      },
      "source": [
        "def matriz_confusion(y_real, y_predictions):\n",
        "  \"\"\"\n",
        "  Grafica una matriz de confusión con seaborn en función de la clase observada\n",
        "  y la clase predicha.\n",
        "  \"\"\"\n",
        "\n",
        "  import numpy as np\n",
        "  from sklearn import metrics\n",
        "  import seaborn as sns\n",
        "  import matplotlib.pyplot as plt\n",
        "\n",
        "  matriz_confusion = metrics.confusion_matrix(y_real, y_predictions)\n",
        "  etiquetas = y_predictions.unique()\n",
        "\n",
        "  sns.set()\n",
        "  my_mask = np.zeros((matriz_confusion.shape[0], matriz_confusion.shape[0]), dtype=int)\n",
        "  for i in range(matriz_confusion.shape[0]):\n",
        "      for j in range(matriz_confusion.shape[0]):\n",
        "          my_mask[i][j] = matriz_confusion[i][j] == 0 \n",
        "    \n",
        "  fig_dims = (10, 10)\n",
        "  plt.subplots(figsize=fig_dims)\n",
        "\n",
        "  ax = sns.heatmap(matriz_confusion,\n",
        "                  xticklabels=etiquetas,\n",
        "                  annot=True, \n",
        "                  fmt=\"d\", \n",
        "                  linewidths=.5, \n",
        "                  cmap=\"Blues\", \n",
        "                  cbar=False, \n",
        "                  mask=my_mask, \n",
        "                  vmax=15)\n",
        "\n",
        "  plt.gcf().set_size_inches(10, 10)\n",
        "  plt.xticks(rotation=90, ha=\"center\")\n",
        "  plt.yticks(np.arange(len(etiquetas))+0.5, etiquetas, rotation='horizontal')\n",
        "\n",
        "  plt.xlabel('Clase Real')\n",
        "  plt.ylabel('Clase Predicha');\n",
        "\n",
        "  plt.show()"
      ],
      "execution_count": 27,
      "outputs": [
        {
          "output_type": "display_data",
          "data": {
            "text/plain": [
              "<Figure size 720x720 with 1 Axes>"
            ],
            "image/png": "[encoded data removed]"
          },
          "metadata": {}
        }
      ]
    },
    {
      "cell_type": "markdown",
      "metadata": {
        "id": "0a1K2447qjxE"
      },
      "source": [
        "# Referencias\n",
        "- imbalanced-learn documentation https://imbalanced-learn.org/\n",
        "- sklearn.model_selection.GridSearchCV https://scikit-learn.org/stable/modules/generated/sklearn.model_selection.GridSearchCV.html\n",
        "- ML Pipelines using scikit-learn and GridSearchCV https://medium.com/analytics-vidhya/ml-pipelines-using-scikit-learn-and-gridsearchcv-fe605a7f9e05"
      ]
    }
  ]
}