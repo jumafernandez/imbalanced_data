{
  "nbformat": 4,
  "nbformat_minor": 0,
  "metadata": {
    "colab": {
      "name": "estrategia-propia.ipynb",
      "provenance": [],
      "collapsed_sections": [],
      "toc_visible": true,
      "include_colab_link": true
    },
    "kernelspec": {
      "name": "python3",
      "display_name": "Python 3"
    }
  },
  "cells": [
    {
      "cell_type": "markdown",
      "metadata": {
        "id": "view-in-github",
        "colab_type": "text"
      },
      "source": [
        "<a href=\"https://colab.research.google.com/github/jumafernandez/imbalanced_data/blob/main/notebooks/estrategia_propia.ipynb\" target=\"_parent\"><img src=\"https://colab.research.google.com/assets/colab-badge.svg\" alt=\"Open In Colab\"/></a>"
      ]
    },
    {
      "cell_type": "markdown",
      "metadata": {
        "id": "5DuUrVBgeUso"
      },
      "source": [
        "# Recuperación de instancias no sintéticas\n",
        "\n",
        "__Autor:__ Juan Manuel Fernandez\n",
        "\n",
        "__Objetivo:__ En esta notebook se evalúa una estrategia de balanceo de instancias propia basada en la recuperación de instancias no sintéticas como estrategia para el balanceo de clases para problemas de clasificación automática de textos."
      ]
    },
    {
      "cell_type": "markdown",
      "metadata": {
        "id": "FBLanwDJVnFF"
      },
      "source": [
        "## Instalación y Carga de librerías y funciones útiles\n",
        "\n",
        "### Instalación de librerías\n",
        "\n",
        "Se instalan las librerías que no están en el entorno de Google Colab"
      ]
    },
    {
      "cell_type": "code",
      "metadata": {
        "colab": {
          "base_uri": "https://localhost:8080/"
        },
        "id": "644uDER_VnXj",
        "outputId": "835502bd-013c-489d-ca75-c8f031295963"
      },
      "source": [
        "# Se instala gensim que es el que tiene el modelo Word2Vec\n",
        "!pip install requests\n",
        "!pip install wget\n",
        "!pip install -U imbalanced-learn"
      ],
      "execution_count": 1,
      "outputs": [
        {
          "output_type": "stream",
          "name": "stdout",
          "text": [
            "Looking in indexes: https://pypi.org/simple, https://us-python.pkg.dev/colab-wheels/public/simple/\n",
            "Requirement already satisfied: requests in /usr/local/lib/python3.7/dist-packages (2.23.0)\n",
            "Requirement already satisfied: idna<3,>=2.5 in /usr/local/lib/python3.7/dist-packages (from requests) (2.10)\n",
            "Requirement already satisfied: chardet<4,>=3.0.2 in /usr/local/lib/python3.7/dist-packages (from requests) (3.0.4)\n",
            "Requirement already satisfied: urllib3!=1.25.0,!=1.25.1,<1.26,>=1.21.1 in /usr/local/lib/python3.7/dist-packages (from requests) (1.24.3)\n",
            "Requirement already satisfied: certifi>=2017.4.17 in /usr/local/lib/python3.7/dist-packages (from requests) (2022.6.15)\n",
            "Looking in indexes: https://pypi.org/simple, https://us-python.pkg.dev/colab-wheels/public/simple/\n",
            "Collecting wget\n",
            "  Downloading wget-3.2.zip (10 kB)\n",
            "Building wheels for collected packages: wget\n",
            "  Building wheel for wget (setup.py) ... \u001b[?25l\u001b[?25hdone\n",
            "  Created wheel for wget: filename=wget-3.2-py3-none-any.whl size=9675 sha256=d354830c36d9fabace6ce380f6b244cf0fdfe19534012cc626aa753f5e3f9cdd\n",
            "  Stored in directory: /root/.cache/pip/wheels/a1/b6/7c/0e63e34eb06634181c63adacca38b79ff8f35c37e3c13e3c02\n",
            "Successfully built wget\n",
            "Installing collected packages: wget\n",
            "Successfully installed wget-3.2\n",
            "Looking in indexes: https://pypi.org/simple, https://us-python.pkg.dev/colab-wheels/public/simple/\n",
            "Requirement already satisfied: imbalanced-learn in /usr/local/lib/python3.7/dist-packages (0.8.1)\n",
            "Collecting imbalanced-learn\n",
            "  Downloading imbalanced_learn-0.9.1-py3-none-any.whl (199 kB)\n",
            "\u001b[K     |████████████████████████████████| 199 kB 4.6 MB/s \n",
            "\u001b[?25h  Downloading imbalanced_learn-0.9.0-py3-none-any.whl (199 kB)\n",
            "\u001b[K     |████████████████████████████████| 199 kB 35.8 MB/s \n",
            "\u001b[?25hRequirement already satisfied: numpy>=1.14.6 in /usr/local/lib/python3.7/dist-packages (from imbalanced-learn) (1.21.6)\n",
            "Requirement already satisfied: scipy>=1.1.0 in /usr/local/lib/python3.7/dist-packages (from imbalanced-learn) (1.7.3)\n",
            "Requirement already satisfied: joblib>=0.11 in /usr/local/lib/python3.7/dist-packages (from imbalanced-learn) (1.1.0)\n",
            "Requirement already satisfied: threadpoolctl>=2.0.0 in /usr/local/lib/python3.7/dist-packages (from imbalanced-learn) (3.1.0)\n",
            "Requirement already satisfied: scikit-learn>=1.0.1 in /usr/local/lib/python3.7/dist-packages (from imbalanced-learn) (1.0.2)\n",
            "Installing collected packages: imbalanced-learn\n",
            "  Attempting uninstall: imbalanced-learn\n",
            "    Found existing installation: imbalanced-learn 0.8.1\n",
            "    Uninstalling imbalanced-learn-0.8.1:\n",
            "      Successfully uninstalled imbalanced-learn-0.8.1\n",
            "Successfully installed imbalanced-learn-0.9.0\n"
          ]
        }
      ]
    },
    {
      "cell_type": "markdown",
      "metadata": {
        "id": "43fDuhK2V1kx"
      },
      "source": [
        "### Funciones útiles\n",
        "\n",
        "Se cargan funciones útiles desde el repo https://github.com/jumafernandez/clasificacion_correos para la carga del dataset."
      ]
    },
    {
      "cell_type": "code",
      "metadata": {
        "id": "oQvZz035bSMf"
      },
      "source": [
        "import requests\n",
        "\n",
        "# Se hace el request del raw del script python\n",
        "url = 'https://raw.githubusercontent.com/jumafernandez/clasificacion_correos/main/tesis/scripts/semi-supervisado/funciones_dataset.py'\n",
        "r = requests.get(url)\n",
        "\n",
        "# Se guarda en el working directory\n",
        "with open('funciones_dataset.py', 'w') as f:\n",
        "    f.write(r.text)\n",
        "\n",
        "# Se importan las funciones a utilizar\n",
        "from funciones_dataset import get_clases, cargar_dataset, consolidar_df"
      ],
      "execution_count": 2,
      "outputs": []
    },
    {
      "cell_type": "markdown",
      "metadata": {
        "id": "MDxjaGIfV-rT"
      },
      "source": [
        "También se carga la función para preprocesar el texto que se usó en los otros modelos desde el repo: https://github.com/jumafernandez/clasificacion_correos."
      ]
    },
    {
      "cell_type": "code",
      "metadata": {
        "id": "o0o2NndLWDVC"
      },
      "source": [
        "import requests\n",
        "\n",
        "# Se hace el request del raw del script python\n",
        "url = 'https://raw.githubusercontent.com/jumafernandez/clasificacion_correos/main/tesis/scripts/supervisado/funciones_preprocesamiento.py'\n",
        "r = requests.get(url)\n",
        "\n",
        "# Se guarda en el working directory\n",
        "with open('funciones_preprocesamiento.py', 'w') as f:\n",
        "    f.write(r.text)\n",
        "\n",
        "# Se importan las funciones a utilizar\n",
        "from funciones_preprocesamiento import preprocesar_correos"
      ],
      "execution_count": 3,
      "outputs": []
    },
    {
      "cell_type": "markdown",
      "source": [
        "Y las utilizadas para la representación de documentos."
      ],
      "metadata": {
        "id": "L4_vfJr5b0g8"
      }
    },
    {
      "cell_type": "code",
      "source": [
        "import requests\n",
        "\n",
        "# Se hace el request del raw del script python\n",
        "url = 'https://raw.githubusercontent.com/jumafernandez/clasificacion_correos/main/tesis/scripts/supervisado/funciones_clasificacion_texto.py'\n",
        "r = requests.get(url)\n",
        "\n",
        "# Se guarda en el working directory\n",
        "with open('funciones_clasificacion_texto.py', 'w') as f:\n",
        "    f.write(r.text)\n",
        "\n",
        "# Se importan las funciones a utilizar\n",
        "from funciones_clasificacion_texto import representacion_documentos"
      ],
      "metadata": {
        "id": "Tje0k3ppbz1N"
      },
      "execution_count": 4,
      "outputs": []
    },
    {
      "cell_type": "markdown",
      "metadata": {
        "id": "-uv6R5UQWWmE"
      },
      "source": [
        "### Carga de datos\n",
        "\n",
        "Se carga el dataframe en memoria con el preprocesamiento de los datos:"
      ]
    },
    {
      "cell_type": "code",
      "metadata": {
        "colab": {
          "base_uri": "https://localhost:8080/"
        },
        "id": "MP4lJ_KVvBSO",
        "outputId": "566b5132-cf85-49b3-e903-d6554fad20ed"
      },
      "source": [
        "import warnings\n",
        "from os import path\n",
        "import pandas as pd\n",
        "warnings.filterwarnings(\"ignore\")\n",
        "\n",
        "# Constantes con los datos\n",
        "DS_DIR = 'https://raw.githubusercontent.com/jumafernandez/clasificacion_correos/main/tesis/data/'\n",
        "TRAIN_FILE = '02-01-correos-train-80.csv'\n",
        "TEST_FILE = '02-02-correos-test-20.csv'\n",
        "\n",
        "etiquetas = get_clases()\n",
        "\n",
        "# Chequeo sobre si los archivos están en el working directory\n",
        "if not(path.exists(TRAIN_FILE)):\n",
        "  # Genero el enlace completo\n",
        "  URL_file_train = DS_DIR + TRAIN_FILE\n",
        "  URL_file_test = DS_DIR + TEST_FILE\n",
        "  # Descargo los archivos\n",
        "  import wget\n",
        "  wget.download(URL_file_train)\n",
        "  wget.download(URL_file_test)\n",
        "  \n",
        "# Leemos el archivo en un dataframe\n",
        "df_train = pd.read_csv(TRAIN_FILE)\n",
        "df_test = pd.read_csv(TEST_FILE)\n",
        "\n",
        "# Se ejecuta el preprocesamiento de correos sobre el campo Consulta de train y test\n",
        "import pandas as pd\n",
        "df_train['consulta'] = list(preprocesar_correos(df_train['consulta']))\n",
        "df_test['consulta'] = list(preprocesar_correos(df_test['consulta']))\n",
        "\n",
        "print(f\"\\nEl conjunto de entrenamiento tiene la dimensión: {len(df_train)}.\")\n",
        "print(f\"El conjunto de testeo tiene la dimensión: {len(df_test)}.\")\n",
        "\n",
        "df_train = df_train[['consulta', 'clase']]\n",
        "\n",
        "consultas_test = list(df_test['consulta'])\n",
        "y_test = list(df_test['clase'])"
      ],
      "execution_count": 5,
      "outputs": [
        {
          "output_type": "stream",
          "name": "stdout",
          "text": [
            "\n",
            "El conjunto de entrenamiento tiene la dimensión: 800.\n",
            "El conjunto de testeo tiene la dimensión: 200.\n"
          ]
        }
      ]
    },
    {
      "cell_type": "markdown",
      "source": [
        "### Incorporación de las instancias no sintéticas para el balanceo de carga\n",
        "\n",
        "Se incorporan las instancias no sintéticas recuperadas de Elasticsearch para las estrategias de *feature selection* (SS3  $U$ TF-IDF)."
      ],
      "metadata": {
        "id": "8-6SONyxiNdG"
      }
    },
    {
      "cell_type": "markdown",
      "source": [
        "En primer lugar se carga el dataset con 200 instancias por clase recuperadas con boosting:"
      ],
      "metadata": {
        "id": "VcsVaFAUirYP"
      }
    },
    {
      "cell_type": "code",
      "source": [
        "DIR = 'https://raw.githubusercontent.com/jumafernandez/clasificacion_correos/main/tesis/data/03-elasticsearch/sin_procesar/'\n",
        "\n",
        "FILE_ss3 = 'dataset-ss3-200-boosting.csv'\n",
        "FILE_tfidf = 'dataset-tfidf-200-boosting.csv'\n",
        "\n",
        "if not(path.exists(FILE_ss3)) or not(path.exists(FILE_tfidf)):\n",
        "  # Genero el enlace completo\n",
        "  URL_file_ss3 = DIR + FILE_ss3\n",
        "  URL_file_tfidf = DIR + FILE_tfidf\n",
        "  # Descargo los archivos\n",
        "  import wget\n",
        "  wget.download(URL_file_ss3)\n",
        "  wget.download(URL_file_tfidf)\n",
        "\n",
        "# Leemos los archivos en un dataframe\n",
        "df_ss3 = pd.read_csv(FILE_ss3)\n",
        "df_tfidf = pd.read_csv(FILE_tfidf)\n",
        "\n",
        "df_ss3 = df_ss3[['consulta', 'score', 'clase']]\n",
        "df_tfidf = df_tfidf[['consulta', 'score', 'clase']]\n",
        "\n",
        "# Preprocesamos las consultas\n",
        "df_ss3['consulta'] = pd.Series(preprocesar_correos(df_ss3['consulta']))\n",
        "df_tfidf['consulta'] = pd.Series(preprocesar_correos(df_tfidf['consulta']))\n",
        "\n",
        "# Verifico que no haya instancias con faltantes y si hay las borro\n",
        "df_ss3 = df_ss3.dropna()\n",
        "df_tfidf = df_tfidf.dropna()\n",
        "\n",
        "print(f\"\\nEl conjunto de datos SS3 posee {len(df_ss3)} instancias.\")\n",
        "print(f\"El conjunto de datos TF-IDF posee {len(df_tfidf)} instancias.\")"
      ],
      "metadata": {
        "colab": {
          "base_uri": "https://localhost:8080/"
        },
        "id": "vjhkDHjrivOO",
        "outputId": "bf5fb465-cc00-497d-97b2-60520596512c"
      },
      "execution_count": 6,
      "outputs": [
        {
          "output_type": "stream",
          "name": "stdout",
          "text": [
            "\n",
            "El conjunto de datos SS3 posee 3200 instancias.\n",
            "El conjunto de datos TF-IDF posee 3200 instancias.\n"
          ]
        }
      ]
    },
    {
      "cell_type": "markdown",
      "source": [
        "Ahora joineamos las instancias de cada estrategia que coinciden y hacemos el promedio de los scores para cada estrategia:"
      ],
      "metadata": {
        "id": "O8Oq4ZY4oLoW"
      }
    },
    {
      "cell_type": "code",
      "source": [
        "# Transformo un df a una lista de diccionarios\n",
        "ss3_list = df_ss3.to_dict('records')\n",
        "\n",
        "# Y el otro en 3 listas (una con la consulta, otra con el score y otra con la clase)\n",
        "tf_consulta = list(df_tfidf['consulta'])\n",
        "tf_clase = list(df_tfidf['clase'])\n",
        "tf_score = list(df_tfidf['score'])"
      ],
      "metadata": {
        "id": "bEzRDHVPsEpn"
      },
      "execution_count": 7,
      "outputs": []
    },
    {
      "cell_type": "code",
      "source": [
        "join_consultas = pd.DataFrame(columns = ['consulta', 'score', 'clase'])\n",
        "                    \n",
        "for r in ss3_list:\n",
        "  if (r['consulta'] in tf_consulta) and (r['clase'] == tf_clase[tf_consulta.index(r['consulta'])]):\n",
        "    \n",
        "    # Me guardo un df con la consulta y el score promedio\n",
        "    score_avg = (r['score'] + tf_score[tf_consulta.index(r['consulta'])])/2\n",
        "    aux = {'consulta': r['consulta'], 'score': score_avg, 'clase': r['clase']}\n",
        "        \n",
        "    join_consultas = join_consultas.append(aux, ignore_index=True)"
      ],
      "metadata": {
        "id": "PqLksFJioXP0"
      },
      "execution_count": 8,
      "outputs": []
    },
    {
      "cell_type": "markdown",
      "source": [
        "Obtenemos la siguiente cantidad de instancias no sintéticas por clase:"
      ],
      "metadata": {
        "id": "veerXU5O3tox"
      }
    },
    {
      "cell_type": "code",
      "source": [
        "cantidad_balanceo = join_consultas.groupby(['clase'])['clase'].count()\n",
        "\n",
        "cantidad_balanceo"
      ],
      "metadata": {
        "colab": {
          "base_uri": "https://localhost:8080/"
        },
        "id": "HKnpUfWRzqVH",
        "outputId": "5ce188a3-ef2c-4f72-babd-48fc7a9db793"
      },
      "execution_count": 9,
      "outputs": [
        {
          "output_type": "execute_result",
          "data": {
            "text/plain": [
              "clase\n",
              "Boleto Universitario                    74\n",
              "Cambio de Carrera                       68\n",
              "Cambio de Comisión                      95\n",
              "Consulta por Equivalencias              38\n",
              "Consulta por Legajo                     84\n",
              "Consulta sobre Título Universitario     68\n",
              "Cursadas                                28\n",
              "Datos Personales                        54\n",
              "Exámenes                                82\n",
              "Ingreso a la Universidad                71\n",
              "Pedido de Certificados                 137\n",
              "Problemas con la Clave                 124\n",
              "Reincorporación                         21\n",
              "Requisitos de Ingreso                  147\n",
              "Simultaneidad de Carreras               70\n",
              "Situación Académica                     47\n",
              "Name: clase, dtype: int64"
            ]
          },
          "metadata": {},
          "execution_count": 9
        }
      ]
    },
    {
      "cell_type": "markdown",
      "source": [
        "Ordeno las instancias no sintéticas por clase y score (descendente):"
      ],
      "metadata": {
        "id": "Ia5Myz738Jjj"
      }
    },
    {
      "cell_type": "code",
      "source": [
        "join_consultas = join_consultas.sort_values(['clase','score'], ascending=False)\n",
        "\n",
        "join_consultas"
      ],
      "metadata": {
        "colab": {
          "base_uri": "https://localhost:8080/",
          "height": 424
        },
        "id": "tL8LbPpa74RZ",
        "outputId": "a76663a8-b203-4610-d90e-a9d4587fafd9"
      },
      "execution_count": 10,
      "outputs": [
        {
          "output_type": "execute_result",
          "data": {
            "text/plain": [
              "                                               consulta      score  \\\n",
              "1162  buenos dias comunico situacion academica respe...  26.721049   \n",
              "1163  buenas tardes curse gimnasia formativa 34004 p...  25.319655   \n",
              "1161  buenos dias duda respecto situacion academica ...  24.868055   \n",
              "1164  hola 16 mayo rendi final taller lectura compre...  22.607658   \n",
              "1190  buenos dias quisiera saber figura finales cond...  22.222622   \n",
              "...                                                 ...        ...   \n",
              "67    buenas tardes quisiera realizar consulta respe...  22.612747   \n",
              "73    buenos dias cuatrimestre pasado inscribi bolet...  22.587778   \n",
              "70    buen dia boleto estudiantil hace varios meses ...  22.451445   \n",
              "63    hice tramite boleto estudiantil hace meses tod...  22.184043   \n",
              "71    ano pasado recibia beneficio boleto estudianti...  22.090184   \n",
              "\n",
              "                     clase  \n",
              "1162   Situación Académica  \n",
              "1163   Situación Académica  \n",
              "1161   Situación Académica  \n",
              "1164   Situación Académica  \n",
              "1190   Situación Académica  \n",
              "...                    ...  \n",
              "67    Boleto Universitario  \n",
              "73    Boleto Universitario  \n",
              "70    Boleto Universitario  \n",
              "63    Boleto Universitario  \n",
              "71    Boleto Universitario  \n",
              "\n",
              "[1208 rows x 3 columns]"
            ],
            "text/html": [
              "\n",
              "  <div id=\"df-b1b936f4-5d8a-442e-9d0d-ac8ecbb8c4b0\">\n",
              "    <div class=\"colab-df-container\">\n",
              "      <div>\n",
              "<style scoped>\n",
              "    .dataframe tbody tr th:only-of-type {\n",
              "        vertical-align: middle;\n",
              "    }\n",
              "\n",
              "    .dataframe tbody tr th {\n",
              "        vertical-align: top;\n",
              "    }\n",
              "\n",
              "    .dataframe thead th {\n",
              "        text-align: right;\n",
              "    }\n",
              "</style>\n",
              "<table border=\"1\" class=\"dataframe\">\n",
              "  <thead>\n",
              "    <tr style=\"text-align: right;\">\n",
              "      <th></th>\n",
              "      <th>consulta</th>\n",
              "      <th>score</th>\n",
              "      <th>clase</th>\n",
              "    </tr>\n",
              "  </thead>\n",
              "  <tbody>\n",
              "    <tr>\n",
              "      <th>1162</th>\n",
              "      <td>buenos dias comunico situacion academica respe...</td>\n",
              "      <td>26.721049</td>\n",
              "      <td>Situación Académica</td>\n",
              "    </tr>\n",
              "    <tr>\n",
              "      <th>1163</th>\n",
              "      <td>buenas tardes curse gimnasia formativa 34004 p...</td>\n",
              "      <td>25.319655</td>\n",
              "      <td>Situación Académica</td>\n",
              "    </tr>\n",
              "    <tr>\n",
              "      <th>1161</th>\n",
              "      <td>buenos dias duda respecto situacion academica ...</td>\n",
              "      <td>24.868055</td>\n",
              "      <td>Situación Académica</td>\n",
              "    </tr>\n",
              "    <tr>\n",
              "      <th>1164</th>\n",
              "      <td>hola 16 mayo rendi final taller lectura compre...</td>\n",
              "      <td>22.607658</td>\n",
              "      <td>Situación Académica</td>\n",
              "    </tr>\n",
              "    <tr>\n",
              "      <th>1190</th>\n",
              "      <td>buenos dias quisiera saber figura finales cond...</td>\n",
              "      <td>22.222622</td>\n",
              "      <td>Situación Académica</td>\n",
              "    </tr>\n",
              "    <tr>\n",
              "      <th>...</th>\n",
              "      <td>...</td>\n",
              "      <td>...</td>\n",
              "      <td>...</td>\n",
              "    </tr>\n",
              "    <tr>\n",
              "      <th>67</th>\n",
              "      <td>buenas tardes quisiera realizar consulta respe...</td>\n",
              "      <td>22.612747</td>\n",
              "      <td>Boleto Universitario</td>\n",
              "    </tr>\n",
              "    <tr>\n",
              "      <th>73</th>\n",
              "      <td>buenos dias cuatrimestre pasado inscribi bolet...</td>\n",
              "      <td>22.587778</td>\n",
              "      <td>Boleto Universitario</td>\n",
              "    </tr>\n",
              "    <tr>\n",
              "      <th>70</th>\n",
              "      <td>buen dia boleto estudiantil hace varios meses ...</td>\n",
              "      <td>22.451445</td>\n",
              "      <td>Boleto Universitario</td>\n",
              "    </tr>\n",
              "    <tr>\n",
              "      <th>63</th>\n",
              "      <td>hice tramite boleto estudiantil hace meses tod...</td>\n",
              "      <td>22.184043</td>\n",
              "      <td>Boleto Universitario</td>\n",
              "    </tr>\n",
              "    <tr>\n",
              "      <th>71</th>\n",
              "      <td>ano pasado recibia beneficio boleto estudianti...</td>\n",
              "      <td>22.090184</td>\n",
              "      <td>Boleto Universitario</td>\n",
              "    </tr>\n",
              "  </tbody>\n",
              "</table>\n",
              "<p>1208 rows × 3 columns</p>\n",
              "</div>\n",
              "      <button class=\"colab-df-convert\" onclick=\"convertToInteractive('df-b1b936f4-5d8a-442e-9d0d-ac8ecbb8c4b0')\"\n",
              "              title=\"Convert this dataframe to an interactive table.\"\n",
              "              style=\"display:none;\">\n",
              "        \n",
              "  <svg xmlns=\"http://www.w3.org/2000/svg\" height=\"24px\"viewBox=\"0 0 24 24\"\n",
              "       width=\"24px\">\n",
              "    <path d=\"M0 0h24v24H0V0z\" fill=\"none\"/>\n",
              "    <path d=\"M18.56 5.44l.94 2.06.94-2.06 2.06-.94-2.06-.94-.94-2.06-.94 2.06-2.06.94zm-11 1L8.5 8.5l.94-2.06 2.06-.94-2.06-.94L8.5 2.5l-.94 2.06-2.06.94zm10 10l.94 2.06.94-2.06 2.06-.94-2.06-.94-.94-2.06-.94 2.06-2.06.94z\"/><path d=\"M17.41 7.96l-1.37-1.37c-.4-.4-.92-.59-1.43-.59-.52 0-1.04.2-1.43.59L10.3 9.45l-7.72 7.72c-.78.78-.78 2.05 0 2.83L4 21.41c.39.39.9.59 1.41.59.51 0 1.02-.2 1.41-.59l7.78-7.78 2.81-2.81c.8-.78.8-2.07 0-2.86zM5.41 20L4 18.59l7.72-7.72 1.47 1.35L5.41 20z\"/>\n",
              "  </svg>\n",
              "      </button>\n",
              "      \n",
              "  <style>\n",
              "    .colab-df-container {\n",
              "      display:flex;\n",
              "      flex-wrap:wrap;\n",
              "      gap: 12px;\n",
              "    }\n",
              "\n",
              "    .colab-df-convert {\n",
              "      background-color: #E8F0FE;\n",
              "      border: none;\n",
              "      border-radius: 50%;\n",
              "      cursor: pointer;\n",
              "      display: none;\n",
              "      fill: #1967D2;\n",
              "      height: 32px;\n",
              "      padding: 0 0 0 0;\n",
              "      width: 32px;\n",
              "    }\n",
              "\n",
              "    .colab-df-convert:hover {\n",
              "      background-color: #E2EBFA;\n",
              "      box-shadow: 0px 1px 2px rgba(60, 64, 67, 0.3), 0px 1px 3px 1px rgba(60, 64, 67, 0.15);\n",
              "      fill: #174EA6;\n",
              "    }\n",
              "\n",
              "    [theme=dark] .colab-df-convert {\n",
              "      background-color: #3B4455;\n",
              "      fill: #D2E3FC;\n",
              "    }\n",
              "\n",
              "    [theme=dark] .colab-df-convert:hover {\n",
              "      background-color: #434B5C;\n",
              "      box-shadow: 0px 1px 3px 1px rgba(0, 0, 0, 0.15);\n",
              "      filter: drop-shadow(0px 1px 2px rgba(0, 0, 0, 0.3));\n",
              "      fill: #FFFFFF;\n",
              "    }\n",
              "  </style>\n",
              "\n",
              "      <script>\n",
              "        const buttonEl =\n",
              "          document.querySelector('#df-b1b936f4-5d8a-442e-9d0d-ac8ecbb8c4b0 button.colab-df-convert');\n",
              "        buttonEl.style.display =\n",
              "          google.colab.kernel.accessAllowed ? 'block' : 'none';\n",
              "\n",
              "        async function convertToInteractive(key) {\n",
              "          const element = document.querySelector('#df-b1b936f4-5d8a-442e-9d0d-ac8ecbb8c4b0');\n",
              "          const dataTable =\n",
              "            await google.colab.kernel.invokeFunction('convertToInteractive',\n",
              "                                                     [key], {});\n",
              "          if (!dataTable) return;\n",
              "\n",
              "          const docLinkHtml = 'Like what you see? Visit the ' +\n",
              "            '<a target=\"_blank\" href=https://colab.research.google.com/notebooks/data_table.ipynb>data table notebook</a>'\n",
              "            + ' to learn more about interactive tables.';\n",
              "          element.innerHTML = '';\n",
              "          dataTable['output_type'] = 'display_data';\n",
              "          await google.colab.output.renderOutput(dataTable, element);\n",
              "          const docLink = document.createElement('div');\n",
              "          docLink.innerHTML = docLinkHtml;\n",
              "          element.appendChild(docLink);\n",
              "        }\n",
              "      </script>\n",
              "    </div>\n",
              "  </div>\n",
              "  "
            ]
          },
          "metadata": {},
          "execution_count": 10
        }
      ]
    },
    {
      "cell_type": "markdown",
      "source": [
        "#### Incorporación al conjunto de datos original de las instancias no sintéticas"
      ],
      "metadata": {
        "id": "pkLiMnEE3yWu"
      }
    },
    {
      "cell_type": "markdown",
      "source": [
        "En primer lugar, evalúo la cantidad de instancias por clase que tengo en el dataset de entrenamiento:"
      ],
      "metadata": {
        "id": "Qxf5idG444_O"
      }
    },
    {
      "cell_type": "code",
      "source": [
        "instancias_por_clase = df_train.groupby(['clase'])['clase'].count()\n",
        "\n",
        "max_instancias = df_train.groupby(['clase'])['clase'].count().max()\n",
        "\n",
        "instancias_por_clase"
      ],
      "metadata": {
        "colab": {
          "base_uri": "https://localhost:8080/"
        },
        "id": "QpsgIC5T338-",
        "outputId": "4f607d8e-70e2-4faa-daeb-7749a5f09cc4"
      },
      "execution_count": 11,
      "outputs": [
        {
          "output_type": "execute_result",
          "data": {
            "text/plain": [
              "clase\n",
              "Boleto Universitario                   193\n",
              "Cambio de Carrera                       11\n",
              "Cambio de Comisión                       8\n",
              "Consulta por Equivalencias              10\n",
              "Consulta por Legajo                     15\n",
              "Consulta sobre Título Universitario     10\n",
              "Cursadas                                75\n",
              "Datos Personales                         6\n",
              "Exámenes                                18\n",
              "Ingreso a la Universidad               135\n",
              "Pedido de Certificados                  59\n",
              "Problemas con la Clave                  91\n",
              "Reincorporación                         43\n",
              "Requisitos de Ingreso                   98\n",
              "Simultaneidad de Carreras                6\n",
              "Situación Académica                     22\n",
              "Name: clase, dtype: int64"
            ]
          },
          "metadata": {},
          "execution_count": 11
        }
      ]
    },
    {
      "cell_type": "code",
      "source": [
        "X_train = []\n",
        "y_train = []\n",
        "\n",
        "for clase in etiquetas:\n",
        "  # Calculo la cantidad de instancias a agregar según la necesidad y disponibilidad\n",
        "  cantidad = min(max_instancias - instancias_por_clase[clase], cantidad_balanceo[clase])\n",
        "  # Las selecciono\n",
        "  instancias_clase = join_consultas.loc[join_consultas['clase'] == clase][['consulta', 'clase']].head(cantidad)\n",
        "\n",
        "  # Las agrego\n",
        "  df_train = df_train.append(instancias_clase, ignore_index=True)\n",
        "  print(f'{clase}: {cantidad}')"
      ],
      "metadata": {
        "colab": {
          "base_uri": "https://localhost:8080/"
        },
        "id": "bin4D_qG7S5n",
        "outputId": "b7b2f7bd-56af-4abf-e907-4b933cc80500"
      },
      "execution_count": 12,
      "outputs": [
        {
          "output_type": "stream",
          "name": "stdout",
          "text": [
            "Boleto Universitario: 0\n",
            "Cambio de Carrera: 68\n",
            "Cambio de Comisión: 95\n",
            "Consulta por Equivalencias: 38\n",
            "Consulta por Legajo: 84\n",
            "Consulta sobre Título Universitario: 68\n",
            "Cursadas: 28\n",
            "Datos Personales: 54\n",
            "Exámenes: 82\n",
            "Ingreso a la Universidad: 58\n",
            "Pedido de Certificados: 134\n",
            "Problemas con la Clave: 102\n",
            "Reincorporación: 21\n",
            "Requisitos de Ingreso: 95\n",
            "Simultaneidad de Carreras: 70\n",
            "Situación Académica: 47\n"
          ]
        }
      ]
    },
    {
      "cell_type": "markdown",
      "source": [
        "Verifico la cantidad de instancias finales por clase:"
      ],
      "metadata": {
        "id": "DiN179eKHo51"
      }
    },
    {
      "cell_type": "code",
      "source": [
        "df_train.groupby(['clase'])['clase'].count()"
      ],
      "metadata": {
        "colab": {
          "base_uri": "https://localhost:8080/"
        },
        "id": "BxqoT2LCHhlS",
        "outputId": "a0dc6b33-4c87-41ea-b553-e453ce651dba"
      },
      "execution_count": 13,
      "outputs": [
        {
          "output_type": "execute_result",
          "data": {
            "text/plain": [
              "clase\n",
              "Boleto Universitario                   193\n",
              "Cambio de Carrera                       79\n",
              "Cambio de Comisión                     103\n",
              "Consulta por Equivalencias              48\n",
              "Consulta por Legajo                     99\n",
              "Consulta sobre Título Universitario     78\n",
              "Cursadas                               103\n",
              "Datos Personales                        60\n",
              "Exámenes                               100\n",
              "Ingreso a la Universidad               193\n",
              "Pedido de Certificados                 193\n",
              "Problemas con la Clave                 193\n",
              "Reincorporación                         64\n",
              "Requisitos de Ingreso                  193\n",
              "Simultaneidad de Carreras               76\n",
              "Situación Académica                     69\n",
              "Name: clase, dtype: int64"
            ]
          },
          "metadata": {},
          "execution_count": 13
        }
      ]
    },
    {
      "cell_type": "markdown",
      "source": [
        "Separo en train y test:"
      ],
      "metadata": {
        "id": "XdqJ81JgH1Fx"
      }
    },
    {
      "cell_type": "code",
      "source": [
        "consultas_train = list(df_train['consulta'])\n",
        "y_train = list(df_train['clase'])"
      ],
      "metadata": {
        "id": "uZR67N7mH0pk"
      },
      "execution_count": 14,
      "outputs": []
    },
    {
      "cell_type": "markdown",
      "source": [
        "### Estrategia de representación de la consulta\n",
        "\n",
        "A continuación se representa la consulta a partir de features."
      ],
      "metadata": {
        "id": "gxsTgb26anF4"
      }
    },
    {
      "cell_type": "code",
      "source": [
        "from sklearn.feature_extraction.text import TfidfVectorizer\n",
        "\n",
        "vectorizer = TfidfVectorizer(analyzer='char', ngram_range=(3,4), token_pattern = '[\\w\\/\\%]+')\n",
        "\n",
        "X_train = vectorizer.fit_transform(consultas_train)\n",
        "X_test = vectorizer.transform(consultas_test)     \n",
        "\n",
        "# Esta función va dentro de un iterador entre las 5 estrategias   \n",
        "estrategia = '3-4-NGRAM-CHARS' \n",
        "print('Estrategia de representación: {}' . format(estrategia))"
      ],
      "metadata": {
        "colab": {
          "base_uri": "https://localhost:8080/"
        },
        "id": "2k5RzZxhamWm",
        "outputId": "2e554e1b-e2fb-4966-d2e0-00b36d4c1bb2"
      },
      "execution_count": 15,
      "outputs": [
        {
          "output_type": "stream",
          "name": "stdout",
          "text": [
            "Estrategia de representación: 3-4-NGRAM-CHARS\n"
          ]
        }
      ]
    },
    {
      "cell_type": "markdown",
      "metadata": {
        "id": "fiAo2N8TX-ao"
      },
      "source": [
        "## Generación de Modelos\n",
        "\n",
        "Se generan modelos en función de los datos balanceados con la estrategia propuesta.\n",
        "\n",
        "Se define el espacio de búsqueda para el ajuste de hiperparámetros de todos los modelos:"
      ]
    },
    {
      "cell_type": "code",
      "metadata": {
        "id": "k3TOc1GcX-rg"
      },
      "source": [
        "BUSCA_MEJOR_MODELO = True\n",
        "\n",
        "if BUSCA_MEJOR_MODELO:\n",
        "  # Defino los parámetros para GridSearchCV\n",
        "  params_svm = {'C': [0.01, 0.1, 1], \n",
        "                'gamma': [0.1, 0.01],\n",
        "                'class_weight': [None, 'balanced'],\n",
        "                'kernel': ['rbf', 'linear', 'sigmoid']\n",
        "                }"
      ],
      "execution_count": 16,
      "outputs": []
    },
    {
      "cell_type": "markdown",
      "source": [
        "Se importan las librerías a utilizar:"
      ],
      "metadata": {
        "id": "ZK-F5MDkPc4z"
      }
    },
    {
      "cell_type": "code",
      "source": [
        "import time\n",
        "from sklearn.svm import SVC\n",
        "from sklearn.model_selection import GridSearchCV\n",
        "\n",
        "# Vemos un reporte de clasificación de varias métricas\n",
        "from imblearn.metrics import classification_report_imbalanced\n",
        "from sklearn.metrics import accuracy_score\n"
      ],
      "metadata": {
        "id": "ARDNCIIFPc_S"
      },
      "execution_count": 17,
      "outputs": []
    },
    {
      "cell_type": "markdown",
      "metadata": {
        "id": "lmnm8yPmYGAR"
      },
      "source": [
        "Se ejecuta el ajuste de hiperparámetros para cada estrategia de representación en función del espacio de búsqueda:"
      ]
    },
    {
      "cell_type": "code",
      "source": [
        "# Calculo la hora actual\n",
        "hora_actual = time.strftime('%H:%M:%S', time.localtime())\n",
        "\n",
        "grid_search=GridSearchCV(SVC(), param_grid=params_svm, cv=None, n_jobs=-1, verbose=3)\n",
        "grid_search.fit(X_train, y_train)\n",
        "\n",
        "# Se realizan las predicciones sobre el conjunto de validación\n",
        "predictions = grid_search.predict(X_test) \n",
        "\n",
        "# Modelo a \"mano\"\n",
        "#clf = SVC(C=0.1, class_weight='balanced', gamma=0.01, kernel='linear')\n",
        "#clf.fit(X_resampled, y_resampled)\n",
        "#clf.fit(X_train, y_train)\n",
        "# Genero las clases para los casos de prueba, según el modelo\n",
        "#predictions = clf.predict(X_test)"
      ],
      "metadata": {
        "colab": {
          "base_uri": "https://localhost:8080/"
        },
        "id": "G3A1WvPaenJH",
        "outputId": "4bf4215f-063d-412d-c1c2-d6365721cb67"
      },
      "execution_count": 18,
      "outputs": [
        {
          "output_type": "stream",
          "name": "stdout",
          "text": [
            "Fitting 5 folds for each of 36 candidates, totalling 180 fits\n"
          ]
        }
      ]
    },
    {
      "cell_type": "code",
      "source": [
        "print(classification_report_imbalanced(y_test, predictions, target_names=etiquetas))\n",
        "print(f'Accuracy: {accuracy_score(y_test, predictions)}')"
      ],
      "metadata": {
        "colab": {
          "base_uri": "https://localhost:8080/"
        },
        "id": "uf1ZVfbBjc87",
        "outputId": "d32045ac-3835-400e-f3dc-2bd8ec2c30ac"
      },
      "execution_count": 19,
      "outputs": [
        {
          "output_type": "stream",
          "name": "stdout",
          "text": [
            "                                           pre       rec       spe        f1       geo       iba       sup\n",
            "\n",
            "               Boleto Universitario       1.00      0.98      1.00      0.99      0.99      0.98        48\n",
            "                  Cambio de Carrera       0.67      1.00      0.99      0.80      1.00      1.00         2\n",
            "                 Cambio de Comisión       1.00      1.00      1.00      1.00      1.00      1.00         2\n",
            "         Consulta por Equivalencias       1.00      0.67      1.00      0.80      0.82      0.64         3\n",
            "                Consulta por Legajo       0.40      0.67      0.98      0.50      0.81      0.64         3\n",
            "Consulta sobre Título Universitario       0.75      1.00      0.99      0.86      1.00      1.00         3\n",
            "                           Cursadas       0.53      0.89      0.92      0.67      0.91      0.82        19\n",
            "                   Datos Personales       0.00      0.00      0.99      0.00      0.00      0.00         2\n",
            "                           Exámenes       0.80      0.80      0.99      0.80      0.89      0.78         5\n",
            "           Ingreso a la Universidad       0.93      0.76      0.99      0.83      0.87      0.73        33\n",
            "             Pedido de Certificados       0.94      1.00      0.99      0.97      1.00      1.00        15\n",
            "             Problemas con la Clave       0.87      0.87      0.98      0.87      0.92      0.85        23\n",
            "                    Reincorporación       0.86      0.55      0.99      0.67      0.74      0.52        11\n",
            "              Requisitos de Ingreso       0.84      0.67      0.98      0.74      0.81      0.63        24\n",
            "          Simultaneidad de Carreras       0.00      0.00      0.99      0.00      0.00      0.00         1\n",
            "                Situación Académica       0.75      0.50      0.99      0.60      0.71      0.47         6\n",
            "\n",
            "                        avg / total       0.85      0.82      0.98      0.83      0.89      0.80       200\n",
            "\n",
            "Accuracy: 0.82\n"
          ]
        }
      ]
    },
    {
      "cell_type": "markdown",
      "source": [
        "## Matriz de confusión\n",
        "\n",
        "Se genera una matriz de confusión de uno de los modelos."
      ],
      "metadata": {
        "id": "VK-MDpoc6OFC"
      }
    },
    {
      "cell_type": "code",
      "metadata": {
        "id": "yUAbLleKZsS1",
        "colab": {
          "base_uri": "https://localhost:8080/",
          "height": 792
        },
        "outputId": "672a1c98-6430-4d91-8a83-9bd6d867486f"
      },
      "source": [
        "def matriz_confusion(y_real, y_predictions):\n",
        "  \"\"\"\n",
        "  Grafica una matriz de confusión con seaborn en función de la clase observada\n",
        "  y la clase predicha.\n",
        "  \"\"\"\n",
        "\n",
        "  import numpy as np\n",
        "  from sklearn import metrics\n",
        "  import seaborn as sns\n",
        "  import matplotlib.pyplot as plt\n",
        "  \n",
        "  matriz_confusion = metrics.confusion_matrix(y_real, y_predictions).T\n",
        "  etiquetas = np.unique(y_real)\n",
        "\n",
        "  sns.set()\n",
        "  my_mask = np.zeros((matriz_confusion.shape[0], matriz_confusion.shape[0]), dtype=int)\n",
        "  for i in range(matriz_confusion.shape[0]):\n",
        "      for j in range(matriz_confusion.shape[0]):\n",
        "          my_mask[i][j] = matriz_confusion[i][j] == 0 \n",
        "    \n",
        "  fig_dims = (10, 10)\n",
        "  plt.subplots(figsize=fig_dims)\n",
        "\n",
        "  ax = sns.heatmap(matriz_confusion,\n",
        "                  xticklabels=etiquetas,\n",
        "                  annot=True, \n",
        "                  fmt=\"d\", \n",
        "                  linewidths=.5, \n",
        "                  cmap=\"Blues\", \n",
        "                  cbar=False, \n",
        "                  mask=my_mask, \n",
        "                  vmax=15)\n",
        "\n",
        "  plt.gcf().set_size_inches(10, 10)\n",
        "  plt.xticks(rotation=90, ha=\"center\")\n",
        "  plt.yticks(np.arange(len(etiquetas))+0.5, etiquetas, rotation='horizontal')\n",
        "\n",
        "  plt.xlabel('Clase Real')\n",
        "  plt.ylabel('Clase Predicha');\n",
        "\n",
        "  plt.show()\n",
        "\n",
        "matriz_confusion(y_test, predictions)"
      ],
      "execution_count": 20,
      "outputs": [
        {
          "output_type": "display_data",
          "data": {
            "text/plain": [
              "<Figure size 720x720 with 1 Axes>"
            ],
            "image/png": "[encoded data removed]"
          },
          "metadata": {}
        }
      ]
    },
    {
      "cell_type": "markdown",
      "metadata": {
        "id": "0a1K2447qjxE"
      },
      "source": [
        "# Referencias\n",
        "- imbalanced-learn documentation https://imbalanced-learn.org/\n",
        "- sklearn.model_selection.GridSearchCV https://scikit-learn.org/stable/modules/generated/sklearn.model_selection.GridSearchCV.html\n",
        "- ML Pipelines using scikit-learn and GridSearchCV https://medium.com/analytics-vidhya/ml-pipelines-using-scikit-learn-and-gridsearchcv-fe605a7f9e05"
      ]
    }
  ]
}