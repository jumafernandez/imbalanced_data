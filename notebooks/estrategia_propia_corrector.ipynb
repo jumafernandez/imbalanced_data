{
  "nbformat": 4,
  "nbformat_minor": 0,
  "metadata": {
    "colab": {
      "provenance": [],
      "toc_visible": true,
      "include_colab_link": true
    },
    "kernelspec": {
      "name": "python3",
      "display_name": "Python 3"
    }
  },
  "cells": [
    {
      "cell_type": "markdown",
      "metadata": {
        "id": "view-in-github",
        "colab_type": "text"
      },
      "source": [
        "<a href=\"https://colab.research.google.com/github/jumafernandez/imbalanced_data/blob/main/notebooks/estrategia_propia_corrector.ipynb\" target=\"_parent\"><img src=\"https://colab.research.google.com/assets/colab-badge.svg\" alt=\"Open In Colab\"/></a>"
      ]
    },
    {
      "cell_type": "markdown",
      "metadata": {
        "id": "5DuUrVBgeUso"
      },
      "source": [
        "# Recuperación de instancias no sintéticas\n",
        "\n",
        "__Autor:__ Juan Manuel Fernandez\n",
        "\n",
        "__Objetivo:__ En esta notebook se evalúa una estrategia de balanceo de instancias propia basada en la recuperación de instancias no sintéticas como estrategia para el balanceo de clases para problemas de clasificación automática de textos."
      ]
    },
    {
      "cell_type": "markdown",
      "metadata": {
        "id": "FBLanwDJVnFF"
      },
      "source": [
        "## Instalación y Carga de librerías y funciones útiles\n",
        "\n",
        "### Instalación de librerías\n",
        "\n",
        "Se instalan las librerías que no están en el entorno de Google Colab"
      ]
    },
    {
      "cell_type": "code",
      "metadata": {
        "colab": {
          "base_uri": "https://localhost:8080/"
        },
        "id": "644uDER_VnXj",
        "outputId": "b0f5a6a7-bbc9-49f8-8675-621d2af1eb22"
      },
      "source": [
        "# Se instala gensim que es el que tiene el modelo Word2Vec\n",
        "!pip install requests\n",
        "!pip install wget\n",
        "!pip install -U imbalanced-learn\n",
        "!pip install pyspellchecker"
      ],
      "execution_count": 1,
      "outputs": [
        {
          "output_type": "stream",
          "name": "stdout",
          "text": [
            "Looking in indexes: https://pypi.org/simple, https://us-python.pkg.dev/colab-wheels/public/simple/\n",
            "Requirement already satisfied: requests in /usr/local/lib/python3.8/dist-packages (2.25.1)\n",
            "Requirement already satisfied: chardet<5,>=3.0.2 in /usr/local/lib/python3.8/dist-packages (from requests) (4.0.0)\n",
            "Requirement already satisfied: certifi>=2017.4.17 in /usr/local/lib/python3.8/dist-packages (from requests) (2022.12.7)\n",
            "Requirement already satisfied: idna<3,>=2.5 in /usr/local/lib/python3.8/dist-packages (from requests) (2.10)\n",
            "Requirement already satisfied: urllib3<1.27,>=1.21.1 in /usr/local/lib/python3.8/dist-packages (from requests) (1.24.3)\n",
            "Looking in indexes: https://pypi.org/simple, https://us-python.pkg.dev/colab-wheels/public/simple/\n",
            "Requirement already satisfied: wget in /usr/local/lib/python3.8/dist-packages (3.2)\n",
            "Looking in indexes: https://pypi.org/simple, https://us-python.pkg.dev/colab-wheels/public/simple/\n",
            "Requirement already satisfied: imbalanced-learn in /usr/local/lib/python3.8/dist-packages (0.10.1)\n",
            "Requirement already satisfied: joblib>=1.1.1 in /usr/local/lib/python3.8/dist-packages (from imbalanced-learn) (1.2.0)\n",
            "Requirement already satisfied: scikit-learn>=1.0.2 in /usr/local/lib/python3.8/dist-packages (from imbalanced-learn) (1.0.2)\n",
            "Requirement already satisfied: numpy>=1.17.3 in /usr/local/lib/python3.8/dist-packages (from imbalanced-learn) (1.21.6)\n",
            "Requirement already satisfied: threadpoolctl>=2.0.0 in /usr/local/lib/python3.8/dist-packages (from imbalanced-learn) (3.1.0)\n",
            "Requirement already satisfied: scipy>=1.3.2 in /usr/local/lib/python3.8/dist-packages (from imbalanced-learn) (1.7.3)\n",
            "Looking in indexes: https://pypi.org/simple, https://us-python.pkg.dev/colab-wheels/public/simple/\n",
            "Requirement already satisfied: pyspellchecker in /usr/local/lib/python3.8/dist-packages (0.7.1)\n"
          ]
        }
      ]
    },
    {
      "cell_type": "markdown",
      "metadata": {
        "id": "43fDuhK2V1kx"
      },
      "source": [
        "### Funciones útiles\n",
        "\n",
        "Se cargan funciones útiles desde el repo https://github.com/jumafernandez/clasificacion_correos para la carga del dataset."
      ]
    },
    {
      "cell_type": "code",
      "metadata": {
        "id": "oQvZz035bSMf"
      },
      "source": [
        "import requests\n",
        "\n",
        "# Se hace el request del raw del script python\n",
        "url = 'https://raw.githubusercontent.com/jumafernandez/clasificacion_correos/main/tesis/scripts/semi-supervisado/funciones_dataset.py'\n",
        "r = requests.get(url)\n",
        "\n",
        "# Se guarda en el working directory\n",
        "with open('funciones_dataset.py', 'w') as f:\n",
        "    f.write(r.text)\n",
        "\n",
        "# Se importan las funciones a utilizar\n",
        "from funciones_dataset import get_clases, cargar_dataset, consolidar_df"
      ],
      "execution_count": 2,
      "outputs": []
    },
    {
      "cell_type": "markdown",
      "metadata": {
        "id": "MDxjaGIfV-rT"
      },
      "source": [
        "También se carga la función para preprocesar el texto que se usó en los otros modelos desde el repo: https://github.com/jumafernandez/clasificacion_correos."
      ]
    },
    {
      "cell_type": "code",
      "metadata": {
        "id": "o0o2NndLWDVC"
      },
      "source": [
        "import requests\n",
        "\n",
        "# Se hace el request del raw del script python\n",
        "url = 'https://raw.githubusercontent.com/jumafernandez/clasificacion_correos/main/tesis/scripts/supervisado/funciones_preprocesamiento.py'\n",
        "r = requests.get(url)\n",
        "\n",
        "# Se guarda en el working directory\n",
        "with open('funciones_preprocesamiento.py', 'w') as f:\n",
        "    f.write(r.text)\n",
        "\n",
        "# Se importan las funciones a utilizar\n",
        "from funciones_preprocesamiento import preprocesar_correos"
      ],
      "execution_count": 3,
      "outputs": []
    },
    {
      "cell_type": "markdown",
      "source": [
        "Y las utilizadas para la representación de documentos."
      ],
      "metadata": {
        "id": "L4_vfJr5b0g8"
      }
    },
    {
      "cell_type": "code",
      "source": [
        "import requests\n",
        "\n",
        "# Se hace el request del raw del script python\n",
        "url = 'https://raw.githubusercontent.com/jumafernandez/clasificacion_correos/main/tesis/scripts/supervisado/funciones_clasificacion_texto.py'\n",
        "r = requests.get(url)\n",
        "\n",
        "# Se guarda en el working directory\n",
        "with open('funciones_clasificacion_texto.py', 'w') as f:\n",
        "    f.write(r.text)\n",
        "\n",
        "# Se importan las funciones a utilizar\n",
        "from funciones_clasificacion_texto import representacion_documentos"
      ],
      "metadata": {
        "id": "Tje0k3ppbz1N"
      },
      "execution_count": 4,
      "outputs": []
    },
    {
      "cell_type": "markdown",
      "metadata": {
        "id": "-uv6R5UQWWmE"
      },
      "source": [
        "### Carga de datos\n",
        "\n",
        "Se carga el dataframe en memoria con el preprocesamiento de los datos:"
      ]
    },
    {
      "cell_type": "code",
      "metadata": {
        "colab": {
          "base_uri": "https://localhost:8080/"
        },
        "id": "MP4lJ_KVvBSO",
        "outputId": "e8a84d9d-1359-4d51-b818-8b3b5fa708a0"
      },
      "source": [
        "import warnings\n",
        "from os import path\n",
        "import pandas as pd\n",
        "warnings.filterwarnings(\"ignore\")\n",
        "\n",
        "# Constantes con los datos\n",
        "DS_DIR = 'https://raw.githubusercontent.com/jumafernandez/clasificacion_correos/main/tesis/data/'\n",
        "TRAIN_FILE = '02-01-correos-train-80.csv'\n",
        "TEST_FILE = '02-02-correos-test-20.csv'\n",
        "\n",
        "etiquetas = get_clases()\n",
        "\n",
        "# Chequeo sobre si los archivos están en el working directory\n",
        "if not(path.exists(TRAIN_FILE)):\n",
        "  # Genero el enlace completo\n",
        "  URL_file_train = DS_DIR + TRAIN_FILE\n",
        "  URL_file_test = DS_DIR + TEST_FILE\n",
        "  # Descargo los archivos\n",
        "  import wget\n",
        "  wget.download(URL_file_train)\n",
        "  wget.download(URL_file_test)\n",
        "  \n",
        "# Leemos el archivo en un dataframe\n",
        "df_train = pd.read_csv(TRAIN_FILE)\n",
        "df_test = pd.read_csv(TEST_FILE)\n",
        "\n",
        "# Se ejecuta el preprocesamiento de correos sobre el campo Consulta de train y test\n",
        "import pandas as pd\n",
        "df_train['consulta'] = list(preprocesar_correos(df_train['consulta']))\n",
        "df_test['consulta'] = list(preprocesar_correos(df_test['consulta']))\n",
        "\n",
        "print(f\"\\nEl conjunto de entrenamiento tiene la dimensión: {len(df_train)}.\")\n",
        "print(f\"El conjunto de testeo tiene la dimensión: {len(df_test)}.\")\n",
        "\n",
        "df_train = df_train[['consulta', 'clase']]\n",
        "\n",
        "consultas_test = list(df_test['consulta'])\n",
        "y_test = list(df_test['clase'])"
      ],
      "execution_count": 5,
      "outputs": [
        {
          "output_type": "stream",
          "name": "stdout",
          "text": [
            "\n",
            "El conjunto de entrenamiento tiene la dimensión: 800.\n",
            "El conjunto de testeo tiene la dimensión: 200.\n"
          ]
        }
      ]
    },
    {
      "cell_type": "markdown",
      "source": [
        "### Incorporación de las instancias no sintéticas para el balanceo de carga\n",
        "\n",
        "Se incorporan las instancias no sintéticas recuperadas de Elasticsearch para las estrategias de *feature selection* (SS3  $U$ TF-IDF)."
      ],
      "metadata": {
        "id": "8-6SONyxiNdG"
      }
    },
    {
      "cell_type": "markdown",
      "source": [
        "En primer lugar se carga el dataset con 200 instancias por clase recuperadas con boosting:"
      ],
      "metadata": {
        "id": "VcsVaFAUirYP"
      }
    },
    {
      "cell_type": "code",
      "source": [
        "DIR = 'https://raw.githubusercontent.com/jumafernandez/clasificacion_correos/main/tesis/data/03-elasticsearch/sin_procesar/'\n",
        "\n",
        "FILE_ss3 = 'dataset-ss3-200-boosting.csv'\n",
        "FILE_tfidf = 'dataset-tfidf-200-boosting.csv'\n",
        "\n",
        "if not(path.exists(FILE_ss3)) or not(path.exists(FILE_tfidf)):\n",
        "  # Genero el enlace completo\n",
        "  URL_file_ss3 = DIR + FILE_ss3\n",
        "  URL_file_tfidf = DIR + FILE_tfidf\n",
        "  # Descargo los archivos\n",
        "  import wget\n",
        "  wget.download(URL_file_ss3)\n",
        "  wget.download(URL_file_tfidf)\n",
        "\n",
        "# Leemos los archivos en un dataframe\n",
        "df_ss3 = pd.read_csv(FILE_ss3)\n",
        "df_tfidf = pd.read_csv(FILE_tfidf)\n",
        "\n",
        "df_ss3 = df_ss3[['consulta', 'score', 'clase']]\n",
        "df_tfidf = df_tfidf[['consulta', 'score', 'clase']]\n",
        "\n",
        "# Preprocesamos las consultas\n",
        "df_ss3['consulta'] = pd.Series(preprocesar_correos(df_ss3['consulta']))\n",
        "df_tfidf['consulta'] = pd.Series(preprocesar_correos(df_tfidf['consulta']))\n",
        "\n",
        "# Verifico que no haya instancias con faltantes y si hay las borro\n",
        "df_ss3 = df_ss3.dropna()\n",
        "df_tfidf = df_tfidf.dropna()\n",
        "\n",
        "print(f\"\\nEl conjunto de datos SS3 posee {len(df_ss3)} instancias.\")\n",
        "print(f\"El conjunto de datos TF-IDF posee {len(df_tfidf)} instancias.\")"
      ],
      "metadata": {
        "colab": {
          "base_uri": "https://localhost:8080/"
        },
        "id": "vjhkDHjrivOO",
        "outputId": "21fbbb99-388d-451a-fc2b-14c1c3ba70bc"
      },
      "execution_count": 6,
      "outputs": [
        {
          "output_type": "stream",
          "name": "stdout",
          "text": [
            "\n",
            "El conjunto de datos SS3 posee 3200 instancias.\n",
            "El conjunto de datos TF-IDF posee 3200 instancias.\n"
          ]
        }
      ]
    },
    {
      "cell_type": "markdown",
      "source": [
        "Ahora joineamos las instancias de cada estrategia que coinciden y hacemos el promedio de los scores para cada estrategia:"
      ],
      "metadata": {
        "id": "O8Oq4ZY4oLoW"
      }
    },
    {
      "cell_type": "code",
      "source": [
        "# Transformo un df a una lista de diccionarios\n",
        "ss3_list = df_ss3.to_dict('records')\n",
        "\n",
        "# Y el otro en 3 listas (una con la consulta, otra con el score y otra con la clase)\n",
        "tf_consulta = list(df_tfidf['consulta'])\n",
        "tf_clase = list(df_tfidf['clase'])\n",
        "tf_score = list(df_tfidf['score'])"
      ],
      "metadata": {
        "id": "bEzRDHVPsEpn"
      },
      "execution_count": 7,
      "outputs": []
    },
    {
      "cell_type": "code",
      "source": [
        "join_consultas = pd.DataFrame(columns = ['consulta', 'score', 'clase'])\n",
        "                    \n",
        "for r in ss3_list:\n",
        "  if (r['consulta'] in tf_consulta) and (r['clase'] == tf_clase[tf_consulta.index(r['consulta'])]):\n",
        "    \n",
        "    # Me guardo un df con la consulta y el score promedio\n",
        "    score_avg = (r['score'] + tf_score[tf_consulta.index(r['consulta'])])/2\n",
        "    aux = {'consulta': r['consulta'], 'score': score_avg, 'clase': r['clase']}\n",
        "        \n",
        "    join_consultas = join_consultas.append(aux, ignore_index=True)"
      ],
      "metadata": {
        "id": "PqLksFJioXP0"
      },
      "execution_count": 8,
      "outputs": []
    },
    {
      "cell_type": "markdown",
      "source": [
        "Obtenemos la siguiente cantidad de instancias no sintéticas por clase:"
      ],
      "metadata": {
        "id": "veerXU5O3tox"
      }
    },
    {
      "cell_type": "code",
      "source": [
        "cantidad_balanceo = join_consultas.groupby(['clase'])['clase'].count()\n",
        "\n",
        "cantidad_balanceo"
      ],
      "metadata": {
        "colab": {
          "base_uri": "https://localhost:8080/"
        },
        "id": "HKnpUfWRzqVH",
        "outputId": "764f4403-2050-4376-aa01-83be56f188ff"
      },
      "execution_count": 9,
      "outputs": [
        {
          "output_type": "execute_result",
          "data": {
            "text/plain": [
              "clase\n",
              "Boleto Universitario                    74\n",
              "Cambio de Carrera                       68\n",
              "Cambio de Comisión                      95\n",
              "Consulta por Equivalencias              38\n",
              "Consulta por Legajo                     84\n",
              "Consulta sobre Título Universitario     68\n",
              "Cursadas                                28\n",
              "Datos Personales                        54\n",
              "Exámenes                                82\n",
              "Ingreso a la Universidad                71\n",
              "Pedido de Certificados                 137\n",
              "Problemas con la Clave                 124\n",
              "Reincorporación                         21\n",
              "Requisitos de Ingreso                  147\n",
              "Simultaneidad de Carreras               70\n",
              "Situación Académica                     47\n",
              "Name: clase, dtype: int64"
            ]
          },
          "metadata": {},
          "execution_count": 9
        }
      ]
    },
    {
      "cell_type": "markdown",
      "source": [
        "Ordeno las instancias no sintéticas por clase y score (descendente):"
      ],
      "metadata": {
        "id": "Ia5Myz738Jjj"
      }
    },
    {
      "cell_type": "code",
      "source": [
        "join_consultas = join_consultas.sort_values(['clase','score'], ascending=False)\n",
        "\n",
        "join_consultas"
      ],
      "metadata": {
        "colab": {
          "base_uri": "https://localhost:8080/",
          "height": 424
        },
        "id": "tL8LbPpa74RZ",
        "outputId": "9f83d10a-ec2f-47a2-cf83-ce842926ce2a"
      },
      "execution_count": 10,
      "outputs": [
        {
          "output_type": "execute_result",
          "data": {
            "text/plain": [
              "                                               consulta      score  \\\n",
              "1162  buenos dias comunico situacion academica respe...  26.721049   \n",
              "1163  buenas tardes curse gimnasia formativa 34004 p...  25.319655   \n",
              "1161  buenos dias duda respecto situacion academica ...  24.868055   \n",
              "1164  hola 16 mayo rendi final taller lectura compre...  22.607658   \n",
              "1190  buenos dias quisiera saber figura finales cond...  22.222622   \n",
              "...                                                 ...        ...   \n",
              "67    buenas tardes quisiera realizar consulta respe...  22.612747   \n",
              "73    buenos dias cuatrimestre pasado inscribi bolet...  22.587778   \n",
              "70    buen dia boleto estudiantil hace varios meses ...  22.451445   \n",
              "63    hice tramite boleto estudiantil hace meses tod...  22.184043   \n",
              "71    ano pasado recibia beneficio boleto estudianti...  22.090184   \n",
              "\n",
              "                     clase  \n",
              "1162   Situación Académica  \n",
              "1163   Situación Académica  \n",
              "1161   Situación Académica  \n",
              "1164   Situación Académica  \n",
              "1190   Situación Académica  \n",
              "...                    ...  \n",
              "67    Boleto Universitario  \n",
              "73    Boleto Universitario  \n",
              "70    Boleto Universitario  \n",
              "63    Boleto Universitario  \n",
              "71    Boleto Universitario  \n",
              "\n",
              "[1208 rows x 3 columns]"
            ],
            "text/html": [
              "\n",
              "  <div id=\"df-2f8667cd-70dd-461f-93cc-c02bd4a264ff\">\n",
              "    <div class=\"colab-df-container\">\n",
              "      <div>\n",
              "<style scoped>\n",
              "    .dataframe tbody tr th:only-of-type {\n",
              "        vertical-align: middle;\n",
              "    }\n",
              "\n",
              "    .dataframe tbody tr th {\n",
              "        vertical-align: top;\n",
              "    }\n",
              "\n",
              "    .dataframe thead th {\n",
              "        text-align: right;\n",
              "    }\n",
              "</style>\n",
              "<table border=\"1\" class=\"dataframe\">\n",
              "  <thead>\n",
              "    <tr style=\"text-align: right;\">\n",
              "      <th></th>\n",
              "      <th>consulta</th>\n",
              "      <th>score</th>\n",
              "      <th>clase</th>\n",
              "    </tr>\n",
              "  </thead>\n",
              "  <tbody>\n",
              "    <tr>\n",
              "      <th>1162</th>\n",
              "      <td>buenos dias comunico situacion academica respe...</td>\n",
              "      <td>26.721049</td>\n",
              "      <td>Situación Académica</td>\n",
              "    </tr>\n",
              "    <tr>\n",
              "      <th>1163</th>\n",
              "      <td>buenas tardes curse gimnasia formativa 34004 p...</td>\n",
              "      <td>25.319655</td>\n",
              "      <td>Situación Académica</td>\n",
              "    </tr>\n",
              "    <tr>\n",
              "      <th>1161</th>\n",
              "      <td>buenos dias duda respecto situacion academica ...</td>\n",
              "      <td>24.868055</td>\n",
              "      <td>Situación Académica</td>\n",
              "    </tr>\n",
              "    <tr>\n",
              "      <th>1164</th>\n",
              "      <td>hola 16 mayo rendi final taller lectura compre...</td>\n",
              "      <td>22.607658</td>\n",
              "      <td>Situación Académica</td>\n",
              "    </tr>\n",
              "    <tr>\n",
              "      <th>1190</th>\n",
              "      <td>buenos dias quisiera saber figura finales cond...</td>\n",
              "      <td>22.222622</td>\n",
              "      <td>Situación Académica</td>\n",
              "    </tr>\n",
              "    <tr>\n",
              "      <th>...</th>\n",
              "      <td>...</td>\n",
              "      <td>...</td>\n",
              "      <td>...</td>\n",
              "    </tr>\n",
              "    <tr>\n",
              "      <th>67</th>\n",
              "      <td>buenas tardes quisiera realizar consulta respe...</td>\n",
              "      <td>22.612747</td>\n",
              "      <td>Boleto Universitario</td>\n",
              "    </tr>\n",
              "    <tr>\n",
              "      <th>73</th>\n",
              "      <td>buenos dias cuatrimestre pasado inscribi bolet...</td>\n",
              "      <td>22.587778</td>\n",
              "      <td>Boleto Universitario</td>\n",
              "    </tr>\n",
              "    <tr>\n",
              "      <th>70</th>\n",
              "      <td>buen dia boleto estudiantil hace varios meses ...</td>\n",
              "      <td>22.451445</td>\n",
              "      <td>Boleto Universitario</td>\n",
              "    </tr>\n",
              "    <tr>\n",
              "      <th>63</th>\n",
              "      <td>hice tramite boleto estudiantil hace meses tod...</td>\n",
              "      <td>22.184043</td>\n",
              "      <td>Boleto Universitario</td>\n",
              "    </tr>\n",
              "    <tr>\n",
              "      <th>71</th>\n",
              "      <td>ano pasado recibia beneficio boleto estudianti...</td>\n",
              "      <td>22.090184</td>\n",
              "      <td>Boleto Universitario</td>\n",
              "    </tr>\n",
              "  </tbody>\n",
              "</table>\n",
              "<p>1208 rows × 3 columns</p>\n",
              "</div>\n",
              "      <button class=\"colab-df-convert\" onclick=\"convertToInteractive('df-2f8667cd-70dd-461f-93cc-c02bd4a264ff')\"\n",
              "              title=\"Convert this dataframe to an interactive table.\"\n",
              "              style=\"display:none;\">\n",
              "        \n",
              "  <svg xmlns=\"http://www.w3.org/2000/svg\" height=\"24px\"viewBox=\"0 0 24 24\"\n",
              "       width=\"24px\">\n",
              "    <path d=\"M0 0h24v24H0V0z\" fill=\"none\"/>\n",
              "    <path d=\"M18.56 5.44l.94 2.06.94-2.06 2.06-.94-2.06-.94-.94-2.06-.94 2.06-2.06.94zm-11 1L8.5 8.5l.94-2.06 2.06-.94-2.06-.94L8.5 2.5l-.94 2.06-2.06.94zm10 10l.94 2.06.94-2.06 2.06-.94-2.06-.94-.94-2.06-.94 2.06-2.06.94z\"/><path d=\"M17.41 7.96l-1.37-1.37c-.4-.4-.92-.59-1.43-.59-.52 0-1.04.2-1.43.59L10.3 9.45l-7.72 7.72c-.78.78-.78 2.05 0 2.83L4 21.41c.39.39.9.59 1.41.59.51 0 1.02-.2 1.41-.59l7.78-7.78 2.81-2.81c.8-.78.8-2.07 0-2.86zM5.41 20L4 18.59l7.72-7.72 1.47 1.35L5.41 20z\"/>\n",
              "  </svg>\n",
              "      </button>\n",
              "      \n",
              "  <style>\n",
              "    .colab-df-container {\n",
              "      display:flex;\n",
              "      flex-wrap:wrap;\n",
              "      gap: 12px;\n",
              "    }\n",
              "\n",
              "    .colab-df-convert {\n",
              "      background-color: #E8F0FE;\n",
              "      border: none;\n",
              "      border-radius: 50%;\n",
              "      cursor: pointer;\n",
              "      display: none;\n",
              "      fill: #1967D2;\n",
              "      height: 32px;\n",
              "      padding: 0 0 0 0;\n",
              "      width: 32px;\n",
              "    }\n",
              "\n",
              "    .colab-df-convert:hover {\n",
              "      background-color: #E2EBFA;\n",
              "      box-shadow: 0px 1px 2px rgba(60, 64, 67, 0.3), 0px 1px 3px 1px rgba(60, 64, 67, 0.15);\n",
              "      fill: #174EA6;\n",
              "    }\n",
              "\n",
              "    [theme=dark] .colab-df-convert {\n",
              "      background-color: #3B4455;\n",
              "      fill: #D2E3FC;\n",
              "    }\n",
              "\n",
              "    [theme=dark] .colab-df-convert:hover {\n",
              "      background-color: #434B5C;\n",
              "      box-shadow: 0px 1px 3px 1px rgba(0, 0, 0, 0.15);\n",
              "      filter: drop-shadow(0px 1px 2px rgba(0, 0, 0, 0.3));\n",
              "      fill: #FFFFFF;\n",
              "    }\n",
              "  </style>\n",
              "\n",
              "      <script>\n",
              "        const buttonEl =\n",
              "          document.querySelector('#df-2f8667cd-70dd-461f-93cc-c02bd4a264ff button.colab-df-convert');\n",
              "        buttonEl.style.display =\n",
              "          google.colab.kernel.accessAllowed ? 'block' : 'none';\n",
              "\n",
              "        async function convertToInteractive(key) {\n",
              "          const element = document.querySelector('#df-2f8667cd-70dd-461f-93cc-c02bd4a264ff');\n",
              "          const dataTable =\n",
              "            await google.colab.kernel.invokeFunction('convertToInteractive',\n",
              "                                                     [key], {});\n",
              "          if (!dataTable) return;\n",
              "\n",
              "          const docLinkHtml = 'Like what you see? Visit the ' +\n",
              "            '<a target=\"_blank\" href=https://colab.research.google.com/notebooks/data_table.ipynb>data table notebook</a>'\n",
              "            + ' to learn more about interactive tables.';\n",
              "          element.innerHTML = '';\n",
              "          dataTable['output_type'] = 'display_data';\n",
              "          await google.colab.output.renderOutput(dataTable, element);\n",
              "          const docLink = document.createElement('div');\n",
              "          docLink.innerHTML = docLinkHtml;\n",
              "          element.appendChild(docLink);\n",
              "        }\n",
              "      </script>\n",
              "    </div>\n",
              "  </div>\n",
              "  "
            ]
          },
          "metadata": {},
          "execution_count": 10
        }
      ]
    },
    {
      "cell_type": "markdown",
      "source": [
        "#### Incorporación al conjunto de datos original de las instancias no sintéticas"
      ],
      "metadata": {
        "id": "pkLiMnEE3yWu"
      }
    },
    {
      "cell_type": "markdown",
      "source": [
        "En primer lugar, evalúo la cantidad de instancias por clase que tengo en el dataset de entrenamiento:"
      ],
      "metadata": {
        "id": "Qxf5idG444_O"
      }
    },
    {
      "cell_type": "code",
      "source": [
        "instancias_por_clase = df_train.groupby(['clase'])['clase'].count()\n",
        "\n",
        "max_instancias = df_train.groupby(['clase'])['clase'].count().max()\n",
        "\n",
        "instancias_por_clase"
      ],
      "metadata": {
        "colab": {
          "base_uri": "https://localhost:8080/"
        },
        "id": "QpsgIC5T338-",
        "outputId": "5196914c-7f39-4456-cd2c-b35c7ba6ec84"
      },
      "execution_count": 11,
      "outputs": [
        {
          "output_type": "execute_result",
          "data": {
            "text/plain": [
              "clase\n",
              "Boleto Universitario                   193\n",
              "Cambio de Carrera                       11\n",
              "Cambio de Comisión                       8\n",
              "Consulta por Equivalencias              10\n",
              "Consulta por Legajo                     15\n",
              "Consulta sobre Título Universitario     10\n",
              "Cursadas                                75\n",
              "Datos Personales                         6\n",
              "Exámenes                                18\n",
              "Ingreso a la Universidad               135\n",
              "Pedido de Certificados                  59\n",
              "Problemas con la Clave                  91\n",
              "Reincorporación                         43\n",
              "Requisitos de Ingreso                   98\n",
              "Simultaneidad de Carreras                6\n",
              "Situación Académica                     22\n",
              "Name: clase, dtype: int64"
            ]
          },
          "metadata": {},
          "execution_count": 11
        }
      ]
    },
    {
      "cell_type": "code",
      "source": [
        "X_train = []\n",
        "y_train = []\n",
        "\n",
        "for clase in etiquetas:\n",
        "  # Calculo la cantidad de instancias a agregar según la necesidad y disponibilidad\n",
        "  cantidad = min(max_instancias - instancias_por_clase[clase], cantidad_balanceo[clase])\n",
        "  # Las selecciono\n",
        "  instancias_clase = join_consultas.loc[join_consultas['clase'] == clase][['consulta', 'clase']].head(cantidad)\n",
        "\n",
        "  # Las agrego\n",
        "  df_train = df_train.append(instancias_clase, ignore_index=True)\n",
        "  print(f'{clase}: {cantidad}')"
      ],
      "metadata": {
        "colab": {
          "base_uri": "https://localhost:8080/"
        },
        "id": "bin4D_qG7S5n",
        "outputId": "11b78420-1eab-4248-ee63-0079056be2d2"
      },
      "execution_count": 12,
      "outputs": [
        {
          "output_type": "stream",
          "name": "stdout",
          "text": [
            "Boleto Universitario: 0\n",
            "Cambio de Carrera: 68\n",
            "Cambio de Comisión: 95\n",
            "Consulta por Equivalencias: 38\n",
            "Consulta por Legajo: 84\n",
            "Consulta sobre Título Universitario: 68\n",
            "Cursadas: 28\n",
            "Datos Personales: 54\n",
            "Exámenes: 82\n",
            "Ingreso a la Universidad: 58\n",
            "Pedido de Certificados: 134\n",
            "Problemas con la Clave: 102\n",
            "Reincorporación: 21\n",
            "Requisitos de Ingreso: 95\n",
            "Simultaneidad de Carreras: 70\n",
            "Situación Académica: 47\n"
          ]
        }
      ]
    },
    {
      "cell_type": "markdown",
      "source": [
        "Verifico la cantidad de instancias finales por clase:"
      ],
      "metadata": {
        "id": "DiN179eKHo51"
      }
    },
    {
      "cell_type": "code",
      "source": [
        "distribucion_clases_final = df_train.groupby(['clase'])['clase'].count()"
      ],
      "metadata": {
        "id": "BxqoT2LCHhlS"
      },
      "execution_count": 13,
      "outputs": []
    },
    {
      "cell_type": "code",
      "source": [
        "# Calculo la media\n",
        "media = int(distribucion_clases_final.mean())\n",
        "print(f'La media de instancias es {media}.')\n",
        "\n",
        "MEDIA = False\n",
        "\n",
        "if MEDIA:\n",
        "  # Tomo la media de instancias como máximo\n",
        "  df_train = df_train.sort_values(['clase']).groupby('clase').head(media).reset_index(drop=True)  "
      ],
      "metadata": {
        "colab": {
          "base_uri": "https://localhost:8080/"
        },
        "id": "oOFKZiS-tX4w",
        "outputId": "7e526adc-b8ad-482f-d6b3-bea4316b045b"
      },
      "execution_count": 14,
      "outputs": [
        {
          "output_type": "stream",
          "name": "stdout",
          "text": [
            "La media de instancias es 115.\n"
          ]
        }
      ]
    },
    {
      "cell_type": "markdown",
      "source": [
        "Grafico la serie resultante con el balanceo:"
      ],
      "metadata": {
        "id": "aXv32qJdOj_i"
      }
    },
    {
      "cell_type": "code",
      "source": [
        "import matplotlib.pyplot as plt\n",
        "import seaborn as sns\n",
        "import numpy as np\n",
        "%matplotlib inline\n",
        "\n",
        "def hist_clases(serie_clases, desc_plot, filename_plot):\n",
        "  \"\"\"\n",
        "  Se plotean las clases en función de la distribución de la frecuencia\n",
        "  observada en cada dataset\n",
        "  \"\"\"\n",
        "\n",
        "  # Set figure size\n",
        "  plt.figure(figsize=(14,5))\n",
        "\n",
        "  ax = sns.histplot(serie_clases, kde=True, stat='count', \n",
        "                    bins=serie_clases.unique(), binwidth=0.06, \n",
        "                    palette=\"viridis\", alpha=0.7)\n",
        "\n",
        "  ax.set_xticklabels(serie_clases.unique(),\n",
        "                    rotation=-45, \n",
        "                    horizontalalignment='left', fontweight='light')\n",
        "\n",
        "  for p in ax.patches:\n",
        "      ax.annotate(f'{p.get_height():.0f}\\n',\n",
        "                  (p.get_x() + p.get_width() / 2, p.get_height()), \n",
        "                  ha='center', va='center', color='black')\n",
        "\n",
        "  # Quito el nombre de los ejes (de forma rústica)\n",
        "  plt.xlabel('', fontsize=12)\n",
        "  plt.ylabel('', fontsize=12)\n",
        "\n",
        "  # Guardo el plot en un png\n",
        "  plt.savefig(filename_plot, optimize=True, transparent=True, bbox_inches = 'tight')\n",
        "\n",
        "  # Muestro el gráfico con una descripción\n",
        "  print(f'\\t\\t\\tDistribución de clases para el {desc_plot}')\n",
        "  plt.show()  \n",
        "\n",
        "hist_clases(df_train['clase'], 'Total dataset', 'histograma_total.png')"
      ],
      "metadata": {
        "colab": {
          "base_uri": "https://localhost:8080/",
          "height": 456
        },
        "id": "YksklH6DOjbL",
        "outputId": "60d47528-0740-462f-e385-cdc0c4f96b7e"
      },
      "execution_count": 15,
      "outputs": [
        {
          "output_type": "stream",
          "name": "stdout",
          "text": [
            "\t\t\tDistribución de clases para el Total dataset\n"
          ]
        },
        {
          "output_type": "display_data",
          "data": {
            "text/plain": [
              "<Figure size 1008x360 with 1 Axes>"
            ],
            "image/png": "[encoded data removed]"
          },
          "metadata": {
            "needs_background": "light"
          }
        }
      ]
    },
    {
      "cell_type": "markdown",
      "source": [
        "Separo en train y test:"
      ],
      "metadata": {
        "id": "XdqJ81JgH1Fx"
      }
    },
    {
      "cell_type": "code",
      "source": [
        "consultas_train = list(df_train['consulta'])\n",
        "y_train = list(df_train['clase'])"
      ],
      "metadata": {
        "id": "uZR67N7mH0pk"
      },
      "execution_count": 16,
      "outputs": []
    },
    {
      "cell_type": "markdown",
      "source": [
        "### Corrector ortográfico\n",
        "\n",
        "Aplico el diccionario a las consultas a través de la clase:"
      ],
      "metadata": {
        "id": "y-uuscgXVYhY"
      }
    },
    {
      "cell_type": "code",
      "source": [
        "from spellchecker import SpellChecker\n",
        "\n",
        "# Creamos un objeto SpellChecker con el idioma español\n",
        "spell = SpellChecker(language='es')\n",
        "\n",
        "def corregir_ortografia(texto, spell):\n",
        "    \"\"\"\n",
        "    Esta función toma una cadena de texto en español y la corrige\n",
        "    ortográficamente utilizando la librería pyspellchecker.\n",
        "\n",
        "    :param texto: La cadena de texto a corregir.\n",
        "    :type texto: str\n",
        "    :return: La cadena de texto corregida ortográficamente.\n",
        "    :rtype: str\n",
        "    \"\"\"\n",
        "    \n",
        "    # Dividimos el texto en una lista de palabras\n",
        "    palabras = texto.split()\n",
        "    \n",
        "    # Inicializamos una lista vacía para guardar las palabras corregidas\n",
        "    palabras_corregidas = []\n",
        "    \n",
        "    # Recorremos cada palabra en la lista\n",
        "    for palabra in palabras:\n",
        "        # Corregimos la palabra usando el método correction() de SpellChecker\n",
        "        palabra_corregida = spell.correction(palabra)\n",
        "        \n",
        "        # Si la palabra corregida es None, agregamos la palabra original a la lista de palabras corregidas\n",
        "        if palabra_corregida is None:\n",
        "            palabras_corregidas.append(palabra)\n",
        "        else:\n",
        "            # Agregamos la palabra corregida a la lista de palabras corregidas\n",
        "            palabras_corregidas.append(palabra_corregida)\n",
        "    \n",
        "    # Unimos las palabras corregidas de nuevo en una cadena de texto\n",
        "    texto_corregido = ' '.join(palabras_corregidas)\n",
        "    \n",
        "    # Devolvemos la cadena de texto corregida\n",
        "    return texto_corregido\n",
        "\n",
        "\n",
        "for i in range(len(consultas_train)):\n",
        "    consultas_train[i] = corregir_ortografia(consultas_train[i], spell)\n",
        "\n",
        "for i in range(len(consultas_test)):\n",
        "    consultas_test[i] = corregir_ortografia(consultas_test[i], spell)\n"
      ],
      "metadata": {
        "id": "tiegfh0lYAxL"
      },
      "execution_count": 17,
      "outputs": []
    },
    {
      "cell_type": "markdown",
      "source": [
        "### Estrategia de representación de la consulta\n",
        "\n",
        "A continuación se representa la consulta a partir de features."
      ],
      "metadata": {
        "id": "gxsTgb26anF4"
      }
    },
    {
      "cell_type": "code",
      "source": [
        "from sklearn.feature_extraction.text import TfidfVectorizer\n",
        "\n",
        "vectorizer = TfidfVectorizer(analyzer='char', ngram_range=(3,4), token_pattern = '[\\w\\/\\%]+')\n",
        "\n",
        "X_train = vectorizer.fit_transform(consultas_train)\n",
        "X_test = vectorizer.transform(consultas_test)     \n",
        "\n",
        "# Esta función va dentro de un iterador entre las 5 estrategias   \n",
        "estrategia = '3-4-NGRAM-CHARS' \n",
        "print('Estrategia de representación: {}' . format(estrategia))"
      ],
      "metadata": {
        "colab": {
          "base_uri": "https://localhost:8080/"
        },
        "id": "2k5RzZxhamWm",
        "outputId": "f9e4b8a4-85e9-4b79-ce64-6805216631e4"
      },
      "execution_count": 18,
      "outputs": [
        {
          "output_type": "stream",
          "name": "stdout",
          "text": [
            "Estrategia de representación: 3-4-NGRAM-CHARS\n"
          ]
        }
      ]
    },
    {
      "cell_type": "markdown",
      "metadata": {
        "id": "fiAo2N8TX-ao"
      },
      "source": [
        "## Generación de Modelos\n",
        "\n",
        "Se generan modelos en función de los datos balanceados con la estrategia propuesta.\n",
        "\n",
        "Se define el espacio de búsqueda para el ajuste de hiperparámetros de todos los modelos:"
      ]
    },
    {
      "cell_type": "code",
      "metadata": {
        "id": "k3TOc1GcX-rg"
      },
      "source": [
        "BUSCA_MEJOR_MODELO = True\n",
        "\n",
        "if BUSCA_MEJOR_MODELO:\n",
        "  # Defino los parámetros para GridSearchCV\n",
        "  params_svm = {'C': [0.01, 0.1, 1], \n",
        "                'gamma': [0.1, 0.01],\n",
        "                'class_weight': [None, 'balanced'],\n",
        "                'kernel': ['rbf', 'linear', 'sigmoid']\n",
        "                }"
      ],
      "execution_count": 19,
      "outputs": []
    },
    {
      "cell_type": "markdown",
      "source": [
        "Se importan las librerías a utilizar:"
      ],
      "metadata": {
        "id": "ZK-F5MDkPc4z"
      }
    },
    {
      "cell_type": "code",
      "source": [
        "import time\n",
        "from sklearn.svm import SVC\n",
        "from sklearn.model_selection import GridSearchCV\n",
        "\n",
        "# Vemos un reporte de clasificación de varias métricas\n",
        "from imblearn.metrics import classification_report_imbalanced\n",
        "from sklearn.metrics import accuracy_score\n"
      ],
      "metadata": {
        "id": "ARDNCIIFPc_S"
      },
      "execution_count": 20,
      "outputs": []
    },
    {
      "cell_type": "markdown",
      "metadata": {
        "id": "lmnm8yPmYGAR"
      },
      "source": [
        "Se ejecuta el ajuste de hiperparámetros para cada estrategia de representación en función del espacio de búsqueda:"
      ]
    },
    {
      "cell_type": "code",
      "source": [
        "# Calculo la hora actual\n",
        "hora_actual = time.strftime('%H:%M:%S', time.localtime())\n",
        "\n",
        "grid_search=GridSearchCV(SVC(), param_grid=params_svm, cv=None, n_jobs=-1, verbose=3)\n",
        "grid_search.fit(X_train, y_train)\n",
        "\n",
        "# Se realizan las predicciones sobre el conjunto de validación\n",
        "predictions = grid_search.predict(X_test) \n",
        "\n",
        "# Modelo a \"mano\"\n",
        "#clf = SVC(C=0.1, class_weight='balanced', gamma=0.01, kernel='linear')\n",
        "#clf.fit(X_resampled, y_resampled)\n",
        "#clf.fit(X_train, y_train)\n",
        "# Genero las clases para los casos de prueba, según el modelo\n",
        "#predictions = clf.predict(X_test)"
      ],
      "metadata": {
        "colab": {
          "base_uri": "https://localhost:8080/"
        },
        "id": "G3A1WvPaenJH",
        "outputId": "f24fbbd7-18e0-4d87-9234-d9a95b7b41c5"
      },
      "execution_count": 21,
      "outputs": [
        {
          "output_type": "stream",
          "name": "stdout",
          "text": [
            "Fitting 5 folds for each of 36 candidates, totalling 180 fits\n"
          ]
        }
      ]
    },
    {
      "cell_type": "code",
      "source": [
        "print(classification_report_imbalanced(y_test, predictions, target_names=etiquetas))\n",
        "print(f'Accuracy: {accuracy_score(y_test, predictions)}')"
      ],
      "metadata": {
        "colab": {
          "base_uri": "https://localhost:8080/"
        },
        "id": "uf1ZVfbBjc87",
        "outputId": "d68823ce-1d4d-4ac5-bcda-05878e129639"
      },
      "execution_count": 22,
      "outputs": [
        {
          "output_type": "stream",
          "name": "stdout",
          "text": [
            "                                           pre       rec       spe        f1       geo       iba       sup\n",
            "\n",
            "               Boleto Universitario       1.00      0.98      1.00      0.99      0.99      0.98        48\n",
            "                  Cambio de Carrera       0.67      1.00      0.99      0.80      1.00      1.00         2\n",
            "                 Cambio de Comisión       1.00      1.00      1.00      1.00      1.00      1.00         2\n",
            "         Consulta por Equivalencias       1.00      0.67      1.00      0.80      0.82      0.64         3\n",
            "                Consulta por Legajo       0.50      0.67      0.99      0.57      0.81      0.64         3\n",
            "Consulta sobre Título Universitario       0.75      1.00      0.99      0.86      1.00      1.00         3\n",
            "                           Cursadas       0.53      0.89      0.92      0.67      0.91      0.82        19\n",
            "                   Datos Personales       0.00      0.00      0.99      0.00      0.00      0.00         2\n",
            "                           Exámenes       1.00      0.80      1.00      0.89      0.89      0.78         5\n",
            "           Ingreso a la Universidad       0.89      0.76      0.98      0.82      0.86      0.73        33\n",
            "             Pedido de Certificados       0.94      1.00      0.99      0.97      1.00      1.00        15\n",
            "             Problemas con la Clave       0.91      0.91      0.99      0.91      0.95      0.90        23\n",
            "                    Reincorporación       0.83      0.45      0.99      0.59      0.67      0.43        11\n",
            "              Requisitos de Ingreso       0.85      0.71      0.98      0.77      0.83      0.68        24\n",
            "          Simultaneidad de Carreras       0.00      0.00      0.99      0.00      0.00      0.00         1\n",
            "                Situación Académica       0.80      0.67      0.99      0.73      0.81      0.64         6\n",
            "\n",
            "                        avg / total       0.86      0.83      0.98      0.83      0.89      0.81       200\n",
            "\n",
            "Accuracy: 0.83\n"
          ]
        }
      ]
    },
    {
      "cell_type": "markdown",
      "source": [
        "## Matriz de confusión\n",
        "\n",
        "Se genera una matriz de confusión de uno de los modelos."
      ],
      "metadata": {
        "id": "VK-MDpoc6OFC"
      }
    },
    {
      "cell_type": "code",
      "metadata": {
        "id": "yUAbLleKZsS1",
        "colab": {
          "base_uri": "https://localhost:8080/",
          "height": 792
        },
        "outputId": "352b2345-fc94-468a-d7c8-8dc13ce5842f"
      },
      "source": [
        "def matriz_confusion(y_real, y_predictions):\n",
        "  \"\"\"\n",
        "  Grafica una matriz de confusión con seaborn en función de la clase observada\n",
        "  y la clase predicha.\n",
        "  \"\"\"\n",
        "\n",
        "  import numpy as np\n",
        "  from sklearn import metrics\n",
        "  import seaborn as sns\n",
        "  import matplotlib.pyplot as plt\n",
        "  \n",
        "  matriz_confusion = metrics.confusion_matrix(y_real, y_predictions).T\n",
        "  etiquetas = np.unique(y_real)\n",
        "\n",
        "  sns.set()\n",
        "  my_mask = np.zeros((matriz_confusion.shape[0], matriz_confusion.shape[0]), dtype=int)\n",
        "  for i in range(matriz_confusion.shape[0]):\n",
        "      for j in range(matriz_confusion.shape[0]):\n",
        "          my_mask[i][j] = matriz_confusion[i][j] == 0 \n",
        "    \n",
        "  fig_dims = (10, 10)\n",
        "  plt.subplots(figsize=fig_dims)\n",
        "\n",
        "  ax = sns.heatmap(matriz_confusion,\n",
        "                  xticklabels=etiquetas,\n",
        "                  annot=True, \n",
        "                  fmt=\"d\", \n",
        "                  linewidths=.5, \n",
        "                  cmap=\"Blues\", \n",
        "                  cbar=False, \n",
        "                  mask=my_mask, \n",
        "                  vmax=15)\n",
        "\n",
        "  plt.gcf().set_size_inches(10, 10)\n",
        "  plt.xticks(rotation=90, ha=\"center\")\n",
        "  plt.yticks(np.arange(len(etiquetas))+0.5, etiquetas, rotation='horizontal')\n",
        "\n",
        "  plt.xlabel('Clase Real')\n",
        "  plt.ylabel('Clase Predicha');\n",
        "\n",
        "  plt.show()\n",
        "\n",
        "matriz_confusion(y_test, predictions)"
      ],
      "execution_count": 23,
      "outputs": [
        {
          "output_type": "display_data",
          "data": {
            "text/plain": [
              "<Figure size 720x720 with 1 Axes>"
            ],
            "image/png": "[encoded data removed]"
          },
          "metadata": {}
        }
      ]
    },
    {
      "cell_type": "markdown",
      "metadata": {
        "id": "0a1K2447qjxE"
      },
      "source": [
        "# Referencias\n",
        "- imbalanced-learn documentation https://imbalanced-learn.org/\n",
        "- sklearn.model_selection.GridSearchCV https://scikit-learn.org/stable/modules/generated/sklearn.model_selection.GridSearchCV.html\n",
        "- ML Pipelines using scikit-learn and GridSearchCV https://medium.com/analytics-vidhya/ml-pipelines-using-scikit-learn-and-gridsearchcv-fe605a7f9e05"
      ]
    }
  ]
}