{
  "nbformat": 4,
  "nbformat_minor": 0,
  "metadata": {
    "colab": {
      "name": "undersampling.ipynb",
      "provenance": [],
      "collapsed_sections": [],
      "toc_visible": true,
      "include_colab_link": true
    },
    "kernelspec": {
      "name": "python3",
      "display_name": "Python 3"
    }
  },
  "cells": [
    {
      "cell_type": "markdown",
      "metadata": {
        "id": "view-in-github",
        "colab_type": "text"
      },
      "source": [
        "<a href=\"https://colab.research.google.com/github/jumafernandez/imbalanced_data/blob/main/notebooks/undersampling.ipynb\" target=\"_parent\"><img src=\"https://colab.research.google.com/assets/colab-badge.svg\" alt=\"Open In Colab\"/></a>"
      ]
    },
    {
      "cell_type": "markdown",
      "metadata": {
        "id": "5DuUrVBgeUso"
      },
      "source": [
        "# Evaluación de estrategias de Undersampling\n",
        "\n",
        "__Autor:__ Juan Manuel Fernandez\n",
        "\n",
        "__Objetivo:__ En esta notebook se prueban algunas de las estrategias más conocidas de under-sampling para el remuestreo de datasets a partir de la disminución de las instancias o muestras objetivo mayoritarias."
      ]
    },
    {
      "cell_type": "markdown",
      "metadata": {
        "id": "FBLanwDJVnFF"
      },
      "source": [
        "## Instalación y Carga de librerías y funciones útiles\n",
        "\n",
        "### Instalación de librerías\n",
        "\n",
        "Se instalan las librerías que no están en el entorno de Google Colab"
      ]
    },
    {
      "cell_type": "code",
      "metadata": {
        "colab": {
          "base_uri": "https://localhost:8080/"
        },
        "id": "644uDER_VnXj",
        "outputId": "4887dd73-73e6-405d-a63a-ee143360b47e"
      },
      "source": [
        "# Se instala gensim que es el que tiene el modelo Word2Vec\n",
        "!pip install requests\n",
        "!pip install wget\n",
        "!pip install -U imbalanced-learn"
      ],
      "execution_count": 1,
      "outputs": [
        {
          "output_type": "stream",
          "name": "stdout",
          "text": [
            "Looking in indexes: https://pypi.org/simple, https://us-python.pkg.dev/colab-wheels/public/simple/\n",
            "Requirement already satisfied: requests in /usr/local/lib/python3.7/dist-packages (2.23.0)\n",
            "Requirement already satisfied: certifi>=2017.4.17 in /usr/local/lib/python3.7/dist-packages (from requests) (2022.6.15)\n",
            "Requirement already satisfied: urllib3!=1.25.0,!=1.25.1,<1.26,>=1.21.1 in /usr/local/lib/python3.7/dist-packages (from requests) (1.24.3)\n",
            "Requirement already satisfied: chardet<4,>=3.0.2 in /usr/local/lib/python3.7/dist-packages (from requests) (3.0.4)\n",
            "Requirement already satisfied: idna<3,>=2.5 in /usr/local/lib/python3.7/dist-packages (from requests) (2.10)\n",
            "Looking in indexes: https://pypi.org/simple, https://us-python.pkg.dev/colab-wheels/public/simple/\n",
            "Collecting wget\n",
            "  Downloading wget-3.2.zip (10 kB)\n",
            "Building wheels for collected packages: wget\n",
            "  Building wheel for wget (setup.py) ... \u001b[?25l\u001b[?25hdone\n",
            "  Created wheel for wget: filename=wget-3.2-py3-none-any.whl size=9675 sha256=d7837864063203af961cf93889102af9b4db30b97b2ea1c6314f00ec2d35f7f9\n",
            "  Stored in directory: /root/.cache/pip/wheels/a1/b6/7c/0e63e34eb06634181c63adacca38b79ff8f35c37e3c13e3c02\n",
            "Successfully built wget\n",
            "Installing collected packages: wget\n",
            "Successfully installed wget-3.2\n",
            "Looking in indexes: https://pypi.org/simple, https://us-python.pkg.dev/colab-wheels/public/simple/\n",
            "Requirement already satisfied: imbalanced-learn in /usr/local/lib/python3.7/dist-packages (0.8.1)\n",
            "Collecting imbalanced-learn\n",
            "  Downloading imbalanced_learn-0.9.1-py3-none-any.whl (199 kB)\n",
            "\u001b[K     |████████████████████████████████| 199 kB 5.1 MB/s \n",
            "\u001b[?25hRequirement already satisfied: joblib>=1.0.0 in /usr/local/lib/python3.7/dist-packages (from imbalanced-learn) (1.1.0)\n",
            "  Downloading imbalanced_learn-0.9.0-py3-none-any.whl (199 kB)\n",
            "\u001b[K     |████████████████████████████████| 199 kB 42.6 MB/s \n",
            "\u001b[?25hRequirement already satisfied: scikit-learn>=1.0.1 in /usr/local/lib/python3.7/dist-packages (from imbalanced-learn) (1.0.2)\n",
            "Requirement already satisfied: numpy>=1.14.6 in /usr/local/lib/python3.7/dist-packages (from imbalanced-learn) (1.21.6)\n",
            "Requirement already satisfied: threadpoolctl>=2.0.0 in /usr/local/lib/python3.7/dist-packages (from imbalanced-learn) (3.1.0)\n",
            "Requirement already satisfied: scipy>=1.1.0 in /usr/local/lib/python3.7/dist-packages (from imbalanced-learn) (1.7.3)\n",
            "Installing collected packages: imbalanced-learn\n",
            "  Attempting uninstall: imbalanced-learn\n",
            "    Found existing installation: imbalanced-learn 0.8.1\n",
            "    Uninstalling imbalanced-learn-0.8.1:\n",
            "      Successfully uninstalled imbalanced-learn-0.8.1\n",
            "Successfully installed imbalanced-learn-0.9.0\n"
          ]
        }
      ]
    },
    {
      "cell_type": "markdown",
      "metadata": {
        "id": "43fDuhK2V1kx"
      },
      "source": [
        "### Funciones útiles\n",
        "\n",
        "Se cargan funciones útiles desde el repo https://github.com/jumafernandez/clasificacion_correos para la carga del dataset."
      ]
    },
    {
      "cell_type": "code",
      "metadata": {
        "id": "oQvZz035bSMf"
      },
      "source": [
        "import requests\n",
        "\n",
        "# Se hace el request del raw del script python\n",
        "url = 'https://raw.githubusercontent.com/jumafernandez/clasificacion_correos/main/tesis/scripts/semi-supervisado/funciones_dataset.py'\n",
        "r = requests.get(url)\n",
        "\n",
        "# Se guarda en el working directory\n",
        "with open('funciones_dataset.py', 'w') as f:\n",
        "    f.write(r.text)\n",
        "\n",
        "# Se importan las funciones a utilizar\n",
        "from funciones_dataset import get_clases, cargar_dataset, consolidar_df"
      ],
      "execution_count": 2,
      "outputs": []
    },
    {
      "cell_type": "markdown",
      "metadata": {
        "id": "MDxjaGIfV-rT"
      },
      "source": [
        "También se carga la función para preprocesar el texto que se usó en los otros modelos desde el repo: https://github.com/jumafernandez/clasificacion_correos."
      ]
    },
    {
      "cell_type": "code",
      "metadata": {
        "id": "o0o2NndLWDVC"
      },
      "source": [
        "import requests\n",
        "\n",
        "# Se hace el request del raw del script python\n",
        "url = 'https://raw.githubusercontent.com/jumafernandez/clasificacion_correos/main/tesis/scripts/supervisado/funciones_preprocesamiento.py'\n",
        "r = requests.get(url)\n",
        "\n",
        "# Se guarda en el working directory\n",
        "with open('funciones_preprocesamiento.py', 'w') as f:\n",
        "    f.write(r.text)\n",
        "\n",
        "# Se importan las funciones a utilizar\n",
        "from funciones_preprocesamiento import preprocesar_correos"
      ],
      "execution_count": 3,
      "outputs": []
    },
    {
      "cell_type": "markdown",
      "source": [
        "Y las utilizadas para la representación de documentos."
      ],
      "metadata": {
        "id": "L4_vfJr5b0g8"
      }
    },
    {
      "cell_type": "code",
      "source": [
        "import requests\n",
        "\n",
        "# Se hace el request del raw del script python\n",
        "url = 'https://raw.githubusercontent.com/jumafernandez/clasificacion_correos/main/tesis/scripts/supervisado/funciones_clasificacion_texto.py'\n",
        "r = requests.get(url)\n",
        "\n",
        "# Se guarda en el working directory\n",
        "with open('funciones_clasificacion_texto.py', 'w') as f:\n",
        "    f.write(r.text)\n",
        "\n",
        "# Se importan las funciones a utilizar\n",
        "from funciones_clasificacion_texto import representacion_documentos"
      ],
      "metadata": {
        "id": "Tje0k3ppbz1N"
      },
      "execution_count": 4,
      "outputs": []
    },
    {
      "cell_type": "markdown",
      "metadata": {
        "id": "-uv6R5UQWWmE"
      },
      "source": [
        "### Carga de datos\n",
        "\n",
        "Se carga el dataframe en memoria con el preprocesamiento de los datos:"
      ]
    },
    {
      "cell_type": "code",
      "metadata": {
        "colab": {
          "base_uri": "https://localhost:8080/"
        },
        "id": "MP4lJ_KVvBSO",
        "outputId": "9797eeb8-d6ca-4faf-a224-09cf4438fec0"
      },
      "source": [
        "import warnings\n",
        "from os import path\n",
        "import pandas as pd\n",
        "warnings.filterwarnings(\"ignore\")\n",
        "\n",
        "# Constantes con los datos\n",
        "DS_DIR = 'https://raw.githubusercontent.com/jumafernandez/clasificacion_correos/main/tesis/data/'\n",
        "TRAIN_FILE = '02-01-correos-train-80.csv'\n",
        "TEST_FILE = '02-02-correos-test-20.csv'\n",
        "\n",
        "etiquetas = get_clases()\n",
        "\n",
        "# Chequeo sobre si los archivos están en el working directory\n",
        "if not(path.exists(TRAIN_FILE)):\n",
        "  # Genero el enlace completo\n",
        "  URL_file_train = DS_DIR + TRAIN_FILE\n",
        "  URL_file_test = DS_DIR + TEST_FILE\n",
        "  # Descargo los archivos\n",
        "  import wget\n",
        "  wget.download(URL_file_train)\n",
        "  wget.download(URL_file_test)\n",
        "  \n",
        "# Leemos el archivo en un dataframe\n",
        "df_train = pd.read_csv(TRAIN_FILE)\n",
        "df_test = pd.read_csv(TEST_FILE)\n",
        "\n",
        "# Se ejecuta el preprocesamiento de correos sobre el campo Consulta de train y test\n",
        "import pandas as pd\n",
        "consultas_train = list(preprocesar_correos(df_train['consulta']))\n",
        "consultas_test = list(preprocesar_correos(df_test['consulta']))\n",
        "\n",
        "print(f\"\\nEl conjunto de entrenamiento tiene la dimensión: {len(consultas_train)}.\")\n",
        "print(f\"El conjunto de testeo tiene la dimensión: {len(consultas_test)}.\")\n",
        "\n",
        "y_train = list(df_train['clase'])\n",
        "y_test = list(df_test['clase'])"
      ],
      "execution_count": 5,
      "outputs": [
        {
          "output_type": "stream",
          "name": "stdout",
          "text": [
            "\n",
            "El conjunto de entrenamiento tiene la dimensión: 800.\n",
            "El conjunto de testeo tiene la dimensión: 200.\n"
          ]
        }
      ]
    },
    {
      "cell_type": "markdown",
      "source": [
        "### Estrategia de representación de la consulta\n",
        "\n",
        "A continuación se representa la consulta a partir de features."
      ],
      "metadata": {
        "id": "gxsTgb26anF4"
      }
    },
    {
      "cell_type": "code",
      "source": [
        "from sklearn.feature_extraction.text import CountVectorizer, TfidfVectorizer\n",
        "\n",
        "vectorizer = TfidfVectorizer(analyzer='char', ngram_range=(3,4), token_pattern = '[\\w\\/\\%]+')\n",
        "\n",
        "X_train = vectorizer.fit_transform(consultas_train)\n",
        "X_test = vectorizer.transform(consultas_test)     \n",
        "\n",
        "# Esta función va dentro de un iterador entre las 5 estrategias   \n",
        "estrategia = '3-4-NGRAM-CHARS' \n",
        "print('Estrategia de representación: {}' . format(estrategia))"
      ],
      "metadata": {
        "colab": {
          "base_uri": "https://localhost:8080/"
        },
        "id": "2k5RzZxhamWm",
        "outputId": "ca3b74cc-2267-4751-a2c6-008d0cf8d052"
      },
      "execution_count": 6,
      "outputs": [
        {
          "output_type": "stream",
          "name": "stdout",
          "text": [
            "Estrategia de representación: 3-4-NGRAM-CHARS\n"
          ]
        }
      ]
    },
    {
      "cell_type": "markdown",
      "metadata": {
        "id": "17obw6uxVN21"
      },
      "source": [
        "## Estrategias de Under-sampling\n",
        "\n",
        "Se trabaja con las estrategias de under-sampling."
      ]
    },
    {
      "cell_type": "markdown",
      "source": [
        "### RandomUnderSampler (Prototype selection)\n",
        "\n",
        "RandomUnderSampler es una forma rápida y sencilla de equilibrar los datos seleccionando aleatoriamente un subconjunto de datos para las clases objetivo."
      ],
      "metadata": {
        "id": "_64hGnJ_uS0v"
      }
    },
    {
      "cell_type": "code",
      "source": [
        "from imblearn.under_sampling import RandomUnderSampler\n",
        "\n",
        "rus = RandomUnderSampler(random_state=0)\n",
        "\n",
        "X_resampled_rus, y_resampled_rus = rus.fit_resample(X_train, y_train)"
      ],
      "metadata": {
        "id": "HMPb2LHjbipg"
      },
      "execution_count": 7,
      "outputs": []
    },
    {
      "cell_type": "code",
      "source": [
        "import numpy as np\n",
        "\n",
        "unique, counts = np.unique(y_resampled_rus, return_counts=True)\n",
        "\n",
        "np.asarray((unique, counts)).T"
      ],
      "metadata": {
        "colab": {
          "base_uri": "https://localhost:8080/"
        },
        "id": "kumk29Gmu9qx",
        "outputId": "9de7224c-8f93-4af1-d6eb-de3ce55b23ad"
      },
      "execution_count": 8,
      "outputs": [
        {
          "output_type": "execute_result",
          "data": {
            "text/plain": [
              "array([['Boleto Universitario', '6'],\n",
              "       ['Cambio de Carrera', '6'],\n",
              "       ['Cambio de Comisión', '6'],\n",
              "       ['Consulta por Equivalencias', '6'],\n",
              "       ['Consulta por Legajo', '6'],\n",
              "       ['Consulta sobre Título Universitario', '6'],\n",
              "       ['Cursadas', '6'],\n",
              "       ['Datos Personales', '6'],\n",
              "       ['Exámenes', '6'],\n",
              "       ['Ingreso a la Universidad', '6'],\n",
              "       ['Pedido de Certificados', '6'],\n",
              "       ['Problemas con la Clave', '6'],\n",
              "       ['Reincorporación', '6'],\n",
              "       ['Requisitos de Ingreso', '6'],\n",
              "       ['Simultaneidad de Carreras', '6'],\n",
              "       ['Situación Académica', '6']], dtype='<U35')"
            ]
          },
          "metadata": {},
          "execution_count": 8
        }
      ]
    },
    {
      "cell_type": "markdown",
      "source": [
        "### ClusterCentroids (Prototype generation)\n",
        "\n",
        "ClusterCentroids utiliza K-means para reducir el número de muestras. Por lo tanto, cada clase se sintetizará con los centroides del método K-means en lugar de las muestras originales."
      ],
      "metadata": {
        "id": "Q56P8R7DaIfB"
      }
    },
    {
      "cell_type": "code",
      "source": [
        "from imblearn.under_sampling import ClusterCentroids\n",
        "\n",
        "cc = ClusterCentroids(random_state=0)\n",
        "\n",
        "X_resampled_cc, y_resampled_cc = cc.fit_resample(X_train, y_train)"
      ],
      "metadata": {
        "id": "lKpdGZB1WZZs"
      },
      "execution_count": 9,
      "outputs": []
    },
    {
      "cell_type": "code",
      "source": [
        "import numpy as np\n",
        "\n",
        "unique, counts = np.unique(y_resampled_cc, return_counts=True)\n",
        "\n",
        "np.asarray((unique, counts)).T"
      ],
      "metadata": {
        "colab": {
          "base_uri": "https://localhost:8080/"
        },
        "id": "_bFGW5FpxGx8",
        "outputId": "eb00a3ee-3358-4f5e-fce5-270ed0e844b4"
      },
      "execution_count": 10,
      "outputs": [
        {
          "output_type": "execute_result",
          "data": {
            "text/plain": [
              "array([['Boleto Universitario', '6'],\n",
              "       ['Cambio de Carrera', '6'],\n",
              "       ['Cambio de Comisión', '6'],\n",
              "       ['Consulta por Equivalencias', '6'],\n",
              "       ['Consulta por Legajo', '6'],\n",
              "       ['Consulta sobre Título Universitario', '6'],\n",
              "       ['Cursadas', '6'],\n",
              "       ['Datos Personales', '6'],\n",
              "       ['Exámenes', '6'],\n",
              "       ['Ingreso a la Universidad', '6'],\n",
              "       ['Pedido de Certificados', '6'],\n",
              "       ['Problemas con la Clave', '6'],\n",
              "       ['Reincorporación', '6'],\n",
              "       ['Requisitos de Ingreso', '6'],\n",
              "       ['Simultaneidad de Carreras', '6'],\n",
              "       ['Situación Académica', '6']], dtype='<U35')"
            ]
          },
          "metadata": {},
          "execution_count": 10
        }
      ]
    },
    {
      "cell_type": "markdown",
      "source": [
        "### EditedNearestNeighbours\n",
        "\n",
        "Aplica un algoritmo de vecinos más cercanos y \"edita\" el conjunto de datos eliminando las muestras que no coinciden \"suficientemente\" con su vecindad. Para cada muestra de la clase que se va a submuestrear, se calculan los vecinos más cercanos y, si no se cumple el criterio de selección, se elimina la muestra."
      ],
      "metadata": {
        "id": "N2pE0UsI4_lA"
      }
    },
    {
      "cell_type": "code",
      "source": [
        "from imblearn.under_sampling import EditedNearestNeighbours\n",
        "\n",
        "enn = EditedNearestNeighbours()\n",
        "\n",
        "X_resampled_enn, y_resampled_enn = enn.fit_resample(X_train, y_train)"
      ],
      "metadata": {
        "id": "oTA_GCHTc9Iz"
      },
      "execution_count": 11,
      "outputs": []
    },
    {
      "cell_type": "code",
      "source": [
        "import numpy as np\n",
        "\n",
        "unique, counts = np.unique(y_resampled_enn, return_counts=True)\n",
        "\n",
        "np.asarray((unique, counts)).T"
      ],
      "metadata": {
        "colab": {
          "base_uri": "https://localhost:8080/"
        },
        "id": "MlFqi5j65BJ-",
        "outputId": "83cccbc6-b517-4346-baf7-fb282a2d20ba"
      },
      "execution_count": 16,
      "outputs": [
        {
          "output_type": "execute_result",
          "data": {
            "text/plain": [
              "array([['Boleto Universitario', '167'],\n",
              "       ['Cambio de Comisión', '3'],\n",
              "       ['Consulta por Equivalencias', '4'],\n",
              "       ['Consulta por Legajo', '1'],\n",
              "       ['Consulta sobre Título Universitario', '1'],\n",
              "       ['Cursadas', '6'],\n",
              "       ['Datos Personales', '6'],\n",
              "       ['Ingreso a la Universidad', '54'],\n",
              "       ['Pedido de Certificados', '41'],\n",
              "       ['Problemas con la Clave', '41'],\n",
              "       ['Reincorporación', '4'],\n",
              "       ['Requisitos de Ingreso', '41'],\n",
              "       ['Simultaneidad de Carreras', '3'],\n",
              "       ['Situación Académica', '3']], dtype='<U35')"
            ]
          },
          "metadata": {},
          "execution_count": 16
        }
      ]
    },
    {
      "cell_type": "markdown",
      "metadata": {
        "id": "fiAo2N8TX-ao"
      },
      "source": [
        "## Generación de Modelos\n",
        "\n",
        "Se generan modelos en función de los datos originales como así también a partir de las estrategias de oversampling.\n",
        "\n",
        "Se define el espacio de búsqueda para el ajuste de hiperparámetros de todos los modelos:"
      ]
    },
    {
      "cell_type": "code",
      "metadata": {
        "id": "k3TOc1GcX-rg"
      },
      "source": [
        "BUSCA_MEJOR_MODELO = True\n",
        "\n",
        "if BUSCA_MEJOR_MODELO:\n",
        "  # Defino los parámetros para GridSearchCV\n",
        "  params_svm = {'C': [0.01, 0.1, 1], \n",
        "                'gamma': [0.1, 0.01],\n",
        "                'class_weight': [None, 'balanced'],\n",
        "                'kernel': ['rbf', 'linear', 'sigmoid']\n",
        "                }"
      ],
      "execution_count": 17,
      "outputs": []
    },
    {
      "cell_type": "markdown",
      "source": [
        "Se importan las librerías a utilizar:"
      ],
      "metadata": {
        "id": "ZK-F5MDkPc4z"
      }
    },
    {
      "cell_type": "code",
      "source": [
        "import time\n",
        "from sklearn.svm import SVC\n",
        "from sklearn.model_selection import GridSearchCV\n",
        "\n",
        "# Vemos un reporte de clasificación de varias métricas\n",
        "from imblearn.metrics import classification_report_imbalanced\n",
        "from sklearn.metrics import accuracy_score\n"
      ],
      "metadata": {
        "id": "ARDNCIIFPc_S"
      },
      "execution_count": 18,
      "outputs": []
    },
    {
      "cell_type": "markdown",
      "metadata": {
        "id": "lmnm8yPmYGAR"
      },
      "source": [
        "### Modelo con dataset original, sin remuestreo\n",
        "\n",
        "Se ejecuta el ajuste de hiperparámetros para cada estrategia de representación en función del espacio de búsqueda:"
      ]
    },
    {
      "cell_type": "code",
      "source": [
        "# Calculo la hora actual\n",
        "hora_actual = time.strftime('%H:%M:%S', time.localtime())\n",
        "\n",
        "grid_search=GridSearchCV(SVC(), param_grid=params_svm, cv=None, n_jobs=-1, verbose=3)\n",
        "grid_search.fit(X_train, y_train)\n",
        "\n",
        "# Se realizan las predicciones sobre el conjunto de validación\n",
        "predictions = grid_search.predict(X_test) \n",
        "\n",
        "# Modelo a \"mano\"\n",
        "#clf = SVC(C=0.1, class_weight='balanced', gamma=0.01, kernel='linear')\n",
        "#clf.fit(X_resampled, y_resampled)\n",
        "#clf.fit(X_train, y_train)\n",
        "# Genero las clases para los casos de prueba, según el modelo\n",
        "#predictions = clf.predict(X_test)"
      ],
      "metadata": {
        "colab": {
          "base_uri": "https://localhost:8080/"
        },
        "id": "G3A1WvPaenJH",
        "outputId": "d598de77-0cbc-4781-c77a-95b28a8a48c6"
      },
      "execution_count": 19,
      "outputs": [
        {
          "output_type": "stream",
          "name": "stdout",
          "text": [
            "Fitting 5 folds for each of 36 candidates, totalling 180 fits\n"
          ]
        }
      ]
    },
    {
      "cell_type": "code",
      "source": [
        "print(classification_report_imbalanced(y_test, predictions, target_names=etiquetas))\n",
        "print(f'Accuracy: {accuracy_score(y_test, predictions)}')"
      ],
      "metadata": {
        "colab": {
          "base_uri": "https://localhost:8080/"
        },
        "id": "uf1ZVfbBjc87",
        "outputId": "aa04d51f-6ab9-4d89-c6c5-9be61b6f3f7e"
      },
      "execution_count": 20,
      "outputs": [
        {
          "output_type": "stream",
          "name": "stdout",
          "text": [
            "                                           pre       rec       spe        f1       geo       iba       sup\n",
            "\n",
            "               Boleto Universitario       1.00      0.98      1.00      0.99      0.99      0.98        48\n",
            "                  Cambio de Carrera       0.00      0.00      0.99      0.00      0.00      0.00         2\n",
            "                 Cambio de Comisión       0.00      0.00      1.00      0.00      0.00      0.00         2\n",
            "         Consulta por Equivalencias       1.00      0.33      1.00      0.50      0.58      0.31         3\n",
            "                Consulta por Legajo       0.75      1.00      0.99      0.86      1.00      1.00         3\n",
            "Consulta sobre Título Universitario       0.50      0.33      0.99      0.40      0.58      0.31         3\n",
            "                           Cursadas       0.47      0.89      0.90      0.62      0.89      0.80        19\n",
            "                   Datos Personales       0.00      0.00      1.00      0.00      0.00      0.00         2\n",
            "                           Exámenes       1.00      0.60      1.00      0.75      0.77      0.58         5\n",
            "           Ingreso a la Universidad       0.84      0.79      0.97      0.81      0.87      0.75        33\n",
            "             Pedido de Certificados       0.94      1.00      0.99      0.97      1.00      1.00        15\n",
            "             Problemas con la Clave       0.92      0.96      0.99      0.94      0.97      0.94        23\n",
            "                    Reincorporación       0.73      0.73      0.98      0.73      0.85      0.70        11\n",
            "              Requisitos de Ingreso       0.84      0.67      0.98      0.74      0.81      0.63        24\n",
            "          Simultaneidad de Carreras       0.00      0.00      1.00      0.00      0.00      0.00         1\n",
            "                Situación Académica       0.60      0.50      0.99      0.55      0.70      0.47         6\n",
            "\n",
            "                        avg / total       0.82      0.81      0.98      0.80      0.87      0.78       200\n",
            "\n",
            "Accuracy: 0.81\n"
          ]
        }
      ]
    },
    {
      "cell_type": "markdown",
      "source": [
        "### Modelo con el undersampling de RamdomUnderSampler"
      ],
      "metadata": {
        "id": "CLzmbhBqkmRU"
      }
    },
    {
      "cell_type": "code",
      "source": [
        "# Calculo la hora actual\n",
        "hora_actual = time.strftime('%H:%M:%S', time.localtime())\n",
        "\n",
        "grid_search=GridSearchCV(SVC(), param_grid=params_svm, cv=None, n_jobs=-1, verbose=3)\n",
        "grid_search.fit(X_resampled_rus, y_resampled_rus)\n",
        "\n",
        "# Se realizan las predicciones sobre el conjunto de validación\n",
        "predictions = grid_search.predict(X_test)"
      ],
      "metadata": {
        "colab": {
          "base_uri": "https://localhost:8080/"
        },
        "id": "cRp-d49Uklvy",
        "outputId": "e6c5a801-e44e-4ce3-98f4-3783a93b7f9f"
      },
      "execution_count": 21,
      "outputs": [
        {
          "output_type": "stream",
          "name": "stdout",
          "text": [
            "Fitting 5 folds for each of 36 candidates, totalling 180 fits\n"
          ]
        }
      ]
    },
    {
      "cell_type": "code",
      "source": [
        "print(classification_report_imbalanced(y_test, predictions, target_names=etiquetas))\n",
        "print(f'Accuracy: {accuracy_score(y_test, predictions)}')"
      ],
      "metadata": {
        "id": "AsarHv69kyTY",
        "colab": {
          "base_uri": "https://localhost:8080/"
        },
        "outputId": "0922f3e0-7467-4c37-e9fd-e92f1240ca3d"
      },
      "execution_count": 22,
      "outputs": [
        {
          "output_type": "stream",
          "name": "stdout",
          "text": [
            "                                           pre       rec       spe        f1       geo       iba       sup\n",
            "\n",
            "               Boleto Universitario       0.92      0.92      0.97      0.92      0.94      0.89        48\n",
            "                  Cambio de Carrera       0.14      0.50      0.97      0.22      0.70      0.46         2\n",
            "                 Cambio de Comisión       0.00      0.00      1.00      0.00      0.00      0.00         2\n",
            "         Consulta por Equivalencias       1.00      0.67      1.00      0.80      0.82      0.64         3\n",
            "                Consulta por Legajo       0.40      0.67      0.98      0.50      0.81      0.64         3\n",
            "Consulta sobre Título Universitario       0.60      1.00      0.99      0.75      0.99      0.99         3\n",
            "                           Cursadas       0.52      0.68      0.93      0.59      0.80      0.62        19\n",
            "                   Datos Personales       0.00      0.00      0.94      0.00      0.00      0.00         2\n",
            "                           Exámenes       0.29      0.40      0.97      0.33      0.62      0.37         5\n",
            "           Ingreso a la Universidad       0.68      0.45      0.96      0.55      0.66      0.41        33\n",
            "             Pedido de Certificados       0.93      0.87      0.99      0.90      0.93      0.85        15\n",
            "             Problemas con la Clave       0.93      0.61      0.99      0.74      0.78      0.58        23\n",
            "                    Reincorporación       0.33      0.36      0.96      0.35      0.59      0.33        11\n",
            "              Requisitos de Ingreso       0.84      0.67      0.98      0.74      0.81      0.63        24\n",
            "          Simultaneidad de Carreras       0.00      0.00      0.99      0.00      0.00      0.00         1\n",
            "                Situación Académica       0.50      0.50      0.98      0.50      0.70      0.47         6\n",
            "\n",
            "                        avg / total       0.73      0.66      0.97      0.68      0.78      0.63       200\n",
            "\n",
            "Accuracy: 0.66\n"
          ]
        }
      ]
    },
    {
      "cell_type": "markdown",
      "source": [
        "### Modelo con el undersampling de ClusterCentroids"
      ],
      "metadata": {
        "id": "vBCmlZ-cvGCv"
      }
    },
    {
      "cell_type": "code",
      "source": [
        "# Calculo la hora actual\n",
        "hora_actual = time.strftime('%H:%M:%S', time.localtime())\n",
        "\n",
        "grid_search=GridSearchCV(SVC(), param_grid=params_svm, cv=None, n_jobs=-1, verbose=3)\n",
        "grid_search.fit(X_resampled_cc, y_resampled_cc)\n",
        "\n",
        "# Se realizan las predicciones sobre el conjunto de validación\n",
        "predictions = grid_search.predict(X_test)"
      ],
      "metadata": {
        "id": "P5wLQ7owvJcC",
        "colab": {
          "base_uri": "https://localhost:8080/"
        },
        "outputId": "7662fc1b-fb07-4dc3-8c57-0735f68619d8"
      },
      "execution_count": 23,
      "outputs": [
        {
          "output_type": "stream",
          "name": "stdout",
          "text": [
            "Fitting 5 folds for each of 36 candidates, totalling 180 fits\n"
          ]
        }
      ]
    },
    {
      "cell_type": "code",
      "source": [
        "print(classification_report_imbalanced(y_test, predictions, target_names=etiquetas))\n",
        "print(f'Accuracy: {accuracy_score(y_test, predictions)}')"
      ],
      "metadata": {
        "id": "a09Pd4xLvJfa",
        "outputId": "8da1ffa7-16b4-4d50-a31a-5eda14c1b9c2",
        "colab": {
          "base_uri": "https://localhost:8080/"
        }
      },
      "execution_count": 24,
      "outputs": [
        {
          "output_type": "stream",
          "name": "stdout",
          "text": [
            "                                           pre       rec       spe        f1       geo       iba       sup\n",
            "\n",
            "               Boleto Universitario       1.00      0.81      1.00      0.90      0.90      0.80        48\n",
            "                  Cambio de Carrera       0.20      1.00      0.96      0.33      0.98      0.96         2\n",
            "                 Cambio de Comisión       1.00      0.50      1.00      0.67      0.71      0.48         2\n",
            "         Consulta por Equivalencias       0.60      1.00      0.99      0.75      0.99      0.99         3\n",
            "                Consulta por Legajo       0.33      0.67      0.98      0.44      0.81      0.63         3\n",
            "Consulta sobre Título Universitario       0.60      1.00      0.99      0.75      0.99      0.99         3\n",
            "                           Cursadas       0.47      0.47      0.94      0.47      0.67      0.43        19\n",
            "                   Datos Personales       0.00      0.00      0.94      0.00      0.00      0.00         2\n",
            "                           Exámenes       0.17      0.20      0.97      0.18      0.44      0.18         5\n",
            "           Ingreso a la Universidad       0.76      0.58      0.96      0.66      0.75      0.53        33\n",
            "             Pedido de Certificados       0.93      0.87      0.99      0.90      0.93      0.85        15\n",
            "             Problemas con la Clave       0.88      0.61      0.99      0.72      0.78      0.58        23\n",
            "                    Reincorporación       0.55      0.55      0.97      0.55      0.73      0.51        11\n",
            "              Requisitos de Ingreso       0.76      0.54      0.98      0.63      0.73      0.51        24\n",
            "          Simultaneidad de Carreras       0.00      0.00      0.99      0.00      0.00      0.00         1\n",
            "                Situación Académica       0.31      0.67      0.95      0.42      0.80      0.62         6\n",
            "\n",
            "                        avg / total       0.75      0.65      0.98      0.68      0.78      0.62       200\n",
            "\n",
            "Accuracy: 0.645\n"
          ]
        }
      ]
    },
    {
      "cell_type": "markdown",
      "source": [
        "### Modelo con el undersampling de EditedNearestNeighbours"
      ],
      "metadata": {
        "id": "qIPrlR716HUD"
      }
    },
    {
      "cell_type": "code",
      "source": [
        "# Calculo la hora actual\n",
        "hora_actual = time.strftime('%H:%M:%S', time.localtime())\n",
        "\n",
        "grid_search=GridSearchCV(SVC(), param_grid=params_svm, cv=None, n_jobs=-1, verbose=3)\n",
        "grid_search.fit(X_resampled_enn, y_resampled_enn)\n",
        "\n",
        "# Se realizan las predicciones sobre el conjunto de validación\n",
        "predictions = grid_search.predict(X_test)"
      ],
      "metadata": {
        "id": "aF14fyvY6HeN",
        "outputId": "412b7850-14d6-4837-838a-476fdc320e2d",
        "colab": {
          "base_uri": "https://localhost:8080/"
        }
      },
      "execution_count": 25,
      "outputs": [
        {
          "output_type": "stream",
          "name": "stdout",
          "text": [
            "Fitting 5 folds for each of 36 candidates, totalling 180 fits\n"
          ]
        }
      ]
    },
    {
      "cell_type": "code",
      "source": [
        "print(classification_report_imbalanced(y_test, predictions, target_names=etiquetas))\n",
        "print(f'Accuracy: {accuracy_score(y_test, predictions)}')"
      ],
      "metadata": {
        "id": "oTK8MT916Hhf",
        "outputId": "d153849a-1756-4a5a-95a1-fbd150191e9e",
        "colab": {
          "base_uri": "https://localhost:8080/"
        }
      },
      "execution_count": 26,
      "outputs": [
        {
          "output_type": "stream",
          "name": "stdout",
          "text": [
            "                                           pre       rec       spe        f1       geo       iba       sup\n",
            "\n",
            "               Boleto Universitario       0.80      1.00      0.92      0.89      0.96      0.93        48\n",
            "                  Cambio de Carrera       0.00      0.00      1.00      0.00      0.00      0.00         2\n",
            "                 Cambio de Comisión       0.00      0.00      1.00      0.00      0.00      0.00         2\n",
            "         Consulta por Equivalencias       0.00      0.00      1.00      0.00      0.00      0.00         3\n",
            "                Consulta por Legajo       0.00      0.00      1.00      0.00      0.00      0.00         3\n",
            "Consulta sobre Título Universitario       0.00      0.00      1.00      0.00      0.00      0.00         3\n",
            "                           Cursadas       0.50      0.11      0.99      0.17      0.32      0.09        19\n",
            "                   Datos Personales       0.00      0.00      1.00      0.00      0.00      0.00         2\n",
            "                           Exámenes       0.00      0.00      1.00      0.00      0.00      0.00         5\n",
            "           Ingreso a la Universidad       0.41      0.82      0.77      0.55      0.79      0.63        33\n",
            "             Pedido de Certificados       0.78      0.93      0.98      0.85      0.96      0.91        15\n",
            "             Problemas con la Clave       0.81      0.96      0.97      0.88      0.96      0.93        23\n",
            "                    Reincorporación       0.50      0.09      0.99      0.15      0.30      0.08        11\n",
            "              Requisitos de Ingreso       0.82      0.75      0.98      0.78      0.86      0.72        24\n",
            "          Simultaneidad de Carreras       0.00      0.00      1.00      0.00      0.00      0.00         1\n",
            "                Situación Académica       1.00      0.17      1.00      0.29      0.41      0.15         6\n",
            "\n",
            "                        avg / total       0.61      0.67      0.93      0.60      0.71      0.61       200\n",
            "\n",
            "Accuracy: 0.665\n"
          ]
        }
      ]
    },
    {
      "cell_type": "markdown",
      "source": [
        "## Matriz de confusión\n",
        "\n",
        "Se genera una matriz de confusión de uno de los modelos."
      ],
      "metadata": {
        "id": "VK-MDpoc6OFC"
      }
    },
    {
      "cell_type": "code",
      "metadata": {
        "id": "yUAbLleKZsS1",
        "outputId": "b204861b-fc96-4fa0-da41-2c9c7c468988",
        "colab": {
          "base_uri": "https://localhost:8080/",
          "height": 792
        }
      },
      "source": [
        "def matriz_confusion(y_real, y_predictions):\n",
        "  \"\"\"\n",
        "  Grafica una matriz de confusión con seaborn en función de la clase observada\n",
        "  y la clase predicha.\n",
        "  \"\"\"\n",
        "\n",
        "  import numpy as np\n",
        "  from sklearn import metrics\n",
        "  import seaborn as sns\n",
        "  import matplotlib.pyplot as plt\n",
        "  \n",
        "  matriz_confusion = metrics.confusion_matrix(y_real, y_predictions).T\n",
        "  etiquetas = np.unique(y_real)\n",
        "\n",
        "  sns.set()\n",
        "  my_mask = np.zeros((matriz_confusion.shape[0], matriz_confusion.shape[0]), dtype=int)\n",
        "  for i in range(matriz_confusion.shape[0]):\n",
        "      for j in range(matriz_confusion.shape[0]):\n",
        "          my_mask[i][j] = matriz_confusion[i][j] == 0 \n",
        "    \n",
        "  fig_dims = (10, 10)\n",
        "  plt.subplots(figsize=fig_dims)\n",
        "\n",
        "  ax = sns.heatmap(matriz_confusion,\n",
        "                  xticklabels=etiquetas,\n",
        "                  annot=True, \n",
        "                  fmt=\"d\", \n",
        "                  linewidths=.5, \n",
        "                  cmap=\"Blues\", \n",
        "                  cbar=False, \n",
        "                  mask=my_mask, \n",
        "                  vmax=15)\n",
        "\n",
        "  plt.gcf().set_size_inches(10, 10)\n",
        "  plt.xticks(rotation=90, ha=\"center\")\n",
        "  plt.yticks(np.arange(len(etiquetas))+0.5, etiquetas, rotation='horizontal')\n",
        "\n",
        "  plt.xlabel('Clase Real')\n",
        "  plt.ylabel('Clase Predicha');\n",
        "\n",
        "  plt.show()\n",
        "\n",
        "matriz_confusion(y_test, predictions)"
      ],
      "execution_count": 28,
      "outputs": [
        {
          "output_type": "display_data",
          "data": {
            "text/plain": [
              "<Figure size 720x720 with 1 Axes>"
            ],
            "image/png": "[encoded data removed]"
          },
          "metadata": {}
        }
      ]
    },
    {
      "cell_type": "markdown",
      "metadata": {
        "id": "0a1K2447qjxE"
      },
      "source": [
        "# Referencias\n",
        "- imbalanced-learn documentation https://imbalanced-learn.org/\n",
        "- sklearn.model_selection.GridSearchCV https://scikit-learn.org/stable/modules/generated/sklearn.model_selection.GridSearchCV.html\n",
        "- ML Pipelines using scikit-learn and GridSearchCV https://medium.com/analytics-vidhya/ml-pipelines-using-scikit-learn-and-gridsearchcv-fe605a7f9e05"
      ]
    }
  ]
}